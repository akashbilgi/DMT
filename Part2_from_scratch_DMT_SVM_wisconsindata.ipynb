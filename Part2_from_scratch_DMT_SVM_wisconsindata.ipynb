{
  "nbformat": 4,
  "nbformat_minor": 0,
  "metadata": {
    "colab": {
      "provenance": [],
      "mount_file_id": "12vqG-43v6-y7_g52i10lsdbZVbO0V5Gd",
      "authorship_tag": "ABX9TyPKlFx5J0elBWu4fvRPBVVe",
      "include_colab_link": true
    },
    "kernelspec": {
      "name": "python3",
      "display_name": "Python 3"
    },
    "language_info": {
      "name": "python"
    }
  },
  "cells": [
    {
      "cell_type": "markdown",
      "metadata": {
        "id": "view-in-github",
        "colab_type": "text"
      },
      "source": [
        "<a href=\"https://colab.research.google.com/github/akashbilgi/DMT/blob/main/Part2_from_scratch_DMT_SVM_wisconsindata.ipynb\" target=\"_parent\"><img src=\"https://colab.research.google.com/assets/colab-badge.svg\" alt=\"Open In Colab\"/></a>"
      ]
    },
    {
      "cell_type": "code",
      "execution_count": 1,
      "metadata": {
        "id": "tQEC2dLTdOuO"
      },
      "outputs": [],
      "source": [
        "import numpy as np\n",
        "import pandas as pd\n",
        "import statsmodels.api as sm\n",
        "from sklearn.preprocessing import MinMaxScaler\n",
        "from sklearn.model_selection import train_test_split as tts\n",
        "from sklearn.metrics import accuracy_score, recall_score, precision_score\n",
        "from sklearn.utils import shuffle\n"
      ]
    },
    {
      "cell_type": "code",
      "source": [
        "print(\"data read\")\n",
        "data = pd.read_csv('/content/drive/MyDrive/data.csv')"
      ],
      "metadata": {
        "colab": {
          "base_uri": "https://localhost:8080/"
        },
        "id": "dlRu9RXTdo3_",
        "outputId": "68c4035a-6b6f-4c75-c246-b0d233808980"
      },
      "execution_count": 2,
      "outputs": [
        {
          "output_type": "stream",
          "name": "stdout",
          "text": [
            "data read\n"
          ]
        }
      ]
    },
    {
      "cell_type": "code",
      "source": [
        "data.drop(data.columns[[-1, 0]], axis=1, inplace=True)"
      ],
      "metadata": {
        "id": "FCCwIe2Fd55G"
      },
      "execution_count": 3,
      "outputs": []
    },
    {
      "cell_type": "code",
      "source": [
        "# convert categorical labels to numbers\n",
        "diag_map = {'M': 1.0, 'B': -1.0}\n",
        "data['diagnosis'] = data['diagnosis'].map(diag_map)"
      ],
      "metadata": {
        "id": "FLoj3ZVLd-TI"
      },
      "execution_count": 4,
      "outputs": []
    },
    {
      "cell_type": "code",
      "source": [
        "Y = data.loc[:, 'diagnosis']\n",
        "X = data.iloc[:, 1:]"
      ],
      "metadata": {
        "id": "V8IfZBlweBWw"
      },
      "execution_count": 5,
      "outputs": []
    },
    {
      "cell_type": "code",
      "source": [
        "def remove_correlated_features(data):\n",
        "    # Define a correlation threshold above which features are considered correlated\n",
        "    threshold = 0.9\n",
        "    \n",
        "    # Calculate the correlation matrix\n",
        "    corr_matrix = data.corr()\n",
        "    \n",
        "    # Create an array to mark which columns to drop\n",
        "    drop_columns = np.full(corr_matrix.shape[0], False, dtype=bool)\n",
        "    \n",
        "    # Iterate over the columns and compare their correlations to other columns\n",
        "    for i in range(corr_matrix.shape[0]):\n",
        "        for j in range(i + 1, corr_matrix.shape[0]):\n",
        "            # If two columns are highly correlated, mark one of them to be dropped\n",
        "            if corr_matrix.iloc[i, j] >= threshold:\n",
        "                drop_columns[j] = True\n",
        "                \n",
        "    # Get the names of the columns to be dropped\n",
        "    columns_to_drop = data.columns[drop_columns]\n",
        "    \n",
        "    # Drop the correlated columns from the data\n",
        "    data.drop(columns_to_drop, axis=1, inplace=True)\n",
        "    \n",
        "    # Return the names of the columns that were dropped\n",
        "    return columns_to_drop"
      ],
      "metadata": {
        "id": "SbdY15xKeb08"
      },
      "execution_count": 6,
      "outputs": []
    },
    {
      "cell_type": "code",
      "source": [
        "def remove_less_significant_features(X, Y):\n",
        "    significance_level = 0.05\n",
        "    ols_regression = None\n",
        "    dropped_columns = np.array([])\n",
        "    for itr in range(0, len(X.columns)):\n",
        "        # fit the Ordinary Least Squares (OLS) regression model and get the p-values\n",
        "        ols_regression = sm.OLS(Y, X).fit()\n",
        "        max_p_value_column = ols_regression.pvalues.idxmax()\n",
        "        max_p_value = ols_regression.pvalues.max()\n",
        "        if max_p_value > significance_level:\n",
        "            # drop the column with the highest p-value above the threshold\n",
        "            X.drop(max_p_value_column, axis='columns', inplace=True)\n",
        "            dropped_columns = np.append(dropped_columns, [max_p_value_column])\n",
        "        else:\n",
        "            # stop if no more columns with p-value above the threshold\n",
        "            break\n",
        "    # print the summary of the OLS regression model\n",
        "    ols_regression.summary()\n",
        "    return dropped_columns"
      ],
      "metadata": {
        "id": "c74ddUf4egC2"
      },
      "execution_count": 7,
      "outputs": []
    },
    {
      "cell_type": "code",
      "source": [
        "remove_correlated_features(X)\n",
        "remove_less_significant_features(X, Y)"
      ],
      "metadata": {
        "colab": {
          "base_uri": "https://localhost:8080/"
        },
        "id": "ttOoiylGeN8s",
        "outputId": "a5a1040b-5cbc-45e5-b98b-e97c66b54505"
      },
      "execution_count": 8,
      "outputs": [
        {
          "output_type": "execute_result",
          "data": {
            "text/plain": [
              "array(['smoothness_mean', 'compactness_worst', 'compactness_mean',\n",
              "       'radius_mean', 'texture_se', 'symmetry_se', 'smoothness_se',\n",
              "       'concavity_worst'], dtype='<U32')"
            ]
          },
          "metadata": {},
          "execution_count": 8
        }
      ]
    },
    {
      "cell_type": "code",
      "source": [
        "X_normalized = MinMaxScaler().fit_transform(X.values)\n",
        "X = pd.DataFrame(X_normalized)"
      ],
      "metadata": {
        "id": "DWA7pz5lyowg"
      },
      "execution_count": 9,
      "outputs": []
    },
    {
      "cell_type": "code",
      "source": [
        "X.insert(loc=len(X.columns), column='intercept', value=1)"
      ],
      "metadata": {
        "id": "l1C1QIKnyqUa"
      },
      "execution_count": 10,
      "outputs": []
    },
    {
      "cell_type": "code",
      "source": [
        "# data set is split into train and test\n",
        "X_train, X_test, y_train, y_test = tts(X, Y, test_size=0.2, random_state=42)"
      ],
      "metadata": {
        "id": "kTAgmjzNyuin"
      },
      "execution_count": 11,
      "outputs": []
    },
    {
      "cell_type": "code",
      "source": [
        "def svm(features, labels,cost_threshold = 0.01):\n",
        "    # Initialize weights to zeros\n",
        "    weights = np.zeros(features.shape[1])\n",
        "    pre_cost = float(\"inf\")\n",
        "    nth = 0\n",
        "    for epoch in range(1, epochs):\n",
        "        # Shuffle to prevent repeating update cycles\n",
        "        shuffled_features, shuffled_labels = shuffle(features, labels)\n",
        "        for index, feature in enumerate(shuffled_features):\n",
        "            # Calculate gradient of loss with respect to weights\n",
        "            gradient = calculate_loss_gradient(weights, feature, shuffled_labels[index])\n",
        "\n",
        "            # Update weights\n",
        "            weights = weights - (learn_rate * gradient)\n",
        "\n",
        "        # test if converging on nth sqr\n",
        "        if epoch == 2 ** nth or epoch == epochs - 1:\n",
        "            # Calculate cost\n",
        "            cost = compute_loss(weights, features, labels)\n",
        "            print(\"Epoch is: {} and Cost is: {}\".format(epoch, cost))\n",
        "            if abs(pre_cost - cost) < cost_threshold * pre_cost:\n",
        "                return weights\n",
        "            pre_cost = cost\n",
        "            nth += 1\n",
        "    return weights"
      ],
      "metadata": {
        "id": "2or_BVHRzHJ9"
      },
      "execution_count": 12,
      "outputs": []
    },
    {
      "cell_type": "code",
      "source": [
        "def calculate_loss_gradient(weights, features_batch, labels_batch):\n",
        "    # If only one example is passed (e.g. in case of stochastic gradient descent)\n",
        "    if type(labels_batch) == np.float64:\n",
        "        labels_batch = np.array([labels_batch])\n",
        "        features_batch = np.array([features_batch])  # Gives multidimensional array\n",
        "\n",
        "    distances = 1 - (labels_batch * np.dot(features_batch, weights))\n",
        "    gradient = np.zeros(len(weights))\n",
        "\n",
        "    for index, distance in enumerate(distances):\n",
        "        if max(0, distance) == 0:\n",
        "            gradient_increment = weights\n",
        "        else:\n",
        "            gradient_increment = weights - (regularization_param * labels_batch[index] * features_batch[index])\n",
        "        gradient += gradient_increment\n",
        "\n",
        "    gradient = gradient / len(labels_batch)  # Average\n",
        "    return gradient"
      ],
      "metadata": {
        "id": "YZ6uIGgbzMoa"
      },
      "execution_count": 13,
      "outputs": []
    },
    {
      "cell_type": "code",
      "source": [
        "def compute_loss(weights, features, labels):\n",
        "    num_samples = features.shape[0]\n",
        "    distances = 1 - labels * (np.dot(features, weights))\n",
        "    distances[distances < 0] = 0\n",
        "    hinge_loss = regularization_param * (np.sum(distances) / num_samples)\n",
        "    regularization_loss = 1 / 2 * np.dot(weights, weights)\n",
        "    cost = regularization_loss + hinge_loss\n",
        "    return cost"
      ],
      "metadata": {
        "id": "qs1cEoldzih2"
      },
      "execution_count": 14,
      "outputs": []
    },
    {
      "cell_type": "code",
      "source": [
        "epochs = 5000\n",
        "regularization_param = 10000\n",
        "learn_rate = 0.000001"
      ],
      "metadata": {
        "id": "ZDuTbCdHzUAH"
      },
      "execution_count": 15,
      "outputs": []
    },
    {
      "cell_type": "code",
      "source": [
        "y_train.to_numpy().shape"
      ],
      "metadata": {
        "colab": {
          "base_uri": "https://localhost:8080/"
        },
        "id": "f8632JxGEjR6",
        "outputId": "6647a98a-9b82-4af0-d603-3e2a5408de4b"
      },
      "execution_count": 16,
      "outputs": [
        {
          "output_type": "execute_result",
          "data": {
            "text/plain": [
              "(455,)"
            ]
          },
          "metadata": {},
          "execution_count": 16
        }
      ]
    },
    {
      "cell_type": "code",
      "source": [
        "    print(\"training started...\")\n",
        "    W = svm(X_train.to_numpy(), y_train.to_numpy())\n",
        "    print(\"training finished.\")\n",
        "    print(\"weights are: {}\".format(W))"
      ],
      "metadata": {
        "colab": {
          "base_uri": "https://localhost:8080/"
        },
        "id": "9-v5MduJy5Hq",
        "outputId": "d593cdca-0d8c-46d0-c3db-4762021d8c4d"
      },
      "execution_count": 17,
      "outputs": [
        {
          "output_type": "stream",
          "name": "stdout",
          "text": [
            "training started...\n",
            "Epoch is: 1 and Cost is: 7260.28533467402\n",
            "Epoch is: 2 and Cost is: 6552.066011071646\n",
            "Epoch is: 4 and Cost is: 5436.905374402511\n",
            "Epoch is: 8 and Cost is: 3872.7222082210196\n",
            "Epoch is: 16 and Cost is: 2652.612091643618\n",
            "Epoch is: 32 and Cost is: 1973.1549749831236\n",
            "Epoch is: 64 and Cost is: 1600.9729727115853\n",
            "Epoch is: 128 and Cost is: 1345.9894922340384\n",
            "Epoch is: 256 and Cost is: 1161.0563891462016\n",
            "Epoch is: 512 and Cost is: 1074.157750332031\n",
            "Epoch is: 1024 and Cost is: 1046.8632548356736\n",
            "Epoch is: 2048 and Cost is: 1040.8533265765\n",
            "training finished.\n",
            "weights are: [ 3.53675368 11.02953306 -2.29249249 -7.92214238 10.14832679 -1.29482236\n",
            " -6.44501479  2.23911226 -3.88772306  3.2394927   4.96826469  4.81821958\n",
            " -4.7239342 ]\n"
          ]
        }
      ]
    },
    {
      "cell_type": "code",
      "source": [
        "print(\"testing the model...\")\n",
        "y_train_predicted = np.array([])\n",
        "for i in range(X_train.shape[0]):\n",
        "    yp = np.sign(np.dot(X_train.to_numpy()[i], W))\n",
        "    y_train_predicted = np.append(y_train_predicted, yp)\n",
        "\n",
        "y_test_predicted = np.array([])\n",
        "for i in range(X_test.shape[0]):\n",
        "    yp = np.sign(np.dot(X_test.to_numpy()[i], W))\n",
        "    y_test_predicted = np.append(y_test_predicted, yp)\n"
      ],
      "metadata": {
        "colab": {
          "base_uri": "https://localhost:8080/"
        },
        "id": "HYiVeIIDy50n",
        "outputId": "510b3d39-e205-4e70-ba40-87c82208cba7"
      },
      "execution_count": 18,
      "outputs": [
        {
          "output_type": "stream",
          "name": "stdout",
          "text": [
            "testing the model...\n"
          ]
        }
      ]
    },
    {
      "cell_type": "code",
      "source": [
        "print(\"Accuracy score on the test dataset: {}\".format(accuracy_score(y_test, y_test_predicted)))\n",
        "print(\"Recall score on the test dataset: {}\".format(recall_score(y_test, y_test_predicted)))\n",
        "print(\"Precision score on the test dataset: {}\".format(precision_score(y_test, y_test_predicted)))\n"
      ],
      "metadata": {
        "colab": {
          "base_uri": "https://localhost:8080/"
        },
        "id": "MHjTI63EzzEy",
        "outputId": "773b1862-49a5-43ca-98ca-db25be48fc32"
      },
      "execution_count": 19,
      "outputs": [
        {
          "output_type": "stream",
          "name": "stdout",
          "text": [
            "Accuracy score on the test dataset: 0.9912280701754386\n",
            "Recall score on the test dataset: 0.9767441860465116\n",
            "Precision score on the test dataset: 1.0\n"
          ]
        }
      ]
    },
    {
      "cell_type": "code",
      "source": [],
      "metadata": {
        "id": "QW0xiADJcjRb"
      },
      "execution_count": 19,
      "outputs": []
    }
  ]
}