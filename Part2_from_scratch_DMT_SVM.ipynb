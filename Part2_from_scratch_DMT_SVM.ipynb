{
  "nbformat": 4,
  "nbformat_minor": 0,
  "metadata": {
    "colab": {
      "provenance": [],
      "mount_file_id": "12vqG-43v6-y7_g52i10lsdbZVbO0V5Gd",
      "authorship_tag": "ABX9TyMOy2zDVNYUQvfx+zyzcv/R",
      "include_colab_link": true
    },
    "kernelspec": {
      "name": "python3",
      "display_name": "Python 3"
    },
    "language_info": {
      "name": "python"
    }
  },
  "cells": [
    {
      "cell_type": "markdown",
      "metadata": {
        "id": "view-in-github",
        "colab_type": "text"
      },
      "source": [
        "<a href=\"https://colab.research.google.com/github/akashbilgi/DMT/blob/main/Part2_from_scratch_DMT_SVM.ipynb\" target=\"_parent\"><img src=\"https://colab.research.google.com/assets/colab-badge.svg\" alt=\"Open In Colab\"/></a>"
      ]
    },
    {
      "cell_type": "code",
      "execution_count": 1,
      "metadata": {
        "id": "tQEC2dLTdOuO"
      },
      "outputs": [],
      "source": [
        "import numpy as np\n",
        "import pandas as pd\n",
        "import statsmodels.api as sm\n",
        "from sklearn.preprocessing import MinMaxScaler\n",
        "from sklearn.model_selection import train_test_split as tts\n",
        "from sklearn.metrics import accuracy_score, recall_score, precision_score\n",
        "from sklearn.utils import shuffle\n"
      ]
    },
    {
      "cell_type": "code",
      "source": [
        "print(\"data read\")\n",
        "data = pd.read_csv('/content/drive/MyDrive/data.csv')"
      ],
      "metadata": {
        "colab": {
          "base_uri": "https://localhost:8080/"
        },
        "id": "dlRu9RXTdo3_",
        "outputId": "c6d070b7-2c19-4e9d-fb13-0ab0b101227b"
      },
      "execution_count": 2,
      "outputs": [
        {
          "output_type": "stream",
          "name": "stdout",
          "text": [
            "data read\n"
          ]
        }
      ]
    },
    {
      "cell_type": "code",
      "source": [
        "data.drop(data.columns[[-1, 0]], axis=1, inplace=True)"
      ],
      "metadata": {
        "id": "FCCwIe2Fd55G"
      },
      "execution_count": 3,
      "outputs": []
    },
    {
      "cell_type": "code",
      "source": [
        "# convert categorical labels to numbers\n",
        "diag_map = {'M': 1.0, 'B': -1.0}\n",
        "data['diagnosis'] = data['diagnosis'].map(diag_map)"
      ],
      "metadata": {
        "id": "FLoj3ZVLd-TI"
      },
      "execution_count": 4,
      "outputs": []
    },
    {
      "cell_type": "code",
      "source": [
        "Y = data.loc[:, 'diagnosis']\n",
        "X = data.iloc[:, 1:]"
      ],
      "metadata": {
        "id": "V8IfZBlweBWw"
      },
      "execution_count": 5,
      "outputs": []
    },
    {
      "cell_type": "code",
      "source": [],
      "metadata": {
        "id": "wDMPUJPM8di3"
      },
      "execution_count": 5,
      "outputs": []
    },
    {
      "cell_type": "code",
      "source": [
        "def remove_correlated_features(X):\n",
        "    corr_threshold = 0.9\n",
        "    corr = X.corr()\n",
        "    drop_columns = np.full(corr.shape[0], False, dtype=bool)\n",
        "    for i in range(corr.shape[0]):\n",
        "        for j in range(i + 1, corr.shape[0]):\n",
        "            if corr.iloc[i, j] >= corr_threshold:\n",
        "                drop_columns[j] = True\n",
        "    columns_dropped = X.columns[drop_columns]\n",
        "    X.drop(columns_dropped, axis=1, inplace=True)\n",
        "    return columns_dropped"
      ],
      "metadata": {
        "id": "SbdY15xKeb08"
      },
      "execution_count": 6,
      "outputs": []
    },
    {
      "cell_type": "code",
      "source": [
        "def remove_less_significant_features(X, Y):\n",
        "    sl = 0.05\n",
        "    regression_ols = None\n",
        "    columns_dropped = np.array([])\n",
        "    for itr in range(0, len(X.columns)):\n",
        "        regression_ols = sm.OLS(Y, X).fit()\n",
        "        max_col = regression_ols.pvalues.idxmax()\n",
        "        max_val = regression_ols.pvalues.max()\n",
        "        if max_val > sl:\n",
        "            X.drop(max_col, axis='columns', inplace=True)\n",
        "            columns_dropped = np.append(columns_dropped, [max_col])\n",
        "        else:\n",
        "            break\n",
        "    regression_ols.summary()\n",
        "    return columns_dropped"
      ],
      "metadata": {
        "id": "c74ddUf4egC2"
      },
      "execution_count": 7,
      "outputs": []
    },
    {
      "cell_type": "code",
      "source": [
        "remove_correlated_features(X)\n",
        "remove_less_significant_features(X, Y)"
      ],
      "metadata": {
        "colab": {
          "base_uri": "https://localhost:8080/"
        },
        "id": "ttOoiylGeN8s",
        "outputId": "233fd0f5-e630-4ebc-e8b4-e3182bed7640"
      },
      "execution_count": 8,
      "outputs": [
        {
          "output_type": "execute_result",
          "data": {
            "text/plain": [
              "array(['smoothness_mean', 'compactness_worst', 'compactness_mean',\n",
              "       'radius_mean', 'texture_se', 'symmetry_se', 'smoothness_se',\n",
              "       'concavity_worst'], dtype='<U32')"
            ]
          },
          "metadata": {},
          "execution_count": 8
        }
      ]
    },
    {
      "cell_type": "code",
      "source": [
        "    X_normalized = MinMaxScaler().fit_transform(X.values)\n",
        "    X = pd.DataFrame(X_normalized)"
      ],
      "metadata": {
        "id": "DWA7pz5lyowg"
      },
      "execution_count": 9,
      "outputs": []
    },
    {
      "cell_type": "code",
      "source": [
        "X.insert(loc=len(X.columns), column='intercept', value=1)"
      ],
      "metadata": {
        "id": "l1C1QIKnyqUa"
      },
      "execution_count": 10,
      "outputs": []
    },
    {
      "cell_type": "code",
      "source": [
        "    print(\"splitting dataset into train and test sets...\")\n",
        "    X_train, X_test, y_train, y_test = tts(X, Y, test_size=0.2, random_state=42)"
      ],
      "metadata": {
        "colab": {
          "base_uri": "https://localhost:8080/"
        },
        "id": "kTAgmjzNyuin",
        "outputId": "28583a09-8183-43f0-fdbf-f066cd98068e"
      },
      "execution_count": 11,
      "outputs": [
        {
          "output_type": "stream",
          "name": "stdout",
          "text": [
            "splitting dataset into train and test sets...\n"
          ]
        }
      ]
    },
    {
      "cell_type": "code",
      "source": [
        "def sgd(features, outputs):\n",
        "    max_epochs = 5000\n",
        "    weights = np.zeros(features.shape[1])\n",
        "    nth = 0\n",
        "    prev_cost = float(\"inf\")\n",
        "    cost_threshold = 0.01  # in percent\n",
        "    # stochastic gradient descent\n",
        "    for epoch in range(1, max_epochs):\n",
        "        # shuffle to prevent repeating update cycles\n",
        "        X, Y = shuffle(features, outputs)\n",
        "        for ind, x in enumerate(X):\n",
        "            ascent = calculate_cost_gradient(weights, x, Y[ind])\n",
        "            weights = weights - (learning_rate * ascent)\n",
        "\n",
        "        # convergence check on 2^nth epoch\n",
        "        if epoch == 2 ** nth or epoch == max_epochs - 1:\n",
        "            cost = compute_cost(weights, features, outputs)\n",
        "            print(\"Epoch is: {} and Cost is: {}\".format(epoch, cost))\n",
        "            # stoppage criterion\n",
        "            if abs(prev_cost - cost) < cost_threshold * prev_cost:\n",
        "                return weights\n",
        "            prev_cost = cost\n",
        "            nth += 1\n",
        "    return weights"
      ],
      "metadata": {
        "id": "2or_BVHRzHJ9"
      },
      "execution_count": 12,
      "outputs": []
    },
    {
      "cell_type": "code",
      "source": [
        "def calculate_cost_gradient(W, X_batch, Y_batch):\n",
        "    # if only one example is passed (eg. in case of SGD)\n",
        "    if type(Y_batch) == np.float64:\n",
        "        Y_batch = np.array([Y_batch])\n",
        "        X_batch = np.array([X_batch])  # gives multidimensional array\n",
        "\n",
        "    distance = 1 - (Y_batch * np.dot(X_batch, W))\n",
        "    # print(Y_batch,X_batch,W,distance)\n",
        "    \n",
        "    dw = np.zeros(len(W))\n",
        "\n",
        "    for ind, d in enumerate(distance):\n",
        "        if max(0, d) == 0:\n",
        "            di = W\n",
        "        else:\n",
        "            di = W - (regularization_strength * Y_batch[ind] * X_batch[ind])\n",
        "        dw += di\n",
        "\n",
        "    dw = dw/len(Y_batch)  # average\n",
        "    return dw"
      ],
      "metadata": {
        "id": "YZ6uIGgbzMoa"
      },
      "execution_count": 13,
      "outputs": []
    },
    {
      "cell_type": "code",
      "source": [
        "def compute_cost(W, X, Y):\n",
        "    # calculate hinge loss\n",
        "    N = X.shape[0]\n",
        "    distances = 1 - Y * (np.dot(X, W))\n",
        "    distances[distances < 0] = 0  # equivalent to max(0, distance)\n",
        "    hinge_loss = regularization_strength * (np.sum(distances) / N)\n",
        "\n",
        "    # calculate cost\n",
        "    cost = 1 / 2 * np.dot(W, W) + hinge_loss\n",
        "    return cost"
      ],
      "metadata": {
        "id": "qs1cEoldzih2"
      },
      "execution_count": 14,
      "outputs": []
    },
    {
      "cell_type": "code",
      "source": [
        "regularization_strength = 10000\n",
        "learning_rate = 0.000001"
      ],
      "metadata": {
        "id": "ZDuTbCdHzUAH"
      },
      "execution_count": 15,
      "outputs": []
    },
    {
      "cell_type": "code",
      "source": [
        "y_train.to_numpy().shape"
      ],
      "metadata": {
        "colab": {
          "base_uri": "https://localhost:8080/"
        },
        "id": "f8632JxGEjR6",
        "outputId": "e4aa85c4-f421-42e9-d132-2554b46cb2bb"
      },
      "execution_count": 16,
      "outputs": [
        {
          "output_type": "execute_result",
          "data": {
            "text/plain": [
              "(455,)"
            ]
          },
          "metadata": {},
          "execution_count": 16
        }
      ]
    },
    {
      "cell_type": "code",
      "source": [
        "    print(\"training started...\")\n",
        "    W = sgd(X_train.to_numpy(), y_train.to_numpy())\n",
        "    print(\"training finished.\")\n",
        "    print(\"weights are: {}\".format(W))"
      ],
      "metadata": {
        "colab": {
          "base_uri": "https://localhost:8080/"
        },
        "id": "9-v5MduJy5Hq",
        "outputId": "8de905a8-5e4a-4d28-cbec-a3527184051f"
      },
      "execution_count": 17,
      "outputs": [
        {
          "output_type": "stream",
          "name": "stdout",
          "text": [
            "training started...\n",
            "Epoch is: 1 and Cost is: 7304.550623505597\n",
            "Epoch is: 2 and Cost is: 6536.662604824531\n",
            "Epoch is: 4 and Cost is: 5465.2109058005235\n",
            "Epoch is: 8 and Cost is: 3833.912956023411\n",
            "Epoch is: 16 and Cost is: 2651.3223645245785\n",
            "Epoch is: 32 and Cost is: 1970.1600170850159\n",
            "Epoch is: 64 and Cost is: 1588.7360086039039\n",
            "Epoch is: 128 and Cost is: 1326.3303828987855\n",
            "Epoch is: 256 and Cost is: 1159.3796210715184\n",
            "Epoch is: 512 and Cost is: 1074.6236688103775\n",
            "Epoch is: 1024 and Cost is: 1053.3165434925993\n",
            "Epoch is: 2048 and Cost is: 1040.4917566368297\n",
            "Epoch is: 4096 and Cost is: 1040.2073910656986\n",
            "training finished.\n",
            "weights are: [ 3.55482369 11.30824276 -2.2904084  -7.96498158 10.23704876 -1.20967837\n",
            " -7.24021306  2.10771417 -3.63985541  3.15467284  4.92299196  4.85910188\n",
            " -4.65895709]\n"
          ]
        }
      ]
    },
    {
      "cell_type": "code",
      "source": [
        "print(\"testing the model...\")\n",
        "y_train_predicted = np.array([])\n",
        "for i in range(X_train.shape[0]):\n",
        "    yp = np.sign(np.dot(X_train.to_numpy()[i], W))\n",
        "    y_train_predicted = np.append(y_train_predicted, yp)\n",
        "\n",
        "y_test_predicted = np.array([])\n",
        "for i in range(X_test.shape[0]):\n",
        "    yp = np.sign(np.dot(X_test.to_numpy()[i], W))\n",
        "    y_test_predicted = np.append(y_test_predicted, yp)\n"
      ],
      "metadata": {
        "colab": {
          "base_uri": "https://localhost:8080/"
        },
        "id": "HYiVeIIDy50n",
        "outputId": "62cc2742-f870-4f06-8100-fff369888929"
      },
      "execution_count": 18,
      "outputs": [
        {
          "output_type": "stream",
          "name": "stdout",
          "text": [
            "testing the model...\n"
          ]
        }
      ]
    },
    {
      "cell_type": "code",
      "source": [
        "print(\"accuracy on test dataset: {}\".format(accuracy_score(y_test, y_test_predicted)))\n",
        "print(\"recall on test dataset: {}\".format(recall_score(y_test, y_test_predicted)))\n",
        "print(\"precision on test dataset: {}\".format(recall_score(y_test, y_test_predicted)))\n"
      ],
      "metadata": {
        "colab": {
          "base_uri": "https://localhost:8080/"
        },
        "id": "MHjTI63EzzEy",
        "outputId": "9a8303e3-0391-4c3f-8957-c1379740bacd"
      },
      "execution_count": 19,
      "outputs": [
        {
          "output_type": "stream",
          "name": "stdout",
          "text": [
            "accuracy on test dataset: 0.9912280701754386\n",
            "recall on test dataset: 0.9767441860465116\n",
            "precision on test dataset: 0.9767441860465116\n"
          ]
        }
      ]
    },
    {
      "cell_type": "code",
      "source": [],
      "metadata": {
        "id": "QW0xiADJcjRb"
      },
      "execution_count": 19,
      "outputs": []
    }
  ]
}