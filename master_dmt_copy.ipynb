{
  "cells": [
    {
      "cell_type": "markdown",
      "metadata": {
        "id": "view-in-github",
        "colab_type": "text"
      },
      "source": [
        "<a href=\"https://colab.research.google.com/github/akashbilgi/DMT/blob/main/master_dmt_copy.ipynb\" target=\"_parent\"><img src=\"https://colab.research.google.com/assets/colab-badge.svg\" alt=\"Open In Colab\"/></a>"
      ]
    },
    {
      "cell_type": "code",
      "source": [
        "from google.colab import drive\n",
        "drive.mount('/content/drive')"
      ],
      "metadata": {
        "colab": {
          "base_uri": "https://localhost:8080/"
        },
        "id": "1aX-BpKICksp",
        "outputId": "05f68835-43be-44af-c187-0e6c5dcbcc35"
      },
      "execution_count": 1,
      "outputs": [
        {
          "output_type": "stream",
          "name": "stdout",
          "text": [
            "Mounted at /content/drive\n"
          ]
        }
      ]
    },
    {
      "cell_type": "code",
      "execution_count": 2,
      "metadata": {
        "colab": {
          "base_uri": "https://localhost:8080/"
        },
        "id": "sW9kPbykz49R",
        "outputId": "bff39dec-a88d-44da-8dc5-752029e9f490"
      },
      "outputs": [
        {
          "output_type": "stream",
          "name": "stdout",
          "text": [
            "           id diagnosis  radius_mean  texture_mean  perimeter_mean  area_mean  \\\n",
            "0      842302         M        17.99         10.38          122.80     1001.0   \n",
            "1      842517         M        20.57         17.77          132.90     1326.0   \n",
            "2    84300903         M        19.69         21.25          130.00     1203.0   \n",
            "3    84348301         M        11.42         20.38           77.58      386.1   \n",
            "4    84358402         M        20.29         14.34          135.10     1297.0   \n",
            "..        ...       ...          ...           ...             ...        ...   \n",
            "564    926424         M        21.56         22.39          142.00     1479.0   \n",
            "565    926682         M        20.13         28.25          131.20     1261.0   \n",
            "566    926954         M        16.60         28.08          108.30      858.1   \n",
            "567    927241         M        20.60         29.33          140.10     1265.0   \n",
            "568     92751         B         7.76         24.54           47.92      181.0   \n",
            "\n",
            "     smoothness_mean  compactness_mean  concavity_mean  concave points_mean  \\\n",
            "0            0.11840           0.27760         0.30010              0.14710   \n",
            "1            0.08474           0.07864         0.08690              0.07017   \n",
            "2            0.10960           0.15990         0.19740              0.12790   \n",
            "3            0.14250           0.28390         0.24140              0.10520   \n",
            "4            0.10030           0.13280         0.19800              0.10430   \n",
            "..               ...               ...             ...                  ...   \n",
            "564          0.11100           0.11590         0.24390              0.13890   \n",
            "565          0.09780           0.10340         0.14400              0.09791   \n",
            "566          0.08455           0.10230         0.09251              0.05302   \n",
            "567          0.11780           0.27700         0.35140              0.15200   \n",
            "568          0.05263           0.04362         0.00000              0.00000   \n",
            "\n",
            "     ...  texture_worst  perimeter_worst  area_worst  smoothness_worst  \\\n",
            "0    ...          17.33           184.60      2019.0           0.16220   \n",
            "1    ...          23.41           158.80      1956.0           0.12380   \n",
            "2    ...          25.53           152.50      1709.0           0.14440   \n",
            "3    ...          26.50            98.87       567.7           0.20980   \n",
            "4    ...          16.67           152.20      1575.0           0.13740   \n",
            "..   ...            ...              ...         ...               ...   \n",
            "564  ...          26.40           166.10      2027.0           0.14100   \n",
            "565  ...          38.25           155.00      1731.0           0.11660   \n",
            "566  ...          34.12           126.70      1124.0           0.11390   \n",
            "567  ...          39.42           184.60      1821.0           0.16500   \n",
            "568  ...          30.37            59.16       268.6           0.08996   \n",
            "\n",
            "     compactness_worst  concavity_worst  concave points_worst  symmetry_worst  \\\n",
            "0              0.66560           0.7119                0.2654          0.4601   \n",
            "1              0.18660           0.2416                0.1860          0.2750   \n",
            "2              0.42450           0.4504                0.2430          0.3613   \n",
            "3              0.86630           0.6869                0.2575          0.6638   \n",
            "4              0.20500           0.4000                0.1625          0.2364   \n",
            "..                 ...              ...                   ...             ...   \n",
            "564            0.21130           0.4107                0.2216          0.2060   \n",
            "565            0.19220           0.3215                0.1628          0.2572   \n",
            "566            0.30940           0.3403                0.1418          0.2218   \n",
            "567            0.86810           0.9387                0.2650          0.4087   \n",
            "568            0.06444           0.0000                0.0000          0.2871   \n",
            "\n",
            "     fractal_dimension_worst  Unnamed: 32  \n",
            "0                    0.11890          NaN  \n",
            "1                    0.08902          NaN  \n",
            "2                    0.08758          NaN  \n",
            "3                    0.17300          NaN  \n",
            "4                    0.07678          NaN  \n",
            "..                       ...          ...  \n",
            "564                  0.07115          NaN  \n",
            "565                  0.06637          NaN  \n",
            "566                  0.07820          NaN  \n",
            "567                  0.12400          NaN  \n",
            "568                  0.07039          NaN  \n",
            "\n",
            "[569 rows x 33 columns]\n"
          ]
        }
      ],
      "source": [
        "import pandas as pd\n",
        "df = pd.read_csv('/content/drive/MyDrive/data.csv')\n",
        "print(df)\n"
      ]
    },
    {
      "cell_type": "code",
      "source": [],
      "metadata": {
        "id": "pMoNkmT2Cfbt"
      },
      "execution_count": 2,
      "outputs": []
    },
    {
      "cell_type": "code",
      "execution_count": 3,
      "metadata": {
        "colab": {
          "base_uri": "https://localhost:8080/",
          "height": 317
        },
        "id": "pNNv3hRe85JT",
        "outputId": "6b66148e-2f90-4860-af50-9e13c90e392a"
      },
      "outputs": [
        {
          "output_type": "execute_result",
          "data": {
            "text/plain": [
              "         id diagnosis  radius_mean  texture_mean  perimeter_mean  area_mean  \\\n",
              "0    842302         M        17.99         10.38          122.80     1001.0   \n",
              "1    842517         M        20.57         17.77          132.90     1326.0   \n",
              "2  84300903         M        19.69         21.25          130.00     1203.0   \n",
              "3  84348301         M        11.42         20.38           77.58      386.1   \n",
              "4  84358402         M        20.29         14.34          135.10     1297.0   \n",
              "\n",
              "   smoothness_mean  compactness_mean  concavity_mean  concave points_mean  \\\n",
              "0          0.11840           0.27760          0.3001              0.14710   \n",
              "1          0.08474           0.07864          0.0869              0.07017   \n",
              "2          0.10960           0.15990          0.1974              0.12790   \n",
              "3          0.14250           0.28390          0.2414              0.10520   \n",
              "4          0.10030           0.13280          0.1980              0.10430   \n",
              "\n",
              "   ...  texture_worst  perimeter_worst  area_worst  smoothness_worst  \\\n",
              "0  ...          17.33           184.60      2019.0            0.1622   \n",
              "1  ...          23.41           158.80      1956.0            0.1238   \n",
              "2  ...          25.53           152.50      1709.0            0.1444   \n",
              "3  ...          26.50            98.87       567.7            0.2098   \n",
              "4  ...          16.67           152.20      1575.0            0.1374   \n",
              "\n",
              "   compactness_worst  concavity_worst  concave points_worst  symmetry_worst  \\\n",
              "0             0.6656           0.7119                0.2654          0.4601   \n",
              "1             0.1866           0.2416                0.1860          0.2750   \n",
              "2             0.4245           0.4504                0.2430          0.3613   \n",
              "3             0.8663           0.6869                0.2575          0.6638   \n",
              "4             0.2050           0.4000                0.1625          0.2364   \n",
              "\n",
              "   fractal_dimension_worst  Unnamed: 32  \n",
              "0                  0.11890          NaN  \n",
              "1                  0.08902          NaN  \n",
              "2                  0.08758          NaN  \n",
              "3                  0.17300          NaN  \n",
              "4                  0.07678          NaN  \n",
              "\n",
              "[5 rows x 33 columns]"
            ],
            "text/html": [
              "\n",
              "  <div id=\"df-14d744d2-da8a-4113-a387-8266479fcc68\">\n",
              "    <div class=\"colab-df-container\">\n",
              "      <div>\n",
              "<style scoped>\n",
              "    .dataframe tbody tr th:only-of-type {\n",
              "        vertical-align: middle;\n",
              "    }\n",
              "\n",
              "    .dataframe tbody tr th {\n",
              "        vertical-align: top;\n",
              "    }\n",
              "\n",
              "    .dataframe thead th {\n",
              "        text-align: right;\n",
              "    }\n",
              "</style>\n",
              "<table border=\"1\" class=\"dataframe\">\n",
              "  <thead>\n",
              "    <tr style=\"text-align: right;\">\n",
              "      <th></th>\n",
              "      <th>id</th>\n",
              "      <th>diagnosis</th>\n",
              "      <th>radius_mean</th>\n",
              "      <th>texture_mean</th>\n",
              "      <th>perimeter_mean</th>\n",
              "      <th>area_mean</th>\n",
              "      <th>smoothness_mean</th>\n",
              "      <th>compactness_mean</th>\n",
              "      <th>concavity_mean</th>\n",
              "      <th>concave points_mean</th>\n",
              "      <th>...</th>\n",
              "      <th>texture_worst</th>\n",
              "      <th>perimeter_worst</th>\n",
              "      <th>area_worst</th>\n",
              "      <th>smoothness_worst</th>\n",
              "      <th>compactness_worst</th>\n",
              "      <th>concavity_worst</th>\n",
              "      <th>concave points_worst</th>\n",
              "      <th>symmetry_worst</th>\n",
              "      <th>fractal_dimension_worst</th>\n",
              "      <th>Unnamed: 32</th>\n",
              "    </tr>\n",
              "  </thead>\n",
              "  <tbody>\n",
              "    <tr>\n",
              "      <th>0</th>\n",
              "      <td>842302</td>\n",
              "      <td>M</td>\n",
              "      <td>17.99</td>\n",
              "      <td>10.38</td>\n",
              "      <td>122.80</td>\n",
              "      <td>1001.0</td>\n",
              "      <td>0.11840</td>\n",
              "      <td>0.27760</td>\n",
              "      <td>0.3001</td>\n",
              "      <td>0.14710</td>\n",
              "      <td>...</td>\n",
              "      <td>17.33</td>\n",
              "      <td>184.60</td>\n",
              "      <td>2019.0</td>\n",
              "      <td>0.1622</td>\n",
              "      <td>0.6656</td>\n",
              "      <td>0.7119</td>\n",
              "      <td>0.2654</td>\n",
              "      <td>0.4601</td>\n",
              "      <td>0.11890</td>\n",
              "      <td>NaN</td>\n",
              "    </tr>\n",
              "    <tr>\n",
              "      <th>1</th>\n",
              "      <td>842517</td>\n",
              "      <td>M</td>\n",
              "      <td>20.57</td>\n",
              "      <td>17.77</td>\n",
              "      <td>132.90</td>\n",
              "      <td>1326.0</td>\n",
              "      <td>0.08474</td>\n",
              "      <td>0.07864</td>\n",
              "      <td>0.0869</td>\n",
              "      <td>0.07017</td>\n",
              "      <td>...</td>\n",
              "      <td>23.41</td>\n",
              "      <td>158.80</td>\n",
              "      <td>1956.0</td>\n",
              "      <td>0.1238</td>\n",
              "      <td>0.1866</td>\n",
              "      <td>0.2416</td>\n",
              "      <td>0.1860</td>\n",
              "      <td>0.2750</td>\n",
              "      <td>0.08902</td>\n",
              "      <td>NaN</td>\n",
              "    </tr>\n",
              "    <tr>\n",
              "      <th>2</th>\n",
              "      <td>84300903</td>\n",
              "      <td>M</td>\n",
              "      <td>19.69</td>\n",
              "      <td>21.25</td>\n",
              "      <td>130.00</td>\n",
              "      <td>1203.0</td>\n",
              "      <td>0.10960</td>\n",
              "      <td>0.15990</td>\n",
              "      <td>0.1974</td>\n",
              "      <td>0.12790</td>\n",
              "      <td>...</td>\n",
              "      <td>25.53</td>\n",
              "      <td>152.50</td>\n",
              "      <td>1709.0</td>\n",
              "      <td>0.1444</td>\n",
              "      <td>0.4245</td>\n",
              "      <td>0.4504</td>\n",
              "      <td>0.2430</td>\n",
              "      <td>0.3613</td>\n",
              "      <td>0.08758</td>\n",
              "      <td>NaN</td>\n",
              "    </tr>\n",
              "    <tr>\n",
              "      <th>3</th>\n",
              "      <td>84348301</td>\n",
              "      <td>M</td>\n",
              "      <td>11.42</td>\n",
              "      <td>20.38</td>\n",
              "      <td>77.58</td>\n",
              "      <td>386.1</td>\n",
              "      <td>0.14250</td>\n",
              "      <td>0.28390</td>\n",
              "      <td>0.2414</td>\n",
              "      <td>0.10520</td>\n",
              "      <td>...</td>\n",
              "      <td>26.50</td>\n",
              "      <td>98.87</td>\n",
              "      <td>567.7</td>\n",
              "      <td>0.2098</td>\n",
              "      <td>0.8663</td>\n",
              "      <td>0.6869</td>\n",
              "      <td>0.2575</td>\n",
              "      <td>0.6638</td>\n",
              "      <td>0.17300</td>\n",
              "      <td>NaN</td>\n",
              "    </tr>\n",
              "    <tr>\n",
              "      <th>4</th>\n",
              "      <td>84358402</td>\n",
              "      <td>M</td>\n",
              "      <td>20.29</td>\n",
              "      <td>14.34</td>\n",
              "      <td>135.10</td>\n",
              "      <td>1297.0</td>\n",
              "      <td>0.10030</td>\n",
              "      <td>0.13280</td>\n",
              "      <td>0.1980</td>\n",
              "      <td>0.10430</td>\n",
              "      <td>...</td>\n",
              "      <td>16.67</td>\n",
              "      <td>152.20</td>\n",
              "      <td>1575.0</td>\n",
              "      <td>0.1374</td>\n",
              "      <td>0.2050</td>\n",
              "      <td>0.4000</td>\n",
              "      <td>0.1625</td>\n",
              "      <td>0.2364</td>\n",
              "      <td>0.07678</td>\n",
              "      <td>NaN</td>\n",
              "    </tr>\n",
              "  </tbody>\n",
              "</table>\n",
              "<p>5 rows × 33 columns</p>\n",
              "</div>\n",
              "      <button class=\"colab-df-convert\" onclick=\"convertToInteractive('df-14d744d2-da8a-4113-a387-8266479fcc68')\"\n",
              "              title=\"Convert this dataframe to an interactive table.\"\n",
              "              style=\"display:none;\">\n",
              "        \n",
              "  <svg xmlns=\"http://www.w3.org/2000/svg\" height=\"24px\"viewBox=\"0 0 24 24\"\n",
              "       width=\"24px\">\n",
              "    <path d=\"M0 0h24v24H0V0z\" fill=\"none\"/>\n",
              "    <path d=\"M18.56 5.44l.94 2.06.94-2.06 2.06-.94-2.06-.94-.94-2.06-.94 2.06-2.06.94zm-11 1L8.5 8.5l.94-2.06 2.06-.94-2.06-.94L8.5 2.5l-.94 2.06-2.06.94zm10 10l.94 2.06.94-2.06 2.06-.94-2.06-.94-.94-2.06-.94 2.06-2.06.94z\"/><path d=\"M17.41 7.96l-1.37-1.37c-.4-.4-.92-.59-1.43-.59-.52 0-1.04.2-1.43.59L10.3 9.45l-7.72 7.72c-.78.78-.78 2.05 0 2.83L4 21.41c.39.39.9.59 1.41.59.51 0 1.02-.2 1.41-.59l7.78-7.78 2.81-2.81c.8-.78.8-2.07 0-2.86zM5.41 20L4 18.59l7.72-7.72 1.47 1.35L5.41 20z\"/>\n",
              "  </svg>\n",
              "      </button>\n",
              "      \n",
              "  <style>\n",
              "    .colab-df-container {\n",
              "      display:flex;\n",
              "      flex-wrap:wrap;\n",
              "      gap: 12px;\n",
              "    }\n",
              "\n",
              "    .colab-df-convert {\n",
              "      background-color: #E8F0FE;\n",
              "      border: none;\n",
              "      border-radius: 50%;\n",
              "      cursor: pointer;\n",
              "      display: none;\n",
              "      fill: #1967D2;\n",
              "      height: 32px;\n",
              "      padding: 0 0 0 0;\n",
              "      width: 32px;\n",
              "    }\n",
              "\n",
              "    .colab-df-convert:hover {\n",
              "      background-color: #E2EBFA;\n",
              "      box-shadow: 0px 1px 2px rgba(60, 64, 67, 0.3), 0px 1px 3px 1px rgba(60, 64, 67, 0.15);\n",
              "      fill: #174EA6;\n",
              "    }\n",
              "\n",
              "    [theme=dark] .colab-df-convert {\n",
              "      background-color: #3B4455;\n",
              "      fill: #D2E3FC;\n",
              "    }\n",
              "\n",
              "    [theme=dark] .colab-df-convert:hover {\n",
              "      background-color: #434B5C;\n",
              "      box-shadow: 0px 1px 3px 1px rgba(0, 0, 0, 0.15);\n",
              "      filter: drop-shadow(0px 1px 2px rgba(0, 0, 0, 0.3));\n",
              "      fill: #FFFFFF;\n",
              "    }\n",
              "  </style>\n",
              "\n",
              "      <script>\n",
              "        const buttonEl =\n",
              "          document.querySelector('#df-14d744d2-da8a-4113-a387-8266479fcc68 button.colab-df-convert');\n",
              "        buttonEl.style.display =\n",
              "          google.colab.kernel.accessAllowed ? 'block' : 'none';\n",
              "\n",
              "        async function convertToInteractive(key) {\n",
              "          const element = document.querySelector('#df-14d744d2-da8a-4113-a387-8266479fcc68');\n",
              "          const dataTable =\n",
              "            await google.colab.kernel.invokeFunction('convertToInteractive',\n",
              "                                                     [key], {});\n",
              "          if (!dataTable) return;\n",
              "\n",
              "          const docLinkHtml = 'Like what you see? Visit the ' +\n",
              "            '<a target=\"_blank\" href=https://colab.research.google.com/notebooks/data_table.ipynb>data table notebook</a>'\n",
              "            + ' to learn more about interactive tables.';\n",
              "          element.innerHTML = '';\n",
              "          dataTable['output_type'] = 'display_data';\n",
              "          await google.colab.output.renderOutput(dataTable, element);\n",
              "          const docLink = document.createElement('div');\n",
              "          docLink.innerHTML = docLinkHtml;\n",
              "          element.appendChild(docLink);\n",
              "        }\n",
              "      </script>\n",
              "    </div>\n",
              "  </div>\n",
              "  "
            ]
          },
          "metadata": {},
          "execution_count": 3
        }
      ],
      "source": [
        "df.head()"
      ]
    },
    {
      "cell_type": "code",
      "execution_count": 4,
      "metadata": {
        "colab": {
          "base_uri": "https://localhost:8080/"
        },
        "id": "PdW4OYaa0prb",
        "outputId": "8abc061e-65af-4baf-ec38-72bd6dbeb85e"
      },
      "outputs": [
        {
          "output_type": "execute_result",
          "data": {
            "text/plain": [
              "(569, 33)"
            ]
          },
          "metadata": {},
          "execution_count": 4
        }
      ],
      "source": [
        "df.shape"
      ]
    },
    {
      "cell_type": "code",
      "execution_count": 5,
      "metadata": {
        "colab": {
          "base_uri": "https://localhost:8080/"
        },
        "id": "MP077F190tLY",
        "outputId": "cecee474-2fa4-4216-86b8-631563824444"
      },
      "outputs": [
        {
          "output_type": "execute_result",
          "data": {
            "text/plain": [
              "id                           int64\n",
              "diagnosis                   object\n",
              "radius_mean                float64\n",
              "texture_mean               float64\n",
              "perimeter_mean             float64\n",
              "area_mean                  float64\n",
              "smoothness_mean            float64\n",
              "compactness_mean           float64\n",
              "concavity_mean             float64\n",
              "concave points_mean        float64\n",
              "symmetry_mean              float64\n",
              "fractal_dimension_mean     float64\n",
              "radius_se                  float64\n",
              "texture_se                 float64\n",
              "perimeter_se               float64\n",
              "area_se                    float64\n",
              "smoothness_se              float64\n",
              "compactness_se             float64\n",
              "concavity_se               float64\n",
              "concave points_se          float64\n",
              "symmetry_se                float64\n",
              "fractal_dimension_se       float64\n",
              "radius_worst               float64\n",
              "texture_worst              float64\n",
              "perimeter_worst            float64\n",
              "area_worst                 float64\n",
              "smoothness_worst           float64\n",
              "compactness_worst          float64\n",
              "concavity_worst            float64\n",
              "concave points_worst       float64\n",
              "symmetry_worst             float64\n",
              "fractal_dimension_worst    float64\n",
              "Unnamed: 32                float64\n",
              "dtype: object"
            ]
          },
          "metadata": {},
          "execution_count": 5
        }
      ],
      "source": [
        "df.dtypes"
      ]
    },
    {
      "cell_type": "code",
      "execution_count": 5,
      "metadata": {
        "id": "f1joP85D-Fc4"
      },
      "outputs": [],
      "source": []
    },
    {
      "cell_type": "code",
      "execution_count": 6,
      "metadata": {
        "id": "ks5YoXAF08UT"
      },
      "outputs": [],
      "source": [
        "import seaborn as sns \n",
        "import matplotlib.pyplot as plt\n",
        "from sklearn.metrics import classification_report\n",
        "from sklearn.metrics import confusion_matrix\n",
        "\n",
        "from sklearn.decomposition import PCA\n",
        "from sklearn.preprocessing import StandardScaler\n",
        "\n",
        "from sklearn.model_selection import train_test_split\n",
        "\n",
        "\n",
        "from sklearn.svm import SVC\n",
        "\n",
        "import os"
      ]
    },
    {
      "cell_type": "code",
      "execution_count": 7,
      "metadata": {
        "colab": {
          "base_uri": "https://localhost:8080/",
          "height": 334
        },
        "id": "GweJHNU51KMe",
        "outputId": "fedaa14c-e805-4375-d19b-d2370743e2fc"
      },
      "outputs": [
        {
          "output_type": "stream",
          "name": "stdout",
          "text": [
            "(569, 30)\n"
          ]
        },
        {
          "output_type": "execute_result",
          "data": {
            "text/plain": [
              "   radius_mean  texture_mean  perimeter_mean  area_mean  smoothness_mean  \\\n",
              "0        17.99         10.38          122.80     1001.0          0.11840   \n",
              "1        20.57         17.77          132.90     1326.0          0.08474   \n",
              "2        19.69         21.25          130.00     1203.0          0.10960   \n",
              "3        11.42         20.38           77.58      386.1          0.14250   \n",
              "4        20.29         14.34          135.10     1297.0          0.10030   \n",
              "\n",
              "   compactness_mean  concavity_mean  concave points_mean  symmetry_mean  \\\n",
              "0           0.27760          0.3001              0.14710         0.2419   \n",
              "1           0.07864          0.0869              0.07017         0.1812   \n",
              "2           0.15990          0.1974              0.12790         0.2069   \n",
              "3           0.28390          0.2414              0.10520         0.2597   \n",
              "4           0.13280          0.1980              0.10430         0.1809   \n",
              "\n",
              "   fractal_dimension_mean  ...  radius_worst  texture_worst  perimeter_worst  \\\n",
              "0                 0.07871  ...         25.38          17.33           184.60   \n",
              "1                 0.05667  ...         24.99          23.41           158.80   \n",
              "2                 0.05999  ...         23.57          25.53           152.50   \n",
              "3                 0.09744  ...         14.91          26.50            98.87   \n",
              "4                 0.05883  ...         22.54          16.67           152.20   \n",
              "\n",
              "   area_worst  smoothness_worst  compactness_worst  concavity_worst  \\\n",
              "0      2019.0            0.1622             0.6656           0.7119   \n",
              "1      1956.0            0.1238             0.1866           0.2416   \n",
              "2      1709.0            0.1444             0.4245           0.4504   \n",
              "3       567.7            0.2098             0.8663           0.6869   \n",
              "4      1575.0            0.1374             0.2050           0.4000   \n",
              "\n",
              "   concave points_worst  symmetry_worst  fractal_dimension_worst  \n",
              "0                0.2654          0.4601                  0.11890  \n",
              "1                0.1860          0.2750                  0.08902  \n",
              "2                0.2430          0.3613                  0.08758  \n",
              "3                0.2575          0.6638                  0.17300  \n",
              "4                0.1625          0.2364                  0.07678  \n",
              "\n",
              "[5 rows x 30 columns]"
            ],
            "text/html": [
              "\n",
              "  <div id=\"df-229028a0-97fe-45e7-88d3-8c7866fb0b07\">\n",
              "    <div class=\"colab-df-container\">\n",
              "      <div>\n",
              "<style scoped>\n",
              "    .dataframe tbody tr th:only-of-type {\n",
              "        vertical-align: middle;\n",
              "    }\n",
              "\n",
              "    .dataframe tbody tr th {\n",
              "        vertical-align: top;\n",
              "    }\n",
              "\n",
              "    .dataframe thead th {\n",
              "        text-align: right;\n",
              "    }\n",
              "</style>\n",
              "<table border=\"1\" class=\"dataframe\">\n",
              "  <thead>\n",
              "    <tr style=\"text-align: right;\">\n",
              "      <th></th>\n",
              "      <th>radius_mean</th>\n",
              "      <th>texture_mean</th>\n",
              "      <th>perimeter_mean</th>\n",
              "      <th>area_mean</th>\n",
              "      <th>smoothness_mean</th>\n",
              "      <th>compactness_mean</th>\n",
              "      <th>concavity_mean</th>\n",
              "      <th>concave points_mean</th>\n",
              "      <th>symmetry_mean</th>\n",
              "      <th>fractal_dimension_mean</th>\n",
              "      <th>...</th>\n",
              "      <th>radius_worst</th>\n",
              "      <th>texture_worst</th>\n",
              "      <th>perimeter_worst</th>\n",
              "      <th>area_worst</th>\n",
              "      <th>smoothness_worst</th>\n",
              "      <th>compactness_worst</th>\n",
              "      <th>concavity_worst</th>\n",
              "      <th>concave points_worst</th>\n",
              "      <th>symmetry_worst</th>\n",
              "      <th>fractal_dimension_worst</th>\n",
              "    </tr>\n",
              "  </thead>\n",
              "  <tbody>\n",
              "    <tr>\n",
              "      <th>0</th>\n",
              "      <td>17.99</td>\n",
              "      <td>10.38</td>\n",
              "      <td>122.80</td>\n",
              "      <td>1001.0</td>\n",
              "      <td>0.11840</td>\n",
              "      <td>0.27760</td>\n",
              "      <td>0.3001</td>\n",
              "      <td>0.14710</td>\n",
              "      <td>0.2419</td>\n",
              "      <td>0.07871</td>\n",
              "      <td>...</td>\n",
              "      <td>25.38</td>\n",
              "      <td>17.33</td>\n",
              "      <td>184.60</td>\n",
              "      <td>2019.0</td>\n",
              "      <td>0.1622</td>\n",
              "      <td>0.6656</td>\n",
              "      <td>0.7119</td>\n",
              "      <td>0.2654</td>\n",
              "      <td>0.4601</td>\n",
              "      <td>0.11890</td>\n",
              "    </tr>\n",
              "    <tr>\n",
              "      <th>1</th>\n",
              "      <td>20.57</td>\n",
              "      <td>17.77</td>\n",
              "      <td>132.90</td>\n",
              "      <td>1326.0</td>\n",
              "      <td>0.08474</td>\n",
              "      <td>0.07864</td>\n",
              "      <td>0.0869</td>\n",
              "      <td>0.07017</td>\n",
              "      <td>0.1812</td>\n",
              "      <td>0.05667</td>\n",
              "      <td>...</td>\n",
              "      <td>24.99</td>\n",
              "      <td>23.41</td>\n",
              "      <td>158.80</td>\n",
              "      <td>1956.0</td>\n",
              "      <td>0.1238</td>\n",
              "      <td>0.1866</td>\n",
              "      <td>0.2416</td>\n",
              "      <td>0.1860</td>\n",
              "      <td>0.2750</td>\n",
              "      <td>0.08902</td>\n",
              "    </tr>\n",
              "    <tr>\n",
              "      <th>2</th>\n",
              "      <td>19.69</td>\n",
              "      <td>21.25</td>\n",
              "      <td>130.00</td>\n",
              "      <td>1203.0</td>\n",
              "      <td>0.10960</td>\n",
              "      <td>0.15990</td>\n",
              "      <td>0.1974</td>\n",
              "      <td>0.12790</td>\n",
              "      <td>0.2069</td>\n",
              "      <td>0.05999</td>\n",
              "      <td>...</td>\n",
              "      <td>23.57</td>\n",
              "      <td>25.53</td>\n",
              "      <td>152.50</td>\n",
              "      <td>1709.0</td>\n",
              "      <td>0.1444</td>\n",
              "      <td>0.4245</td>\n",
              "      <td>0.4504</td>\n",
              "      <td>0.2430</td>\n",
              "      <td>0.3613</td>\n",
              "      <td>0.08758</td>\n",
              "    </tr>\n",
              "    <tr>\n",
              "      <th>3</th>\n",
              "      <td>11.42</td>\n",
              "      <td>20.38</td>\n",
              "      <td>77.58</td>\n",
              "      <td>386.1</td>\n",
              "      <td>0.14250</td>\n",
              "      <td>0.28390</td>\n",
              "      <td>0.2414</td>\n",
              "      <td>0.10520</td>\n",
              "      <td>0.2597</td>\n",
              "      <td>0.09744</td>\n",
              "      <td>...</td>\n",
              "      <td>14.91</td>\n",
              "      <td>26.50</td>\n",
              "      <td>98.87</td>\n",
              "      <td>567.7</td>\n",
              "      <td>0.2098</td>\n",
              "      <td>0.8663</td>\n",
              "      <td>0.6869</td>\n",
              "      <td>0.2575</td>\n",
              "      <td>0.6638</td>\n",
              "      <td>0.17300</td>\n",
              "    </tr>\n",
              "    <tr>\n",
              "      <th>4</th>\n",
              "      <td>20.29</td>\n",
              "      <td>14.34</td>\n",
              "      <td>135.10</td>\n",
              "      <td>1297.0</td>\n",
              "      <td>0.10030</td>\n",
              "      <td>0.13280</td>\n",
              "      <td>0.1980</td>\n",
              "      <td>0.10430</td>\n",
              "      <td>0.1809</td>\n",
              "      <td>0.05883</td>\n",
              "      <td>...</td>\n",
              "      <td>22.54</td>\n",
              "      <td>16.67</td>\n",
              "      <td>152.20</td>\n",
              "      <td>1575.0</td>\n",
              "      <td>0.1374</td>\n",
              "      <td>0.2050</td>\n",
              "      <td>0.4000</td>\n",
              "      <td>0.1625</td>\n",
              "      <td>0.2364</td>\n",
              "      <td>0.07678</td>\n",
              "    </tr>\n",
              "  </tbody>\n",
              "</table>\n",
              "<p>5 rows × 30 columns</p>\n",
              "</div>\n",
              "      <button class=\"colab-df-convert\" onclick=\"convertToInteractive('df-229028a0-97fe-45e7-88d3-8c7866fb0b07')\"\n",
              "              title=\"Convert this dataframe to an interactive table.\"\n",
              "              style=\"display:none;\">\n",
              "        \n",
              "  <svg xmlns=\"http://www.w3.org/2000/svg\" height=\"24px\"viewBox=\"0 0 24 24\"\n",
              "       width=\"24px\">\n",
              "    <path d=\"M0 0h24v24H0V0z\" fill=\"none\"/>\n",
              "    <path d=\"M18.56 5.44l.94 2.06.94-2.06 2.06-.94-2.06-.94-.94-2.06-.94 2.06-2.06.94zm-11 1L8.5 8.5l.94-2.06 2.06-.94-2.06-.94L8.5 2.5l-.94 2.06-2.06.94zm10 10l.94 2.06.94-2.06 2.06-.94-2.06-.94-.94-2.06-.94 2.06-2.06.94z\"/><path d=\"M17.41 7.96l-1.37-1.37c-.4-.4-.92-.59-1.43-.59-.52 0-1.04.2-1.43.59L10.3 9.45l-7.72 7.72c-.78.78-.78 2.05 0 2.83L4 21.41c.39.39.9.59 1.41.59.51 0 1.02-.2 1.41-.59l7.78-7.78 2.81-2.81c.8-.78.8-2.07 0-2.86zM5.41 20L4 18.59l7.72-7.72 1.47 1.35L5.41 20z\"/>\n",
              "  </svg>\n",
              "      </button>\n",
              "      \n",
              "  <style>\n",
              "    .colab-df-container {\n",
              "      display:flex;\n",
              "      flex-wrap:wrap;\n",
              "      gap: 12px;\n",
              "    }\n",
              "\n",
              "    .colab-df-convert {\n",
              "      background-color: #E8F0FE;\n",
              "      border: none;\n",
              "      border-radius: 50%;\n",
              "      cursor: pointer;\n",
              "      display: none;\n",
              "      fill: #1967D2;\n",
              "      height: 32px;\n",
              "      padding: 0 0 0 0;\n",
              "      width: 32px;\n",
              "    }\n",
              "\n",
              "    .colab-df-convert:hover {\n",
              "      background-color: #E2EBFA;\n",
              "      box-shadow: 0px 1px 2px rgba(60, 64, 67, 0.3), 0px 1px 3px 1px rgba(60, 64, 67, 0.15);\n",
              "      fill: #174EA6;\n",
              "    }\n",
              "\n",
              "    [theme=dark] .colab-df-convert {\n",
              "      background-color: #3B4455;\n",
              "      fill: #D2E3FC;\n",
              "    }\n",
              "\n",
              "    [theme=dark] .colab-df-convert:hover {\n",
              "      background-color: #434B5C;\n",
              "      box-shadow: 0px 1px 3px 1px rgba(0, 0, 0, 0.15);\n",
              "      filter: drop-shadow(0px 1px 2px rgba(0, 0, 0, 0.3));\n",
              "      fill: #FFFFFF;\n",
              "    }\n",
              "  </style>\n",
              "\n",
              "      <script>\n",
              "        const buttonEl =\n",
              "          document.querySelector('#df-229028a0-97fe-45e7-88d3-8c7866fb0b07 button.colab-df-convert');\n",
              "        buttonEl.style.display =\n",
              "          google.colab.kernel.accessAllowed ? 'block' : 'none';\n",
              "\n",
              "        async function convertToInteractive(key) {\n",
              "          const element = document.querySelector('#df-229028a0-97fe-45e7-88d3-8c7866fb0b07');\n",
              "          const dataTable =\n",
              "            await google.colab.kernel.invokeFunction('convertToInteractive',\n",
              "                                                     [key], {});\n",
              "          if (!dataTable) return;\n",
              "\n",
              "          const docLinkHtml = 'Like what you see? Visit the ' +\n",
              "            '<a target=\"_blank\" href=https://colab.research.google.com/notebooks/data_table.ipynb>data table notebook</a>'\n",
              "            + ' to learn more about interactive tables.';\n",
              "          element.innerHTML = '';\n",
              "          dataTable['output_type'] = 'display_data';\n",
              "          await google.colab.output.renderOutput(dataTable, element);\n",
              "          const docLink = document.createElement('div');\n",
              "          docLink.innerHTML = docLinkHtml;\n",
              "          element.appendChild(docLink);\n",
              "        }\n",
              "      </script>\n",
              "    </div>\n",
              "  </div>\n",
              "  "
            ]
          },
          "metadata": {},
          "execution_count": 7
        }
      ],
      "source": [
        "X = df.iloc[:,2:32]\n",
        "print(X.shape)\n",
        "X.head()"
      ]
    },
    {
      "cell_type": "code",
      "execution_count": 8,
      "metadata": {
        "colab": {
          "base_uri": "https://localhost:8080/"
        },
        "id": "mdsPqrLa1Rmv",
        "outputId": "801cca2b-b7ed-4dbf-88c9-50c94da446e2"
      },
      "outputs": [
        {
          "output_type": "stream",
          "name": "stdout",
          "text": [
            "(569,)\n"
          ]
        },
        {
          "output_type": "execute_result",
          "data": {
            "text/plain": [
              "0    M\n",
              "1    M\n",
              "2    M\n",
              "3    M\n",
              "4    M\n",
              "Name: diagnosis, dtype: object"
            ]
          },
          "metadata": {},
          "execution_count": 8
        }
      ],
      "source": [
        "y = df.diagnosis\n",
        "print(y.shape)\n",
        "y.head()"
      ]
    },
    {
      "cell_type": "code",
      "execution_count": 9,
      "metadata": {
        "colab": {
          "base_uri": "https://localhost:8080/",
          "height": 206
        },
        "id": "KC7Kw1211WFn",
        "outputId": "7d7971d5-c3be-480d-c509-9d15168f3be6"
      },
      "outputs": [
        {
          "output_type": "execute_result",
          "data": {
            "text/plain": [
              "   B  M\n",
              "0  0  1\n",
              "1  0  1\n",
              "2  0  1\n",
              "3  0  1\n",
              "4  0  1"
            ],
            "text/html": [
              "\n",
              "  <div id=\"df-8ee2f139-e1de-41f3-a292-9c090993211f\">\n",
              "    <div class=\"colab-df-container\">\n",
              "      <div>\n",
              "<style scoped>\n",
              "    .dataframe tbody tr th:only-of-type {\n",
              "        vertical-align: middle;\n",
              "    }\n",
              "\n",
              "    .dataframe tbody tr th {\n",
              "        vertical-align: top;\n",
              "    }\n",
              "\n",
              "    .dataframe thead th {\n",
              "        text-align: right;\n",
              "    }\n",
              "</style>\n",
              "<table border=\"1\" class=\"dataframe\">\n",
              "  <thead>\n",
              "    <tr style=\"text-align: right;\">\n",
              "      <th></th>\n",
              "      <th>B</th>\n",
              "      <th>M</th>\n",
              "    </tr>\n",
              "  </thead>\n",
              "  <tbody>\n",
              "    <tr>\n",
              "      <th>0</th>\n",
              "      <td>0</td>\n",
              "      <td>1</td>\n",
              "    </tr>\n",
              "    <tr>\n",
              "      <th>1</th>\n",
              "      <td>0</td>\n",
              "      <td>1</td>\n",
              "    </tr>\n",
              "    <tr>\n",
              "      <th>2</th>\n",
              "      <td>0</td>\n",
              "      <td>1</td>\n",
              "    </tr>\n",
              "    <tr>\n",
              "      <th>3</th>\n",
              "      <td>0</td>\n",
              "      <td>1</td>\n",
              "    </tr>\n",
              "    <tr>\n",
              "      <th>4</th>\n",
              "      <td>0</td>\n",
              "      <td>1</td>\n",
              "    </tr>\n",
              "  </tbody>\n",
              "</table>\n",
              "</div>\n",
              "      <button class=\"colab-df-convert\" onclick=\"convertToInteractive('df-8ee2f139-e1de-41f3-a292-9c090993211f')\"\n",
              "              title=\"Convert this dataframe to an interactive table.\"\n",
              "              style=\"display:none;\">\n",
              "        \n",
              "  <svg xmlns=\"http://www.w3.org/2000/svg\" height=\"24px\"viewBox=\"0 0 24 24\"\n",
              "       width=\"24px\">\n",
              "    <path d=\"M0 0h24v24H0V0z\" fill=\"none\"/>\n",
              "    <path d=\"M18.56 5.44l.94 2.06.94-2.06 2.06-.94-2.06-.94-.94-2.06-.94 2.06-2.06.94zm-11 1L8.5 8.5l.94-2.06 2.06-.94-2.06-.94L8.5 2.5l-.94 2.06-2.06.94zm10 10l.94 2.06.94-2.06 2.06-.94-2.06-.94-.94-2.06-.94 2.06-2.06.94z\"/><path d=\"M17.41 7.96l-1.37-1.37c-.4-.4-.92-.59-1.43-.59-.52 0-1.04.2-1.43.59L10.3 9.45l-7.72 7.72c-.78.78-.78 2.05 0 2.83L4 21.41c.39.39.9.59 1.41.59.51 0 1.02-.2 1.41-.59l7.78-7.78 2.81-2.81c.8-.78.8-2.07 0-2.86zM5.41 20L4 18.59l7.72-7.72 1.47 1.35L5.41 20z\"/>\n",
              "  </svg>\n",
              "      </button>\n",
              "      \n",
              "  <style>\n",
              "    .colab-df-container {\n",
              "      display:flex;\n",
              "      flex-wrap:wrap;\n",
              "      gap: 12px;\n",
              "    }\n",
              "\n",
              "    .colab-df-convert {\n",
              "      background-color: #E8F0FE;\n",
              "      border: none;\n",
              "      border-radius: 50%;\n",
              "      cursor: pointer;\n",
              "      display: none;\n",
              "      fill: #1967D2;\n",
              "      height: 32px;\n",
              "      padding: 0 0 0 0;\n",
              "      width: 32px;\n",
              "    }\n",
              "\n",
              "    .colab-df-convert:hover {\n",
              "      background-color: #E2EBFA;\n",
              "      box-shadow: 0px 1px 2px rgba(60, 64, 67, 0.3), 0px 1px 3px 1px rgba(60, 64, 67, 0.15);\n",
              "      fill: #174EA6;\n",
              "    }\n",
              "\n",
              "    [theme=dark] .colab-df-convert {\n",
              "      background-color: #3B4455;\n",
              "      fill: #D2E3FC;\n",
              "    }\n",
              "\n",
              "    [theme=dark] .colab-df-convert:hover {\n",
              "      background-color: #434B5C;\n",
              "      box-shadow: 0px 1px 3px 1px rgba(0, 0, 0, 0.15);\n",
              "      filter: drop-shadow(0px 1px 2px rgba(0, 0, 0, 0.3));\n",
              "      fill: #FFFFFF;\n",
              "    }\n",
              "  </style>\n",
              "\n",
              "      <script>\n",
              "        const buttonEl =\n",
              "          document.querySelector('#df-8ee2f139-e1de-41f3-a292-9c090993211f button.colab-df-convert');\n",
              "        buttonEl.style.display =\n",
              "          google.colab.kernel.accessAllowed ? 'block' : 'none';\n",
              "\n",
              "        async function convertToInteractive(key) {\n",
              "          const element = document.querySelector('#df-8ee2f139-e1de-41f3-a292-9c090993211f');\n",
              "          const dataTable =\n",
              "            await google.colab.kernel.invokeFunction('convertToInteractive',\n",
              "                                                     [key], {});\n",
              "          if (!dataTable) return;\n",
              "\n",
              "          const docLinkHtml = 'Like what you see? Visit the ' +\n",
              "            '<a target=\"_blank\" href=https://colab.research.google.com/notebooks/data_table.ipynb>data table notebook</a>'\n",
              "            + ' to learn more about interactive tables.';\n",
              "          element.innerHTML = '';\n",
              "          dataTable['output_type'] = 'display_data';\n",
              "          await google.colab.output.renderOutput(dataTable, element);\n",
              "          const docLink = document.createElement('div');\n",
              "          docLink.innerHTML = docLinkHtml;\n",
              "          element.appendChild(docLink);\n",
              "        }\n",
              "      </script>\n",
              "    </div>\n",
              "  </div>\n",
              "  "
            ]
          },
          "metadata": {},
          "execution_count": 9
        }
      ],
      "source": [
        "y_num = pd.get_dummies(y)\n",
        "y_num.head()\n"
      ]
    },
    {
      "cell_type": "code",
      "execution_count": 10,
      "metadata": {
        "colab": {
          "base_uri": "https://localhost:8080/",
          "height": 206
        },
        "id": "RJAgZaRRJcPh",
        "outputId": "f105acd0-b1ba-4568-e52a-958a88a1317d"
      },
      "outputs": [
        {
          "output_type": "execute_result",
          "data": {
            "text/plain": [
              "     B  M\n",
              "564  0  1\n",
              "565  0  1\n",
              "566  0  1\n",
              "567  0  1\n",
              "568  1  0"
            ],
            "text/html": [
              "\n",
              "  <div id=\"df-3fe7a010-5f07-4a9a-bb19-eae8b101dc71\">\n",
              "    <div class=\"colab-df-container\">\n",
              "      <div>\n",
              "<style scoped>\n",
              "    .dataframe tbody tr th:only-of-type {\n",
              "        vertical-align: middle;\n",
              "    }\n",
              "\n",
              "    .dataframe tbody tr th {\n",
              "        vertical-align: top;\n",
              "    }\n",
              "\n",
              "    .dataframe thead th {\n",
              "        text-align: right;\n",
              "    }\n",
              "</style>\n",
              "<table border=\"1\" class=\"dataframe\">\n",
              "  <thead>\n",
              "    <tr style=\"text-align: right;\">\n",
              "      <th></th>\n",
              "      <th>B</th>\n",
              "      <th>M</th>\n",
              "    </tr>\n",
              "  </thead>\n",
              "  <tbody>\n",
              "    <tr>\n",
              "      <th>564</th>\n",
              "      <td>0</td>\n",
              "      <td>1</td>\n",
              "    </tr>\n",
              "    <tr>\n",
              "      <th>565</th>\n",
              "      <td>0</td>\n",
              "      <td>1</td>\n",
              "    </tr>\n",
              "    <tr>\n",
              "      <th>566</th>\n",
              "      <td>0</td>\n",
              "      <td>1</td>\n",
              "    </tr>\n",
              "    <tr>\n",
              "      <th>567</th>\n",
              "      <td>0</td>\n",
              "      <td>1</td>\n",
              "    </tr>\n",
              "    <tr>\n",
              "      <th>568</th>\n",
              "      <td>1</td>\n",
              "      <td>0</td>\n",
              "    </tr>\n",
              "  </tbody>\n",
              "</table>\n",
              "</div>\n",
              "      <button class=\"colab-df-convert\" onclick=\"convertToInteractive('df-3fe7a010-5f07-4a9a-bb19-eae8b101dc71')\"\n",
              "              title=\"Convert this dataframe to an interactive table.\"\n",
              "              style=\"display:none;\">\n",
              "        \n",
              "  <svg xmlns=\"http://www.w3.org/2000/svg\" height=\"24px\"viewBox=\"0 0 24 24\"\n",
              "       width=\"24px\">\n",
              "    <path d=\"M0 0h24v24H0V0z\" fill=\"none\"/>\n",
              "    <path d=\"M18.56 5.44l.94 2.06.94-2.06 2.06-.94-2.06-.94-.94-2.06-.94 2.06-2.06.94zm-11 1L8.5 8.5l.94-2.06 2.06-.94-2.06-.94L8.5 2.5l-.94 2.06-2.06.94zm10 10l.94 2.06.94-2.06 2.06-.94-2.06-.94-.94-2.06-.94 2.06-2.06.94z\"/><path d=\"M17.41 7.96l-1.37-1.37c-.4-.4-.92-.59-1.43-.59-.52 0-1.04.2-1.43.59L10.3 9.45l-7.72 7.72c-.78.78-.78 2.05 0 2.83L4 21.41c.39.39.9.59 1.41.59.51 0 1.02-.2 1.41-.59l7.78-7.78 2.81-2.81c.8-.78.8-2.07 0-2.86zM5.41 20L4 18.59l7.72-7.72 1.47 1.35L5.41 20z\"/>\n",
              "  </svg>\n",
              "      </button>\n",
              "      \n",
              "  <style>\n",
              "    .colab-df-container {\n",
              "      display:flex;\n",
              "      flex-wrap:wrap;\n",
              "      gap: 12px;\n",
              "    }\n",
              "\n",
              "    .colab-df-convert {\n",
              "      background-color: #E8F0FE;\n",
              "      border: none;\n",
              "      border-radius: 50%;\n",
              "      cursor: pointer;\n",
              "      display: none;\n",
              "      fill: #1967D2;\n",
              "      height: 32px;\n",
              "      padding: 0 0 0 0;\n",
              "      width: 32px;\n",
              "    }\n",
              "\n",
              "    .colab-df-convert:hover {\n",
              "      background-color: #E2EBFA;\n",
              "      box-shadow: 0px 1px 2px rgba(60, 64, 67, 0.3), 0px 1px 3px 1px rgba(60, 64, 67, 0.15);\n",
              "      fill: #174EA6;\n",
              "    }\n",
              "\n",
              "    [theme=dark] .colab-df-convert {\n",
              "      background-color: #3B4455;\n",
              "      fill: #D2E3FC;\n",
              "    }\n",
              "\n",
              "    [theme=dark] .colab-df-convert:hover {\n",
              "      background-color: #434B5C;\n",
              "      box-shadow: 0px 1px 3px 1px rgba(0, 0, 0, 0.15);\n",
              "      filter: drop-shadow(0px 1px 2px rgba(0, 0, 0, 0.3));\n",
              "      fill: #FFFFFF;\n",
              "    }\n",
              "  </style>\n",
              "\n",
              "      <script>\n",
              "        const buttonEl =\n",
              "          document.querySelector('#df-3fe7a010-5f07-4a9a-bb19-eae8b101dc71 button.colab-df-convert');\n",
              "        buttonEl.style.display =\n",
              "          google.colab.kernel.accessAllowed ? 'block' : 'none';\n",
              "\n",
              "        async function convertToInteractive(key) {\n",
              "          const element = document.querySelector('#df-3fe7a010-5f07-4a9a-bb19-eae8b101dc71');\n",
              "          const dataTable =\n",
              "            await google.colab.kernel.invokeFunction('convertToInteractive',\n",
              "                                                     [key], {});\n",
              "          if (!dataTable) return;\n",
              "\n",
              "          const docLinkHtml = 'Like what you see? Visit the ' +\n",
              "            '<a target=\"_blank\" href=https://colab.research.google.com/notebooks/data_table.ipynb>data table notebook</a>'\n",
              "            + ' to learn more about interactive tables.';\n",
              "          element.innerHTML = '';\n",
              "          dataTable['output_type'] = 'display_data';\n",
              "          await google.colab.output.renderOutput(dataTable, element);\n",
              "          const docLink = document.createElement('div');\n",
              "          docLink.innerHTML = docLinkHtml;\n",
              "          element.appendChild(docLink);\n",
              "        }\n",
              "      </script>\n",
              "    </div>\n",
              "  </div>\n",
              "  "
            ]
          },
          "metadata": {},
          "execution_count": 10
        }
      ],
      "source": [
        "y_num.tail()"
      ]
    },
    {
      "cell_type": "code",
      "execution_count": 11,
      "metadata": {
        "colab": {
          "base_uri": "https://localhost:8080/",
          "height": 1000
        },
        "id": "f3XJtmAW1aSD",
        "outputId": "54604b0c-bb61-4a2a-c1e3-a8002a0aa5a6"
      },
      "outputs": [
        {
          "output_type": "execute_result",
          "data": {
            "text/plain": [
              "                         radius_mean  texture_mean  perimeter_mean  area_mean  \\\n",
              "radius_mean                 1.000000      0.323782        0.997855   0.987357   \n",
              "texture_mean                0.323782      1.000000        0.329533   0.321086   \n",
              "perimeter_mean              0.997855      0.329533        1.000000   0.986507   \n",
              "area_mean                   0.987357      0.321086        0.986507   1.000000   \n",
              "smoothness_mean             0.170581     -0.023389        0.207278   0.177028   \n",
              "compactness_mean            0.506124      0.236702        0.556936   0.498502   \n",
              "concavity_mean              0.676764      0.302418        0.716136   0.685983   \n",
              "concave points_mean         0.822529      0.293464        0.850977   0.823269   \n",
              "symmetry_mean               0.147741      0.071401        0.183027   0.151293   \n",
              "fractal_dimension_mean     -0.311631     -0.076437       -0.261477  -0.283110   \n",
              "radius_se                   0.679090      0.275869        0.691765   0.732562   \n",
              "texture_se                 -0.097317      0.386358       -0.086761  -0.066280   \n",
              "perimeter_se                0.674172      0.281673        0.693135   0.726628   \n",
              "area_se                     0.735864      0.259845        0.744983   0.800086   \n",
              "smoothness_se              -0.222600      0.006614       -0.202694  -0.166777   \n",
              "compactness_se              0.206000      0.191975        0.250744   0.212583   \n",
              "concavity_se                0.194204      0.143293        0.228082   0.207660   \n",
              "concave points_se           0.376169      0.163851        0.407217   0.372320   \n",
              "symmetry_se                -0.104321      0.009127       -0.081629  -0.072497   \n",
              "fractal_dimension_se       -0.042641      0.054458       -0.005523  -0.019887   \n",
              "radius_worst                0.969539      0.352573        0.969476   0.962746   \n",
              "texture_worst               0.297008      0.912045        0.303038   0.287489   \n",
              "perimeter_worst             0.965137      0.358040        0.970387   0.959120   \n",
              "area_worst                  0.941082      0.343546        0.941550   0.959213   \n",
              "smoothness_worst            0.119616      0.077503        0.150549   0.123523   \n",
              "compactness_worst           0.413463      0.277830        0.455774   0.390410   \n",
              "concavity_worst             0.526911      0.301025        0.563879   0.512606   \n",
              "concave points_worst        0.744214      0.295316        0.771241   0.722017   \n",
              "symmetry_worst              0.163953      0.105008        0.189115   0.143570   \n",
              "fractal_dimension_worst     0.007066      0.119205        0.051019   0.003738   \n",
              "\n",
              "                         smoothness_mean  compactness_mean  concavity_mean  \\\n",
              "radius_mean                     0.170581          0.506124        0.676764   \n",
              "texture_mean                   -0.023389          0.236702        0.302418   \n",
              "perimeter_mean                  0.207278          0.556936        0.716136   \n",
              "area_mean                       0.177028          0.498502        0.685983   \n",
              "smoothness_mean                 1.000000          0.659123        0.521984   \n",
              "compactness_mean                0.659123          1.000000        0.883121   \n",
              "concavity_mean                  0.521984          0.883121        1.000000   \n",
              "concave points_mean             0.553695          0.831135        0.921391   \n",
              "symmetry_mean                   0.557775          0.602641        0.500667   \n",
              "fractal_dimension_mean          0.584792          0.565369        0.336783   \n",
              "radius_se                       0.301467          0.497473        0.631925   \n",
              "texture_se                      0.068406          0.046205        0.076218   \n",
              "perimeter_se                    0.296092          0.548905        0.660391   \n",
              "area_se                         0.246552          0.455653        0.617427   \n",
              "smoothness_se                   0.332375          0.135299        0.098564   \n",
              "compactness_se                  0.318943          0.738722        0.670279   \n",
              "concavity_se                    0.248396          0.570517        0.691270   \n",
              "concave points_se               0.380676          0.642262        0.683260   \n",
              "symmetry_se                     0.200774          0.229977        0.178009   \n",
              "fractal_dimension_se            0.283607          0.507318        0.449301   \n",
              "radius_worst                    0.213120          0.535315        0.688236   \n",
              "texture_worst                   0.036072          0.248133        0.299879   \n",
              "perimeter_worst                 0.238853          0.590210        0.729565   \n",
              "area_worst                      0.206718          0.509604        0.675987   \n",
              "smoothness_worst                0.805324          0.565541        0.448822   \n",
              "compactness_worst               0.472468          0.865809        0.754968   \n",
              "concavity_worst                 0.434926          0.816275        0.884103   \n",
              "concave points_worst            0.503053          0.815573        0.861323   \n",
              "symmetry_worst                  0.394309          0.510223        0.409464   \n",
              "fractal_dimension_worst         0.499316          0.687382        0.514930   \n",
              "\n",
              "                         concave points_mean  symmetry_mean  \\\n",
              "radius_mean                         0.822529       0.147741   \n",
              "texture_mean                        0.293464       0.071401   \n",
              "perimeter_mean                      0.850977       0.183027   \n",
              "area_mean                           0.823269       0.151293   \n",
              "smoothness_mean                     0.553695       0.557775   \n",
              "compactness_mean                    0.831135       0.602641   \n",
              "concavity_mean                      0.921391       0.500667   \n",
              "concave points_mean                 1.000000       0.462497   \n",
              "symmetry_mean                       0.462497       1.000000   \n",
              "fractal_dimension_mean              0.166917       0.479921   \n",
              "radius_se                           0.698050       0.303379   \n",
              "texture_se                          0.021480       0.128053   \n",
              "perimeter_se                        0.710650       0.313893   \n",
              "area_se                             0.690299       0.223970   \n",
              "smoothness_se                       0.027653       0.187321   \n",
              "compactness_se                      0.490424       0.421659   \n",
              "concavity_se                        0.439167       0.342627   \n",
              "concave points_se                   0.615634       0.393298   \n",
              "symmetry_se                         0.095351       0.449137   \n",
              "fractal_dimension_se                0.257584       0.331786   \n",
              "radius_worst                        0.830318       0.185728   \n",
              "texture_worst                       0.292752       0.090651   \n",
              "perimeter_worst                     0.855923       0.219169   \n",
              "area_worst                          0.809630       0.177193   \n",
              "smoothness_worst                    0.452753       0.426675   \n",
              "compactness_worst                   0.667454       0.473200   \n",
              "concavity_worst                     0.752399       0.433721   \n",
              "concave points_worst                0.910155       0.430297   \n",
              "symmetry_worst                      0.375744       0.699826   \n",
              "fractal_dimension_worst             0.368661       0.438413   \n",
              "\n",
              "                         fractal_dimension_mean  ...  radius_worst  \\\n",
              "radius_mean                           -0.311631  ...      0.969539   \n",
              "texture_mean                          -0.076437  ...      0.352573   \n",
              "perimeter_mean                        -0.261477  ...      0.969476   \n",
              "area_mean                             -0.283110  ...      0.962746   \n",
              "smoothness_mean                        0.584792  ...      0.213120   \n",
              "compactness_mean                       0.565369  ...      0.535315   \n",
              "concavity_mean                         0.336783  ...      0.688236   \n",
              "concave points_mean                    0.166917  ...      0.830318   \n",
              "symmetry_mean                          0.479921  ...      0.185728   \n",
              "fractal_dimension_mean                 1.000000  ...     -0.253691   \n",
              "radius_se                              0.000111  ...      0.715065   \n",
              "texture_se                             0.164174  ...     -0.111690   \n",
              "perimeter_se                           0.039830  ...      0.697201   \n",
              "area_se                               -0.090170  ...      0.757373   \n",
              "smoothness_se                          0.401964  ...     -0.230691   \n",
              "compactness_se                         0.559837  ...      0.204607   \n",
              "concavity_se                           0.446630  ...      0.186904   \n",
              "concave points_se                      0.341198  ...      0.358127   \n",
              "symmetry_se                            0.345007  ...     -0.128121   \n",
              "fractal_dimension_se                   0.688132  ...     -0.037488   \n",
              "radius_worst                          -0.253691  ...      1.000000   \n",
              "texture_worst                         -0.051269  ...      0.359921   \n",
              "perimeter_worst                       -0.205151  ...      0.993708   \n",
              "area_worst                            -0.231854  ...      0.984015   \n",
              "smoothness_worst                       0.504942  ...      0.216574   \n",
              "compactness_worst                      0.458798  ...      0.475820   \n",
              "concavity_worst                        0.346234  ...      0.573975   \n",
              "concave points_worst                   0.175325  ...      0.787424   \n",
              "symmetry_worst                         0.334019  ...      0.243529   \n",
              "fractal_dimension_worst                0.767297  ...      0.093492   \n",
              "\n",
              "                         texture_worst  perimeter_worst  area_worst  \\\n",
              "radius_mean                   0.297008         0.965137    0.941082   \n",
              "texture_mean                  0.912045         0.358040    0.343546   \n",
              "perimeter_mean                0.303038         0.970387    0.941550   \n",
              "area_mean                     0.287489         0.959120    0.959213   \n",
              "smoothness_mean               0.036072         0.238853    0.206718   \n",
              "compactness_mean              0.248133         0.590210    0.509604   \n",
              "concavity_mean                0.299879         0.729565    0.675987   \n",
              "concave points_mean           0.292752         0.855923    0.809630   \n",
              "symmetry_mean                 0.090651         0.219169    0.177193   \n",
              "fractal_dimension_mean       -0.051269        -0.205151   -0.231854   \n",
              "radius_se                     0.194799         0.719684    0.751548   \n",
              "texture_se                    0.409003        -0.102242   -0.083195   \n",
              "perimeter_se                  0.200371         0.721031    0.730713   \n",
              "area_se                       0.196497         0.761213    0.811408   \n",
              "smoothness_se                -0.074743        -0.217304   -0.182195   \n",
              "compactness_se                0.143003         0.260516    0.199371   \n",
              "concavity_se                  0.100241         0.226680    0.188353   \n",
              "concave points_se             0.086741         0.394999    0.342271   \n",
              "symmetry_se                  -0.077473        -0.103753   -0.110343   \n",
              "fractal_dimension_se         -0.003195        -0.001000   -0.022736   \n",
              "radius_worst                  0.359921         0.993708    0.984015   \n",
              "texture_worst                 1.000000         0.365098    0.345842   \n",
              "perimeter_worst               0.365098         1.000000    0.977578   \n",
              "area_worst                    0.345842         0.977578    1.000000   \n",
              "smoothness_worst              0.225429         0.236775    0.209145   \n",
              "compactness_worst             0.360832         0.529408    0.438296   \n",
              "concavity_worst               0.368366         0.618344    0.543331   \n",
              "concave points_worst          0.359755         0.816322    0.747419   \n",
              "symmetry_worst                0.233027         0.269493    0.209146   \n",
              "fractal_dimension_worst       0.219122         0.138957    0.079647   \n",
              "\n",
              "                         smoothness_worst  compactness_worst  concavity_worst  \\\n",
              "radius_mean                      0.119616           0.413463         0.526911   \n",
              "texture_mean                     0.077503           0.277830         0.301025   \n",
              "perimeter_mean                   0.150549           0.455774         0.563879   \n",
              "area_mean                        0.123523           0.390410         0.512606   \n",
              "smoothness_mean                  0.805324           0.472468         0.434926   \n",
              "compactness_mean                 0.565541           0.865809         0.816275   \n",
              "concavity_mean                   0.448822           0.754968         0.884103   \n",
              "concave points_mean              0.452753           0.667454         0.752399   \n",
              "symmetry_mean                    0.426675           0.473200         0.433721   \n",
              "fractal_dimension_mean           0.504942           0.458798         0.346234   \n",
              "radius_se                        0.141919           0.287103         0.380585   \n",
              "texture_se                      -0.073658          -0.092439        -0.068956   \n",
              "perimeter_se                     0.130054           0.341919         0.418899   \n",
              "area_se                          0.125389           0.283257         0.385100   \n",
              "smoothness_se                    0.314457          -0.055558        -0.058298   \n",
              "compactness_se                   0.227394           0.678780         0.639147   \n",
              "concavity_se                     0.168481           0.484858         0.662564   \n",
              "concave points_se                0.215351           0.452888         0.549592   \n",
              "symmetry_se                     -0.012662           0.060255         0.037119   \n",
              "fractal_dimension_se             0.170568           0.390159         0.379975   \n",
              "radius_worst                     0.216574           0.475820         0.573975   \n",
              "texture_worst                    0.225429           0.360832         0.368366   \n",
              "perimeter_worst                  0.236775           0.529408         0.618344   \n",
              "area_worst                       0.209145           0.438296         0.543331   \n",
              "smoothness_worst                 1.000000           0.568187         0.518523   \n",
              "compactness_worst                0.568187           1.000000         0.892261   \n",
              "concavity_worst                  0.518523           0.892261         1.000000   \n",
              "concave points_worst             0.547691           0.801080         0.855434   \n",
              "symmetry_worst                   0.493838           0.614441         0.532520   \n",
              "fractal_dimension_worst          0.617624           0.810455         0.686511   \n",
              "\n",
              "                         concave points_worst  symmetry_worst  \\\n",
              "radius_mean                          0.744214        0.163953   \n",
              "texture_mean                         0.295316        0.105008   \n",
              "perimeter_mean                       0.771241        0.189115   \n",
              "area_mean                            0.722017        0.143570   \n",
              "smoothness_mean                      0.503053        0.394309   \n",
              "compactness_mean                     0.815573        0.510223   \n",
              "concavity_mean                       0.861323        0.409464   \n",
              "concave points_mean                  0.910155        0.375744   \n",
              "symmetry_mean                        0.430297        0.699826   \n",
              "fractal_dimension_mean               0.175325        0.334019   \n",
              "radius_se                            0.531062        0.094543   \n",
              "texture_se                          -0.119638       -0.128215   \n",
              "perimeter_se                         0.554897        0.109930   \n",
              "area_se                              0.538166        0.074126   \n",
              "smoothness_se                       -0.102007       -0.107342   \n",
              "compactness_se                       0.483208        0.277878   \n",
              "concavity_se                         0.440472        0.197788   \n",
              "concave points_se                    0.602450        0.143116   \n",
              "symmetry_se                         -0.030413        0.389402   \n",
              "fractal_dimension_se                 0.215204        0.111094   \n",
              "radius_worst                         0.787424        0.243529   \n",
              "texture_worst                        0.359755        0.233027   \n",
              "perimeter_worst                      0.816322        0.269493   \n",
              "area_worst                           0.747419        0.209146   \n",
              "smoothness_worst                     0.547691        0.493838   \n",
              "compactness_worst                    0.801080        0.614441   \n",
              "concavity_worst                      0.855434        0.532520   \n",
              "concave points_worst                 1.000000        0.502528   \n",
              "symmetry_worst                       0.502528        1.000000   \n",
              "fractal_dimension_worst              0.511114        0.537848   \n",
              "\n",
              "                         fractal_dimension_worst  \n",
              "radius_mean                             0.007066  \n",
              "texture_mean                            0.119205  \n",
              "perimeter_mean                          0.051019  \n",
              "area_mean                               0.003738  \n",
              "smoothness_mean                         0.499316  \n",
              "compactness_mean                        0.687382  \n",
              "concavity_mean                          0.514930  \n",
              "concave points_mean                     0.368661  \n",
              "symmetry_mean                           0.438413  \n",
              "fractal_dimension_mean                  0.767297  \n",
              "radius_se                               0.049559  \n",
              "texture_se                             -0.045655  \n",
              "perimeter_se                            0.085433  \n",
              "area_se                                 0.017539  \n",
              "smoothness_se                           0.101480  \n",
              "compactness_se                          0.590973  \n",
              "concavity_se                            0.439329  \n",
              "concave points_se                       0.310655  \n",
              "symmetry_se                             0.078079  \n",
              "fractal_dimension_se                    0.591328  \n",
              "radius_worst                            0.093492  \n",
              "texture_worst                           0.219122  \n",
              "perimeter_worst                         0.138957  \n",
              "area_worst                              0.079647  \n",
              "smoothness_worst                        0.617624  \n",
              "compactness_worst                       0.810455  \n",
              "concavity_worst                         0.686511  \n",
              "concave points_worst                    0.511114  \n",
              "symmetry_worst                          0.537848  \n",
              "fractal_dimension_worst                 1.000000  \n",
              "\n",
              "[30 rows x 30 columns]"
            ],
            "text/html": [
              "\n",
              "  <div id=\"df-7e2a60be-328d-46a3-9d98-3bce46986edb\">\n",
              "    <div class=\"colab-df-container\">\n",
              "      <div>\n",
              "<style scoped>\n",
              "    .dataframe tbody tr th:only-of-type {\n",
              "        vertical-align: middle;\n",
              "    }\n",
              "\n",
              "    .dataframe tbody tr th {\n",
              "        vertical-align: top;\n",
              "    }\n",
              "\n",
              "    .dataframe thead th {\n",
              "        text-align: right;\n",
              "    }\n",
              "</style>\n",
              "<table border=\"1\" class=\"dataframe\">\n",
              "  <thead>\n",
              "    <tr style=\"text-align: right;\">\n",
              "      <th></th>\n",
              "      <th>radius_mean</th>\n",
              "      <th>texture_mean</th>\n",
              "      <th>perimeter_mean</th>\n",
              "      <th>area_mean</th>\n",
              "      <th>smoothness_mean</th>\n",
              "      <th>compactness_mean</th>\n",
              "      <th>concavity_mean</th>\n",
              "      <th>concave points_mean</th>\n",
              "      <th>symmetry_mean</th>\n",
              "      <th>fractal_dimension_mean</th>\n",
              "      <th>...</th>\n",
              "      <th>radius_worst</th>\n",
              "      <th>texture_worst</th>\n",
              "      <th>perimeter_worst</th>\n",
              "      <th>area_worst</th>\n",
              "      <th>smoothness_worst</th>\n",
              "      <th>compactness_worst</th>\n",
              "      <th>concavity_worst</th>\n",
              "      <th>concave points_worst</th>\n",
              "      <th>symmetry_worst</th>\n",
              "      <th>fractal_dimension_worst</th>\n",
              "    </tr>\n",
              "  </thead>\n",
              "  <tbody>\n",
              "    <tr>\n",
              "      <th>radius_mean</th>\n",
              "      <td>1.000000</td>\n",
              "      <td>0.323782</td>\n",
              "      <td>0.997855</td>\n",
              "      <td>0.987357</td>\n",
              "      <td>0.170581</td>\n",
              "      <td>0.506124</td>\n",
              "      <td>0.676764</td>\n",
              "      <td>0.822529</td>\n",
              "      <td>0.147741</td>\n",
              "      <td>-0.311631</td>\n",
              "      <td>...</td>\n",
              "      <td>0.969539</td>\n",
              "      <td>0.297008</td>\n",
              "      <td>0.965137</td>\n",
              "      <td>0.941082</td>\n",
              "      <td>0.119616</td>\n",
              "      <td>0.413463</td>\n",
              "      <td>0.526911</td>\n",
              "      <td>0.744214</td>\n",
              "      <td>0.163953</td>\n",
              "      <td>0.007066</td>\n",
              "    </tr>\n",
              "    <tr>\n",
              "      <th>texture_mean</th>\n",
              "      <td>0.323782</td>\n",
              "      <td>1.000000</td>\n",
              "      <td>0.329533</td>\n",
              "      <td>0.321086</td>\n",
              "      <td>-0.023389</td>\n",
              "      <td>0.236702</td>\n",
              "      <td>0.302418</td>\n",
              "      <td>0.293464</td>\n",
              "      <td>0.071401</td>\n",
              "      <td>-0.076437</td>\n",
              "      <td>...</td>\n",
              "      <td>0.352573</td>\n",
              "      <td>0.912045</td>\n",
              "      <td>0.358040</td>\n",
              "      <td>0.343546</td>\n",
              "      <td>0.077503</td>\n",
              "      <td>0.277830</td>\n",
              "      <td>0.301025</td>\n",
              "      <td>0.295316</td>\n",
              "      <td>0.105008</td>\n",
              "      <td>0.119205</td>\n",
              "    </tr>\n",
              "    <tr>\n",
              "      <th>perimeter_mean</th>\n",
              "      <td>0.997855</td>\n",
              "      <td>0.329533</td>\n",
              "      <td>1.000000</td>\n",
              "      <td>0.986507</td>\n",
              "      <td>0.207278</td>\n",
              "      <td>0.556936</td>\n",
              "      <td>0.716136</td>\n",
              "      <td>0.850977</td>\n",
              "      <td>0.183027</td>\n",
              "      <td>-0.261477</td>\n",
              "      <td>...</td>\n",
              "      <td>0.969476</td>\n",
              "      <td>0.303038</td>\n",
              "      <td>0.970387</td>\n",
              "      <td>0.941550</td>\n",
              "      <td>0.150549</td>\n",
              "      <td>0.455774</td>\n",
              "      <td>0.563879</td>\n",
              "      <td>0.771241</td>\n",
              "      <td>0.189115</td>\n",
              "      <td>0.051019</td>\n",
              "    </tr>\n",
              "    <tr>\n",
              "      <th>area_mean</th>\n",
              "      <td>0.987357</td>\n",
              "      <td>0.321086</td>\n",
              "      <td>0.986507</td>\n",
              "      <td>1.000000</td>\n",
              "      <td>0.177028</td>\n",
              "      <td>0.498502</td>\n",
              "      <td>0.685983</td>\n",
              "      <td>0.823269</td>\n",
              "      <td>0.151293</td>\n",
              "      <td>-0.283110</td>\n",
              "      <td>...</td>\n",
              "      <td>0.962746</td>\n",
              "      <td>0.287489</td>\n",
              "      <td>0.959120</td>\n",
              "      <td>0.959213</td>\n",
              "      <td>0.123523</td>\n",
              "      <td>0.390410</td>\n",
              "      <td>0.512606</td>\n",
              "      <td>0.722017</td>\n",
              "      <td>0.143570</td>\n",
              "      <td>0.003738</td>\n",
              "    </tr>\n",
              "    <tr>\n",
              "      <th>smoothness_mean</th>\n",
              "      <td>0.170581</td>\n",
              "      <td>-0.023389</td>\n",
              "      <td>0.207278</td>\n",
              "      <td>0.177028</td>\n",
              "      <td>1.000000</td>\n",
              "      <td>0.659123</td>\n",
              "      <td>0.521984</td>\n",
              "      <td>0.553695</td>\n",
              "      <td>0.557775</td>\n",
              "      <td>0.584792</td>\n",
              "      <td>...</td>\n",
              "      <td>0.213120</td>\n",
              "      <td>0.036072</td>\n",
              "      <td>0.238853</td>\n",
              "      <td>0.206718</td>\n",
              "      <td>0.805324</td>\n",
              "      <td>0.472468</td>\n",
              "      <td>0.434926</td>\n",
              "      <td>0.503053</td>\n",
              "      <td>0.394309</td>\n",
              "      <td>0.499316</td>\n",
              "    </tr>\n",
              "    <tr>\n",
              "      <th>compactness_mean</th>\n",
              "      <td>0.506124</td>\n",
              "      <td>0.236702</td>\n",
              "      <td>0.556936</td>\n",
              "      <td>0.498502</td>\n",
              "      <td>0.659123</td>\n",
              "      <td>1.000000</td>\n",
              "      <td>0.883121</td>\n",
              "      <td>0.831135</td>\n",
              "      <td>0.602641</td>\n",
              "      <td>0.565369</td>\n",
              "      <td>...</td>\n",
              "      <td>0.535315</td>\n",
              "      <td>0.248133</td>\n",
              "      <td>0.590210</td>\n",
              "      <td>0.509604</td>\n",
              "      <td>0.565541</td>\n",
              "      <td>0.865809</td>\n",
              "      <td>0.816275</td>\n",
              "      <td>0.815573</td>\n",
              "      <td>0.510223</td>\n",
              "      <td>0.687382</td>\n",
              "    </tr>\n",
              "    <tr>\n",
              "      <th>concavity_mean</th>\n",
              "      <td>0.676764</td>\n",
              "      <td>0.302418</td>\n",
              "      <td>0.716136</td>\n",
              "      <td>0.685983</td>\n",
              "      <td>0.521984</td>\n",
              "      <td>0.883121</td>\n",
              "      <td>1.000000</td>\n",
              "      <td>0.921391</td>\n",
              "      <td>0.500667</td>\n",
              "      <td>0.336783</td>\n",
              "      <td>...</td>\n",
              "      <td>0.688236</td>\n",
              "      <td>0.299879</td>\n",
              "      <td>0.729565</td>\n",
              "      <td>0.675987</td>\n",
              "      <td>0.448822</td>\n",
              "      <td>0.754968</td>\n",
              "      <td>0.884103</td>\n",
              "      <td>0.861323</td>\n",
              "      <td>0.409464</td>\n",
              "      <td>0.514930</td>\n",
              "    </tr>\n",
              "    <tr>\n",
              "      <th>concave points_mean</th>\n",
              "      <td>0.822529</td>\n",
              "      <td>0.293464</td>\n",
              "      <td>0.850977</td>\n",
              "      <td>0.823269</td>\n",
              "      <td>0.553695</td>\n",
              "      <td>0.831135</td>\n",
              "      <td>0.921391</td>\n",
              "      <td>1.000000</td>\n",
              "      <td>0.462497</td>\n",
              "      <td>0.166917</td>\n",
              "      <td>...</td>\n",
              "      <td>0.830318</td>\n",
              "      <td>0.292752</td>\n",
              "      <td>0.855923</td>\n",
              "      <td>0.809630</td>\n",
              "      <td>0.452753</td>\n",
              "      <td>0.667454</td>\n",
              "      <td>0.752399</td>\n",
              "      <td>0.910155</td>\n",
              "      <td>0.375744</td>\n",
              "      <td>0.368661</td>\n",
              "    </tr>\n",
              "    <tr>\n",
              "      <th>symmetry_mean</th>\n",
              "      <td>0.147741</td>\n",
              "      <td>0.071401</td>\n",
              "      <td>0.183027</td>\n",
              "      <td>0.151293</td>\n",
              "      <td>0.557775</td>\n",
              "      <td>0.602641</td>\n",
              "      <td>0.500667</td>\n",
              "      <td>0.462497</td>\n",
              "      <td>1.000000</td>\n",
              "      <td>0.479921</td>\n",
              "      <td>...</td>\n",
              "      <td>0.185728</td>\n",
              "      <td>0.090651</td>\n",
              "      <td>0.219169</td>\n",
              "      <td>0.177193</td>\n",
              "      <td>0.426675</td>\n",
              "      <td>0.473200</td>\n",
              "      <td>0.433721</td>\n",
              "      <td>0.430297</td>\n",
              "      <td>0.699826</td>\n",
              "      <td>0.438413</td>\n",
              "    </tr>\n",
              "    <tr>\n",
              "      <th>fractal_dimension_mean</th>\n",
              "      <td>-0.311631</td>\n",
              "      <td>-0.076437</td>\n",
              "      <td>-0.261477</td>\n",
              "      <td>-0.283110</td>\n",
              "      <td>0.584792</td>\n",
              "      <td>0.565369</td>\n",
              "      <td>0.336783</td>\n",
              "      <td>0.166917</td>\n",
              "      <td>0.479921</td>\n",
              "      <td>1.000000</td>\n",
              "      <td>...</td>\n",
              "      <td>-0.253691</td>\n",
              "      <td>-0.051269</td>\n",
              "      <td>-0.205151</td>\n",
              "      <td>-0.231854</td>\n",
              "      <td>0.504942</td>\n",
              "      <td>0.458798</td>\n",
              "      <td>0.346234</td>\n",
              "      <td>0.175325</td>\n",
              "      <td>0.334019</td>\n",
              "      <td>0.767297</td>\n",
              "    </tr>\n",
              "    <tr>\n",
              "      <th>radius_se</th>\n",
              "      <td>0.679090</td>\n",
              "      <td>0.275869</td>\n",
              "      <td>0.691765</td>\n",
              "      <td>0.732562</td>\n",
              "      <td>0.301467</td>\n",
              "      <td>0.497473</td>\n",
              "      <td>0.631925</td>\n",
              "      <td>0.698050</td>\n",
              "      <td>0.303379</td>\n",
              "      <td>0.000111</td>\n",
              "      <td>...</td>\n",
              "      <td>0.715065</td>\n",
              "      <td>0.194799</td>\n",
              "      <td>0.719684</td>\n",
              "      <td>0.751548</td>\n",
              "      <td>0.141919</td>\n",
              "      <td>0.287103</td>\n",
              "      <td>0.380585</td>\n",
              "      <td>0.531062</td>\n",
              "      <td>0.094543</td>\n",
              "      <td>0.049559</td>\n",
              "    </tr>\n",
              "    <tr>\n",
              "      <th>texture_se</th>\n",
              "      <td>-0.097317</td>\n",
              "      <td>0.386358</td>\n",
              "      <td>-0.086761</td>\n",
              "      <td>-0.066280</td>\n",
              "      <td>0.068406</td>\n",
              "      <td>0.046205</td>\n",
              "      <td>0.076218</td>\n",
              "      <td>0.021480</td>\n",
              "      <td>0.128053</td>\n",
              "      <td>0.164174</td>\n",
              "      <td>...</td>\n",
              "      <td>-0.111690</td>\n",
              "      <td>0.409003</td>\n",
              "      <td>-0.102242</td>\n",
              "      <td>-0.083195</td>\n",
              "      <td>-0.073658</td>\n",
              "      <td>-0.092439</td>\n",
              "      <td>-0.068956</td>\n",
              "      <td>-0.119638</td>\n",
              "      <td>-0.128215</td>\n",
              "      <td>-0.045655</td>\n",
              "    </tr>\n",
              "    <tr>\n",
              "      <th>perimeter_se</th>\n",
              "      <td>0.674172</td>\n",
              "      <td>0.281673</td>\n",
              "      <td>0.693135</td>\n",
              "      <td>0.726628</td>\n",
              "      <td>0.296092</td>\n",
              "      <td>0.548905</td>\n",
              "      <td>0.660391</td>\n",
              "      <td>0.710650</td>\n",
              "      <td>0.313893</td>\n",
              "      <td>0.039830</td>\n",
              "      <td>...</td>\n",
              "      <td>0.697201</td>\n",
              "      <td>0.200371</td>\n",
              "      <td>0.721031</td>\n",
              "      <td>0.730713</td>\n",
              "      <td>0.130054</td>\n",
              "      <td>0.341919</td>\n",
              "      <td>0.418899</td>\n",
              "      <td>0.554897</td>\n",
              "      <td>0.109930</td>\n",
              "      <td>0.085433</td>\n",
              "    </tr>\n",
              "    <tr>\n",
              "      <th>area_se</th>\n",
              "      <td>0.735864</td>\n",
              "      <td>0.259845</td>\n",
              "      <td>0.744983</td>\n",
              "      <td>0.800086</td>\n",
              "      <td>0.246552</td>\n",
              "      <td>0.455653</td>\n",
              "      <td>0.617427</td>\n",
              "      <td>0.690299</td>\n",
              "      <td>0.223970</td>\n",
              "      <td>-0.090170</td>\n",
              "      <td>...</td>\n",
              "      <td>0.757373</td>\n",
              "      <td>0.196497</td>\n",
              "      <td>0.761213</td>\n",
              "      <td>0.811408</td>\n",
              "      <td>0.125389</td>\n",
              "      <td>0.283257</td>\n",
              "      <td>0.385100</td>\n",
              "      <td>0.538166</td>\n",
              "      <td>0.074126</td>\n",
              "      <td>0.017539</td>\n",
              "    </tr>\n",
              "    <tr>\n",
              "      <th>smoothness_se</th>\n",
              "      <td>-0.222600</td>\n",
              "      <td>0.006614</td>\n",
              "      <td>-0.202694</td>\n",
              "      <td>-0.166777</td>\n",
              "      <td>0.332375</td>\n",
              "      <td>0.135299</td>\n",
              "      <td>0.098564</td>\n",
              "      <td>0.027653</td>\n",
              "      <td>0.187321</td>\n",
              "      <td>0.401964</td>\n",
              "      <td>...</td>\n",
              "      <td>-0.230691</td>\n",
              "      <td>-0.074743</td>\n",
              "      <td>-0.217304</td>\n",
              "      <td>-0.182195</td>\n",
              "      <td>0.314457</td>\n",
              "      <td>-0.055558</td>\n",
              "      <td>-0.058298</td>\n",
              "      <td>-0.102007</td>\n",
              "      <td>-0.107342</td>\n",
              "      <td>0.101480</td>\n",
              "    </tr>\n",
              "    <tr>\n",
              "      <th>compactness_se</th>\n",
              "      <td>0.206000</td>\n",
              "      <td>0.191975</td>\n",
              "      <td>0.250744</td>\n",
              "      <td>0.212583</td>\n",
              "      <td>0.318943</td>\n",
              "      <td>0.738722</td>\n",
              "      <td>0.670279</td>\n",
              "      <td>0.490424</td>\n",
              "      <td>0.421659</td>\n",
              "      <td>0.559837</td>\n",
              "      <td>...</td>\n",
              "      <td>0.204607</td>\n",
              "      <td>0.143003</td>\n",
              "      <td>0.260516</td>\n",
              "      <td>0.199371</td>\n",
              "      <td>0.227394</td>\n",
              "      <td>0.678780</td>\n",
              "      <td>0.639147</td>\n",
              "      <td>0.483208</td>\n",
              "      <td>0.277878</td>\n",
              "      <td>0.590973</td>\n",
              "    </tr>\n",
              "    <tr>\n",
              "      <th>concavity_se</th>\n",
              "      <td>0.194204</td>\n",
              "      <td>0.143293</td>\n",
              "      <td>0.228082</td>\n",
              "      <td>0.207660</td>\n",
              "      <td>0.248396</td>\n",
              "      <td>0.570517</td>\n",
              "      <td>0.691270</td>\n",
              "      <td>0.439167</td>\n",
              "      <td>0.342627</td>\n",
              "      <td>0.446630</td>\n",
              "      <td>...</td>\n",
              "      <td>0.186904</td>\n",
              "      <td>0.100241</td>\n",
              "      <td>0.226680</td>\n",
              "      <td>0.188353</td>\n",
              "      <td>0.168481</td>\n",
              "      <td>0.484858</td>\n",
              "      <td>0.662564</td>\n",
              "      <td>0.440472</td>\n",
              "      <td>0.197788</td>\n",
              "      <td>0.439329</td>\n",
              "    </tr>\n",
              "    <tr>\n",
              "      <th>concave points_se</th>\n",
              "      <td>0.376169</td>\n",
              "      <td>0.163851</td>\n",
              "      <td>0.407217</td>\n",
              "      <td>0.372320</td>\n",
              "      <td>0.380676</td>\n",
              "      <td>0.642262</td>\n",
              "      <td>0.683260</td>\n",
              "      <td>0.615634</td>\n",
              "      <td>0.393298</td>\n",
              "      <td>0.341198</td>\n",
              "      <td>...</td>\n",
              "      <td>0.358127</td>\n",
              "      <td>0.086741</td>\n",
              "      <td>0.394999</td>\n",
              "      <td>0.342271</td>\n",
              "      <td>0.215351</td>\n",
              "      <td>0.452888</td>\n",
              "      <td>0.549592</td>\n",
              "      <td>0.602450</td>\n",
              "      <td>0.143116</td>\n",
              "      <td>0.310655</td>\n",
              "    </tr>\n",
              "    <tr>\n",
              "      <th>symmetry_se</th>\n",
              "      <td>-0.104321</td>\n",
              "      <td>0.009127</td>\n",
              "      <td>-0.081629</td>\n",
              "      <td>-0.072497</td>\n",
              "      <td>0.200774</td>\n",
              "      <td>0.229977</td>\n",
              "      <td>0.178009</td>\n",
              "      <td>0.095351</td>\n",
              "      <td>0.449137</td>\n",
              "      <td>0.345007</td>\n",
              "      <td>...</td>\n",
              "      <td>-0.128121</td>\n",
              "      <td>-0.077473</td>\n",
              "      <td>-0.103753</td>\n",
              "      <td>-0.110343</td>\n",
              "      <td>-0.012662</td>\n",
              "      <td>0.060255</td>\n",
              "      <td>0.037119</td>\n",
              "      <td>-0.030413</td>\n",
              "      <td>0.389402</td>\n",
              "      <td>0.078079</td>\n",
              "    </tr>\n",
              "    <tr>\n",
              "      <th>fractal_dimension_se</th>\n",
              "      <td>-0.042641</td>\n",
              "      <td>0.054458</td>\n",
              "      <td>-0.005523</td>\n",
              "      <td>-0.019887</td>\n",
              "      <td>0.283607</td>\n",
              "      <td>0.507318</td>\n",
              "      <td>0.449301</td>\n",
              "      <td>0.257584</td>\n",
              "      <td>0.331786</td>\n",
              "      <td>0.688132</td>\n",
              "      <td>...</td>\n",
              "      <td>-0.037488</td>\n",
              "      <td>-0.003195</td>\n",
              "      <td>-0.001000</td>\n",
              "      <td>-0.022736</td>\n",
              "      <td>0.170568</td>\n",
              "      <td>0.390159</td>\n",
              "      <td>0.379975</td>\n",
              "      <td>0.215204</td>\n",
              "      <td>0.111094</td>\n",
              "      <td>0.591328</td>\n",
              "    </tr>\n",
              "    <tr>\n",
              "      <th>radius_worst</th>\n",
              "      <td>0.969539</td>\n",
              "      <td>0.352573</td>\n",
              "      <td>0.969476</td>\n",
              "      <td>0.962746</td>\n",
              "      <td>0.213120</td>\n",
              "      <td>0.535315</td>\n",
              "      <td>0.688236</td>\n",
              "      <td>0.830318</td>\n",
              "      <td>0.185728</td>\n",
              "      <td>-0.253691</td>\n",
              "      <td>...</td>\n",
              "      <td>1.000000</td>\n",
              "      <td>0.359921</td>\n",
              "      <td>0.993708</td>\n",
              "      <td>0.984015</td>\n",
              "      <td>0.216574</td>\n",
              "      <td>0.475820</td>\n",
              "      <td>0.573975</td>\n",
              "      <td>0.787424</td>\n",
              "      <td>0.243529</td>\n",
              "      <td>0.093492</td>\n",
              "    </tr>\n",
              "    <tr>\n",
              "      <th>texture_worst</th>\n",
              "      <td>0.297008</td>\n",
              "      <td>0.912045</td>\n",
              "      <td>0.303038</td>\n",
              "      <td>0.287489</td>\n",
              "      <td>0.036072</td>\n",
              "      <td>0.248133</td>\n",
              "      <td>0.299879</td>\n",
              "      <td>0.292752</td>\n",
              "      <td>0.090651</td>\n",
              "      <td>-0.051269</td>\n",
              "      <td>...</td>\n",
              "      <td>0.359921</td>\n",
              "      <td>1.000000</td>\n",
              "      <td>0.365098</td>\n",
              "      <td>0.345842</td>\n",
              "      <td>0.225429</td>\n",
              "      <td>0.360832</td>\n",
              "      <td>0.368366</td>\n",
              "      <td>0.359755</td>\n",
              "      <td>0.233027</td>\n",
              "      <td>0.219122</td>\n",
              "    </tr>\n",
              "    <tr>\n",
              "      <th>perimeter_worst</th>\n",
              "      <td>0.965137</td>\n",
              "      <td>0.358040</td>\n",
              "      <td>0.970387</td>\n",
              "      <td>0.959120</td>\n",
              "      <td>0.238853</td>\n",
              "      <td>0.590210</td>\n",
              "      <td>0.729565</td>\n",
              "      <td>0.855923</td>\n",
              "      <td>0.219169</td>\n",
              "      <td>-0.205151</td>\n",
              "      <td>...</td>\n",
              "      <td>0.993708</td>\n",
              "      <td>0.365098</td>\n",
              "      <td>1.000000</td>\n",
              "      <td>0.977578</td>\n",
              "      <td>0.236775</td>\n",
              "      <td>0.529408</td>\n",
              "      <td>0.618344</td>\n",
              "      <td>0.816322</td>\n",
              "      <td>0.269493</td>\n",
              "      <td>0.138957</td>\n",
              "    </tr>\n",
              "    <tr>\n",
              "      <th>area_worst</th>\n",
              "      <td>0.941082</td>\n",
              "      <td>0.343546</td>\n",
              "      <td>0.941550</td>\n",
              "      <td>0.959213</td>\n",
              "      <td>0.206718</td>\n",
              "      <td>0.509604</td>\n",
              "      <td>0.675987</td>\n",
              "      <td>0.809630</td>\n",
              "      <td>0.177193</td>\n",
              "      <td>-0.231854</td>\n",
              "      <td>...</td>\n",
              "      <td>0.984015</td>\n",
              "      <td>0.345842</td>\n",
              "      <td>0.977578</td>\n",
              "      <td>1.000000</td>\n",
              "      <td>0.209145</td>\n",
              "      <td>0.438296</td>\n",
              "      <td>0.543331</td>\n",
              "      <td>0.747419</td>\n",
              "      <td>0.209146</td>\n",
              "      <td>0.079647</td>\n",
              "    </tr>\n",
              "    <tr>\n",
              "      <th>smoothness_worst</th>\n",
              "      <td>0.119616</td>\n",
              "      <td>0.077503</td>\n",
              "      <td>0.150549</td>\n",
              "      <td>0.123523</td>\n",
              "      <td>0.805324</td>\n",
              "      <td>0.565541</td>\n",
              "      <td>0.448822</td>\n",
              "      <td>0.452753</td>\n",
              "      <td>0.426675</td>\n",
              "      <td>0.504942</td>\n",
              "      <td>...</td>\n",
              "      <td>0.216574</td>\n",
              "      <td>0.225429</td>\n",
              "      <td>0.236775</td>\n",
              "      <td>0.209145</td>\n",
              "      <td>1.000000</td>\n",
              "      <td>0.568187</td>\n",
              "      <td>0.518523</td>\n",
              "      <td>0.547691</td>\n",
              "      <td>0.493838</td>\n",
              "      <td>0.617624</td>\n",
              "    </tr>\n",
              "    <tr>\n",
              "      <th>compactness_worst</th>\n",
              "      <td>0.413463</td>\n",
              "      <td>0.277830</td>\n",
              "      <td>0.455774</td>\n",
              "      <td>0.390410</td>\n",
              "      <td>0.472468</td>\n",
              "      <td>0.865809</td>\n",
              "      <td>0.754968</td>\n",
              "      <td>0.667454</td>\n",
              "      <td>0.473200</td>\n",
              "      <td>0.458798</td>\n",
              "      <td>...</td>\n",
              "      <td>0.475820</td>\n",
              "      <td>0.360832</td>\n",
              "      <td>0.529408</td>\n",
              "      <td>0.438296</td>\n",
              "      <td>0.568187</td>\n",
              "      <td>1.000000</td>\n",
              "      <td>0.892261</td>\n",
              "      <td>0.801080</td>\n",
              "      <td>0.614441</td>\n",
              "      <td>0.810455</td>\n",
              "    </tr>\n",
              "    <tr>\n",
              "      <th>concavity_worst</th>\n",
              "      <td>0.526911</td>\n",
              "      <td>0.301025</td>\n",
              "      <td>0.563879</td>\n",
              "      <td>0.512606</td>\n",
              "      <td>0.434926</td>\n",
              "      <td>0.816275</td>\n",
              "      <td>0.884103</td>\n",
              "      <td>0.752399</td>\n",
              "      <td>0.433721</td>\n",
              "      <td>0.346234</td>\n",
              "      <td>...</td>\n",
              "      <td>0.573975</td>\n",
              "      <td>0.368366</td>\n",
              "      <td>0.618344</td>\n",
              "      <td>0.543331</td>\n",
              "      <td>0.518523</td>\n",
              "      <td>0.892261</td>\n",
              "      <td>1.000000</td>\n",
              "      <td>0.855434</td>\n",
              "      <td>0.532520</td>\n",
              "      <td>0.686511</td>\n",
              "    </tr>\n",
              "    <tr>\n",
              "      <th>concave points_worst</th>\n",
              "      <td>0.744214</td>\n",
              "      <td>0.295316</td>\n",
              "      <td>0.771241</td>\n",
              "      <td>0.722017</td>\n",
              "      <td>0.503053</td>\n",
              "      <td>0.815573</td>\n",
              "      <td>0.861323</td>\n",
              "      <td>0.910155</td>\n",
              "      <td>0.430297</td>\n",
              "      <td>0.175325</td>\n",
              "      <td>...</td>\n",
              "      <td>0.787424</td>\n",
              "      <td>0.359755</td>\n",
              "      <td>0.816322</td>\n",
              "      <td>0.747419</td>\n",
              "      <td>0.547691</td>\n",
              "      <td>0.801080</td>\n",
              "      <td>0.855434</td>\n",
              "      <td>1.000000</td>\n",
              "      <td>0.502528</td>\n",
              "      <td>0.511114</td>\n",
              "    </tr>\n",
              "    <tr>\n",
              "      <th>symmetry_worst</th>\n",
              "      <td>0.163953</td>\n",
              "      <td>0.105008</td>\n",
              "      <td>0.189115</td>\n",
              "      <td>0.143570</td>\n",
              "      <td>0.394309</td>\n",
              "      <td>0.510223</td>\n",
              "      <td>0.409464</td>\n",
              "      <td>0.375744</td>\n",
              "      <td>0.699826</td>\n",
              "      <td>0.334019</td>\n",
              "      <td>...</td>\n",
              "      <td>0.243529</td>\n",
              "      <td>0.233027</td>\n",
              "      <td>0.269493</td>\n",
              "      <td>0.209146</td>\n",
              "      <td>0.493838</td>\n",
              "      <td>0.614441</td>\n",
              "      <td>0.532520</td>\n",
              "      <td>0.502528</td>\n",
              "      <td>1.000000</td>\n",
              "      <td>0.537848</td>\n",
              "    </tr>\n",
              "    <tr>\n",
              "      <th>fractal_dimension_worst</th>\n",
              "      <td>0.007066</td>\n",
              "      <td>0.119205</td>\n",
              "      <td>0.051019</td>\n",
              "      <td>0.003738</td>\n",
              "      <td>0.499316</td>\n",
              "      <td>0.687382</td>\n",
              "      <td>0.514930</td>\n",
              "      <td>0.368661</td>\n",
              "      <td>0.438413</td>\n",
              "      <td>0.767297</td>\n",
              "      <td>...</td>\n",
              "      <td>0.093492</td>\n",
              "      <td>0.219122</td>\n",
              "      <td>0.138957</td>\n",
              "      <td>0.079647</td>\n",
              "      <td>0.617624</td>\n",
              "      <td>0.810455</td>\n",
              "      <td>0.686511</td>\n",
              "      <td>0.511114</td>\n",
              "      <td>0.537848</td>\n",
              "      <td>1.000000</td>\n",
              "    </tr>\n",
              "  </tbody>\n",
              "</table>\n",
              "<p>30 rows × 30 columns</p>\n",
              "</div>\n",
              "      <button class=\"colab-df-convert\" onclick=\"convertToInteractive('df-7e2a60be-328d-46a3-9d98-3bce46986edb')\"\n",
              "              title=\"Convert this dataframe to an interactive table.\"\n",
              "              style=\"display:none;\">\n",
              "        \n",
              "  <svg xmlns=\"http://www.w3.org/2000/svg\" height=\"24px\"viewBox=\"0 0 24 24\"\n",
              "       width=\"24px\">\n",
              "    <path d=\"M0 0h24v24H0V0z\" fill=\"none\"/>\n",
              "    <path d=\"M18.56 5.44l.94 2.06.94-2.06 2.06-.94-2.06-.94-.94-2.06-.94 2.06-2.06.94zm-11 1L8.5 8.5l.94-2.06 2.06-.94-2.06-.94L8.5 2.5l-.94 2.06-2.06.94zm10 10l.94 2.06.94-2.06 2.06-.94-2.06-.94-.94-2.06-.94 2.06-2.06.94z\"/><path d=\"M17.41 7.96l-1.37-1.37c-.4-.4-.92-.59-1.43-.59-.52 0-1.04.2-1.43.59L10.3 9.45l-7.72 7.72c-.78.78-.78 2.05 0 2.83L4 21.41c.39.39.9.59 1.41.59.51 0 1.02-.2 1.41-.59l7.78-7.78 2.81-2.81c.8-.78.8-2.07 0-2.86zM5.41 20L4 18.59l7.72-7.72 1.47 1.35L5.41 20z\"/>\n",
              "  </svg>\n",
              "      </button>\n",
              "      \n",
              "  <style>\n",
              "    .colab-df-container {\n",
              "      display:flex;\n",
              "      flex-wrap:wrap;\n",
              "      gap: 12px;\n",
              "    }\n",
              "\n",
              "    .colab-df-convert {\n",
              "      background-color: #E8F0FE;\n",
              "      border: none;\n",
              "      border-radius: 50%;\n",
              "      cursor: pointer;\n",
              "      display: none;\n",
              "      fill: #1967D2;\n",
              "      height: 32px;\n",
              "      padding: 0 0 0 0;\n",
              "      width: 32px;\n",
              "    }\n",
              "\n",
              "    .colab-df-convert:hover {\n",
              "      background-color: #E2EBFA;\n",
              "      box-shadow: 0px 1px 2px rgba(60, 64, 67, 0.3), 0px 1px 3px 1px rgba(60, 64, 67, 0.15);\n",
              "      fill: #174EA6;\n",
              "    }\n",
              "\n",
              "    [theme=dark] .colab-df-convert {\n",
              "      background-color: #3B4455;\n",
              "      fill: #D2E3FC;\n",
              "    }\n",
              "\n",
              "    [theme=dark] .colab-df-convert:hover {\n",
              "      background-color: #434B5C;\n",
              "      box-shadow: 0px 1px 3px 1px rgba(0, 0, 0, 0.15);\n",
              "      filter: drop-shadow(0px 1px 2px rgba(0, 0, 0, 0.3));\n",
              "      fill: #FFFFFF;\n",
              "    }\n",
              "  </style>\n",
              "\n",
              "      <script>\n",
              "        const buttonEl =\n",
              "          document.querySelector('#df-7e2a60be-328d-46a3-9d98-3bce46986edb button.colab-df-convert');\n",
              "        buttonEl.style.display =\n",
              "          google.colab.kernel.accessAllowed ? 'block' : 'none';\n",
              "\n",
              "        async function convertToInteractive(key) {\n",
              "          const element = document.querySelector('#df-7e2a60be-328d-46a3-9d98-3bce46986edb');\n",
              "          const dataTable =\n",
              "            await google.colab.kernel.invokeFunction('convertToInteractive',\n",
              "                                                     [key], {});\n",
              "          if (!dataTable) return;\n",
              "\n",
              "          const docLinkHtml = 'Like what you see? Visit the ' +\n",
              "            '<a target=\"_blank\" href=https://colab.research.google.com/notebooks/data_table.ipynb>data table notebook</a>'\n",
              "            + ' to learn more about interactive tables.';\n",
              "          element.innerHTML = '';\n",
              "          dataTable['output_type'] = 'display_data';\n",
              "          await google.colab.output.renderOutput(dataTable, element);\n",
              "          const docLink = document.createElement('div');\n",
              "          docLink.innerHTML = docLinkHtml;\n",
              "          element.appendChild(docLink);\n",
              "        }\n",
              "      </script>\n",
              "    </div>\n",
              "  </div>\n",
              "  "
            ]
          },
          "metadata": {},
          "execution_count": 11
        }
      ],
      "source": [
        "X.corr()"
      ]
    },
    {
      "cell_type": "code",
      "execution_count": 12,
      "metadata": {
        "colab": {
          "base_uri": "https://localhost:8080/",
          "height": 1000
        },
        "id": "h--g5Spf1eNQ",
        "outputId": "5bc650d6-22ab-4c86-a541-78e55e647758"
      },
      "outputs": [
        {
          "output_type": "execute_result",
          "data": {
            "text/plain": [
              "<AxesSubplot:>"
            ]
          },
          "metadata": {},
          "execution_count": 12
        },
        {
          "output_type": "display_data",
          "data": {
            "text/plain": [
              "<Figure size 1296x1296 with 2 Axes>"
            ],
            "image/png": "[encoded data removed]"
          },
          "metadata": {
            "needs_background": "light"
          }
        }
      ],
      "source": [
        "plt.figure(figsize=(18, 18))\n",
        "sns.heatmap(X.corr(), vmin=0.80, vmax=1.2, annot=True, cmap='crest', linewidths=1)"
      ]
    },
    {
      "cell_type": "code",
      "execution_count": 12,
      "metadata": {
        "id": "6nH3N7PdMjGq"
      },
      "outputs": [],
      "source": []
    },
    {
      "cell_type": "code",
      "execution_count": 13,
      "metadata": {
        "colab": {
          "base_uri": "https://localhost:8080/"
        },
        "id": "uYuqVe8c1gwq",
        "outputId": "8d2177ab-96bc-47a5-8947-74dadd89ff7f"
      },
      "outputs": [
        {
          "output_type": "stream",
          "name": "stdout",
          "text": [
            "Before PCA, X dataframe shape =  (569, 30) \n",
            "After PCA, x_pca dataframe shape =  (569, 11)\n"
          ]
        }
      ],
      "source": [
        "#reducing the attributes in X dataframe\n",
        "\n",
        "#1 scale the data\n",
        "scaler = StandardScaler()\n",
        "X_scaled = scaler.fit_transform(X)\n",
        "\n",
        "#2 drop the highly correlated columns which are not useful i.e., area, perimeter, perimeter_worst, area_worst, perimeter_se, area_se \n",
        "X_scaled = pd.DataFrame(X_scaled)\n",
        "X_scaled_drop = X_scaled.drop(X_scaled.columns[[2, 3, 12, 13, 22, 23]], axis=1)\n",
        "\n",
        "#3 apply PCA on scaled data\n",
        "pca = PCA(n_components=0.95)\n",
        "x_pca = pca.fit_transform(X_scaled_drop)\n",
        "x_pca = pd.DataFrame(x_pca)\n",
        "\n",
        "print(\"Before PCA, X dataframe shape = \",X.shape,\"\\nAfter PCA, x_pca dataframe shape = \",x_pca.shape)"
      ]
    },
    {
      "cell_type": "code",
      "execution_count": 14,
      "metadata": {
        "colab": {
          "base_uri": "https://localhost:8080/"
        },
        "id": "RGDDGg0j1p57",
        "outputId": "c336ef33-7d6e-4343-9b2b-2440608fa011"
      },
      "outputs": [
        {
          "output_type": "stream",
          "name": "stdout",
          "text": [
            "[0.42661046 0.15932139 0.10294428 0.07788731 0.06489774 0.05015242\n",
            " 0.02145044 0.0187846  0.01505759 0.01197751 0.01117206]\n",
            "0.9602558201892889\n"
          ]
        }
      ],
      "source": [
        "print(pca.explained_variance_ratio_) \n",
        "print(pca.explained_variance_ratio_.sum())"
      ]
    },
    {
      "cell_type": "code",
      "execution_count": 15,
      "metadata": {
        "id": "A6QuGkn2IJGy"
      },
      "outputs": [],
      "source": [
        "import numpy as np"
      ]
    },
    {
      "cell_type": "code",
      "execution_count": 16,
      "metadata": {
        "colab": {
          "base_uri": "https://localhost:8080/",
          "height": 206
        },
        "id": "3r0H6_WX1vmV",
        "outputId": "cb7a1c7a-a2aa-4781-8525-5a98d48ab883"
      },
      "outputs": [
        {
          "output_type": "execute_result",
          "data": {
            "text/plain": [
              "         PC1       PC2       PC3       PC4       PC5       PC6       PC7  \\\n",
              "0   8.066802  0.414765 -2.538073 -2.608014 -1.344494  1.435172 -1.713811   \n",
              "1   0.106798 -2.761727 -0.141345 -1.395074  0.130814  0.017362 -0.333451   \n",
              "2   4.386099 -1.969883 -0.226679 -1.108399 -0.700594  0.477506  0.287285   \n",
              "3  10.670616  5.914865 -4.302831  1.998226 -1.846898  3.101734 -0.812473   \n",
              "4    2.03748 -1.154659  0.905585 -3.346186 -0.640128 -1.333159  0.604286   \n",
              "\n",
              "        PC8       PC9      PC10      PC11 diagnosis  \n",
              "0 -0.491329  0.655096  0.544224  0.718321         M  \n",
              "1 -0.389474 -0.706687  0.114084  0.405121         M  \n",
              "2 -0.079434  -0.35264 -0.654396 -0.284427         M  \n",
              "3 -1.813327  1.334007 -0.454319 -1.428596         M  \n",
              "4 -0.462435 -0.232974   0.37583  0.567374         M  "
            ],
            "text/html": [
              "\n",
              "  <div id=\"df-3b8c7be9-e482-4531-b53e-fdf5e1be9924\">\n",
              "    <div class=\"colab-df-container\">\n",
              "      <div>\n",
              "<style scoped>\n",
              "    .dataframe tbody tr th:only-of-type {\n",
              "        vertical-align: middle;\n",
              "    }\n",
              "\n",
              "    .dataframe tbody tr th {\n",
              "        vertical-align: top;\n",
              "    }\n",
              "\n",
              "    .dataframe thead th {\n",
              "        text-align: right;\n",
              "    }\n",
              "</style>\n",
              "<table border=\"1\" class=\"dataframe\">\n",
              "  <thead>\n",
              "    <tr style=\"text-align: right;\">\n",
              "      <th></th>\n",
              "      <th>PC1</th>\n",
              "      <th>PC2</th>\n",
              "      <th>PC3</th>\n",
              "      <th>PC4</th>\n",
              "      <th>PC5</th>\n",
              "      <th>PC6</th>\n",
              "      <th>PC7</th>\n",
              "      <th>PC8</th>\n",
              "      <th>PC9</th>\n",
              "      <th>PC10</th>\n",
              "      <th>PC11</th>\n",
              "      <th>diagnosis</th>\n",
              "    </tr>\n",
              "  </thead>\n",
              "  <tbody>\n",
              "    <tr>\n",
              "      <th>0</th>\n",
              "      <td>8.066802</td>\n",
              "      <td>0.414765</td>\n",
              "      <td>-2.538073</td>\n",
              "      <td>-2.608014</td>\n",
              "      <td>-1.344494</td>\n",
              "      <td>1.435172</td>\n",
              "      <td>-1.713811</td>\n",
              "      <td>-0.491329</td>\n",
              "      <td>0.655096</td>\n",
              "      <td>0.544224</td>\n",
              "      <td>0.718321</td>\n",
              "      <td>M</td>\n",
              "    </tr>\n",
              "    <tr>\n",
              "      <th>1</th>\n",
              "      <td>0.106798</td>\n",
              "      <td>-2.761727</td>\n",
              "      <td>-0.141345</td>\n",
              "      <td>-1.395074</td>\n",
              "      <td>0.130814</td>\n",
              "      <td>0.017362</td>\n",
              "      <td>-0.333451</td>\n",
              "      <td>-0.389474</td>\n",
              "      <td>-0.706687</td>\n",
              "      <td>0.114084</td>\n",
              "      <td>0.405121</td>\n",
              "      <td>M</td>\n",
              "    </tr>\n",
              "    <tr>\n",
              "      <th>2</th>\n",
              "      <td>4.386099</td>\n",
              "      <td>-1.969883</td>\n",
              "      <td>-0.226679</td>\n",
              "      <td>-1.108399</td>\n",
              "      <td>-0.700594</td>\n",
              "      <td>0.477506</td>\n",
              "      <td>0.287285</td>\n",
              "      <td>-0.079434</td>\n",
              "      <td>-0.35264</td>\n",
              "      <td>-0.654396</td>\n",
              "      <td>-0.284427</td>\n",
              "      <td>M</td>\n",
              "    </tr>\n",
              "    <tr>\n",
              "      <th>3</th>\n",
              "      <td>10.670616</td>\n",
              "      <td>5.914865</td>\n",
              "      <td>-4.302831</td>\n",
              "      <td>1.998226</td>\n",
              "      <td>-1.846898</td>\n",
              "      <td>3.101734</td>\n",
              "      <td>-0.812473</td>\n",
              "      <td>-1.813327</td>\n",
              "      <td>1.334007</td>\n",
              "      <td>-0.454319</td>\n",
              "      <td>-1.428596</td>\n",
              "      <td>M</td>\n",
              "    </tr>\n",
              "    <tr>\n",
              "      <th>4</th>\n",
              "      <td>2.03748</td>\n",
              "      <td>-1.154659</td>\n",
              "      <td>0.905585</td>\n",
              "      <td>-3.346186</td>\n",
              "      <td>-0.640128</td>\n",
              "      <td>-1.333159</td>\n",
              "      <td>0.604286</td>\n",
              "      <td>-0.462435</td>\n",
              "      <td>-0.232974</td>\n",
              "      <td>0.37583</td>\n",
              "      <td>0.567374</td>\n",
              "      <td>M</td>\n",
              "    </tr>\n",
              "  </tbody>\n",
              "</table>\n",
              "</div>\n",
              "      <button class=\"colab-df-convert\" onclick=\"convertToInteractive('df-3b8c7be9-e482-4531-b53e-fdf5e1be9924')\"\n",
              "              title=\"Convert this dataframe to an interactive table.\"\n",
              "              style=\"display:none;\">\n",
              "        \n",
              "  <svg xmlns=\"http://www.w3.org/2000/svg\" height=\"24px\"viewBox=\"0 0 24 24\"\n",
              "       width=\"24px\">\n",
              "    <path d=\"M0 0h24v24H0V0z\" fill=\"none\"/>\n",
              "    <path d=\"M18.56 5.44l.94 2.06.94-2.06 2.06-.94-2.06-.94-.94-2.06-.94 2.06-2.06.94zm-11 1L8.5 8.5l.94-2.06 2.06-.94-2.06-.94L8.5 2.5l-.94 2.06-2.06.94zm10 10l.94 2.06.94-2.06 2.06-.94-2.06-.94-.94-2.06-.94 2.06-2.06.94z\"/><path d=\"M17.41 7.96l-1.37-1.37c-.4-.4-.92-.59-1.43-.59-.52 0-1.04.2-1.43.59L10.3 9.45l-7.72 7.72c-.78.78-.78 2.05 0 2.83L4 21.41c.39.39.9.59 1.41.59.51 0 1.02-.2 1.41-.59l7.78-7.78 2.81-2.81c.8-.78.8-2.07 0-2.86zM5.41 20L4 18.59l7.72-7.72 1.47 1.35L5.41 20z\"/>\n",
              "  </svg>\n",
              "      </button>\n",
              "      \n",
              "  <style>\n",
              "    .colab-df-container {\n",
              "      display:flex;\n",
              "      flex-wrap:wrap;\n",
              "      gap: 12px;\n",
              "    }\n",
              "\n",
              "    .colab-df-convert {\n",
              "      background-color: #E8F0FE;\n",
              "      border: none;\n",
              "      border-radius: 50%;\n",
              "      cursor: pointer;\n",
              "      display: none;\n",
              "      fill: #1967D2;\n",
              "      height: 32px;\n",
              "      padding: 0 0 0 0;\n",
              "      width: 32px;\n",
              "    }\n",
              "\n",
              "    .colab-df-convert:hover {\n",
              "      background-color: #E2EBFA;\n",
              "      box-shadow: 0px 1px 2px rgba(60, 64, 67, 0.3), 0px 1px 3px 1px rgba(60, 64, 67, 0.15);\n",
              "      fill: #174EA6;\n",
              "    }\n",
              "\n",
              "    [theme=dark] .colab-df-convert {\n",
              "      background-color: #3B4455;\n",
              "      fill: #D2E3FC;\n",
              "    }\n",
              "\n",
              "    [theme=dark] .colab-df-convert:hover {\n",
              "      background-color: #434B5C;\n",
              "      box-shadow: 0px 1px 3px 1px rgba(0, 0, 0, 0.15);\n",
              "      filter: drop-shadow(0px 1px 2px rgba(0, 0, 0, 0.3));\n",
              "      fill: #FFFFFF;\n",
              "    }\n",
              "  </style>\n",
              "\n",
              "      <script>\n",
              "        const buttonEl =\n",
              "          document.querySelector('#df-3b8c7be9-e482-4531-b53e-fdf5e1be9924 button.colab-df-convert');\n",
              "        buttonEl.style.display =\n",
              "          google.colab.kernel.accessAllowed ? 'block' : 'none';\n",
              "\n",
              "        async function convertToInteractive(key) {\n",
              "          const element = document.querySelector('#df-3b8c7be9-e482-4531-b53e-fdf5e1be9924');\n",
              "          const dataTable =\n",
              "            await google.colab.kernel.invokeFunction('convertToInteractive',\n",
              "                                                     [key], {});\n",
              "          if (!dataTable) return;\n",
              "\n",
              "          const docLinkHtml = 'Like what you see? Visit the ' +\n",
              "            '<a target=\"_blank\" href=https://colab.research.google.com/notebooks/data_table.ipynb>data table notebook</a>'\n",
              "            + ' to learn more about interactive tables.';\n",
              "          element.innerHTML = '';\n",
              "          dataTable['output_type'] = 'display_data';\n",
              "          await google.colab.output.renderOutput(dataTable, element);\n",
              "          const docLink = document.createElement('div');\n",
              "          docLink.innerHTML = docLinkHtml;\n",
              "          element.appendChild(docLink);\n",
              "        }\n",
              "      </script>\n",
              "    </div>\n",
              "  </div>\n",
              "  "
            ]
          },
          "metadata": {},
          "execution_count": 16
        }
      ],
      "source": [
        "colnames = ['PC1','PC2','PC3','PC4','PC5','PC6','PC7','PC8','PC9','PC10','PC11','diagnosis']\n",
        "\n",
        "#target data\n",
        "diag = df.iloc[:,1:2]\n",
        "\n",
        "#combine PCA and target data\n",
        "Xy = pd.DataFrame(np.hstack([x_pca,diag.values]),columns=colnames)\n",
        "\n",
        "Xy.head()"
      ]
    },
    {
      "cell_type": "code",
      "execution_count": 17,
      "metadata": {
        "colab": {
          "base_uri": "https://localhost:8080/",
          "height": 542
        },
        "id": "3iLyKRDEMmjF",
        "outputId": "07dfd317-87cc-4039-9796-39e9927fdcd8"
      },
      "outputs": [
        {
          "output_type": "display_data",
          "data": {
            "text/html": [
              "<html>\n",
              "<head><meta charset=\"utf-8\" /></head>\n",
              "<body>\n",
              "    <div>            <script src=\"https://cdnjs.cloudflare.com/ajax/libs/mathjax/2.7.5/MathJax.js?config=TeX-AMS-MML_SVG\"></script><script type=\"text/javascript\">if (window.MathJax) {MathJax.Hub.Config({SVG: {font: \"STIX-Web\"}});}</script>                <script type=\"text/javascript\">window.PlotlyConfig = {MathJaxConfig: 'local'};</script>\n",
              "        <script src=\"https://cdn.plot.ly/plotly-2.8.3.min.js\"></script>                <div id=\"90758ca8-e256-40bf-9771-72a5b4ec2ce8\" class=\"plotly-graph-div\" style=\"height:525px; width:100%;\"></div>            <script type=\"text/javascript\">                                    window.PLOTLYENV=window.PLOTLYENV || {};                                    if (document.getElementById(\"90758ca8-e256-40bf-9771-72a5b4ec2ce8\")) {                    Plotly.newPlot(                        \"90758ca8-e256-40bf-9771-72a5b4ec2ce8\",                        [{\"hovertemplate\":\"# Components=%{x}<br>Explained Variance=%{y}<extra></extra>\",\"legendgroup\":\"\",\"line\":{\"color\":\"#636efa\"},\"marker\":{\"symbol\":\"circle\"},\"mode\":\"lines\",\"name\":\"\",\"orientation\":\"v\",\"showlegend\":false,\"stackgroup\":\"1\",\"x\":[1,2,3,4,5,6,7,8,9,10,11,12,13,14,15,16,17,18,19,20,21,22,23,24],\"xaxis\":\"x\",\"y\":[0.42661046039175216,0.5859318522695895,0.68887613170758,0.7667634442193928,0.8316611854013022,0.8818136077672101,0.9032640498000187,0.9220486539549879,0.9371062436077948,0.9490837555954073,0.9602558201892888,0.9700403551671066,0.9785266811371375,0.9849840504793838,0.9884988482400567,0.9912945550732337,0.9935674016197944,0.9950294868765228,0.9963017039361958,0.9975236712901041,0.9985102389297189,0.9991241043349623,0.9996650104514807,0.9999999999999999],\"yaxis\":\"y\",\"type\":\"scatter\"}],                        {\"template\":{\"data\":{\"bar\":[{\"error_x\":{\"color\":\"#2a3f5f\"},\"error_y\":{\"color\":\"#2a3f5f\"},\"marker\":{\"line\":{\"color\":\"#E5ECF6\",\"width\":0.5},\"pattern\":{\"fillmode\":\"overlay\",\"size\":10,\"solidity\":0.2}},\"type\":\"bar\"}],\"barpolar\":[{\"marker\":{\"line\":{\"color\":\"#E5ECF6\",\"width\":0.5},\"pattern\":{\"fillmode\":\"overlay\",\"size\":10,\"solidity\":0.2}},\"type\":\"barpolar\"}],\"carpet\":[{\"aaxis\":{\"endlinecolor\":\"#2a3f5f\",\"gridcolor\":\"white\",\"linecolor\":\"white\",\"minorgridcolor\":\"white\",\"startlinecolor\":\"#2a3f5f\"},\"baxis\":{\"endlinecolor\":\"#2a3f5f\",\"gridcolor\":\"white\",\"linecolor\":\"white\",\"minorgridcolor\":\"white\",\"startlinecolor\":\"#2a3f5f\"},\"type\":\"carpet\"}],\"choropleth\":[{\"colorbar\":{\"outlinewidth\":0,\"ticks\":\"\"},\"type\":\"choropleth\"}],\"contour\":[{\"colorbar\":{\"outlinewidth\":0,\"ticks\":\"\"},\"colorscale\":[[0.0,\"#0d0887\"],[0.1111111111111111,\"#46039f\"],[0.2222222222222222,\"#7201a8\"],[0.3333333333333333,\"#9c179e\"],[0.4444444444444444,\"#bd3786\"],[0.5555555555555556,\"#d8576b\"],[0.6666666666666666,\"#ed7953\"],[0.7777777777777778,\"#fb9f3a\"],[0.8888888888888888,\"#fdca26\"],[1.0,\"#f0f921\"]],\"type\":\"contour\"}],\"contourcarpet\":[{\"colorbar\":{\"outlinewidth\":0,\"ticks\":\"\"},\"type\":\"contourcarpet\"}],\"heatmap\":[{\"colorbar\":{\"outlinewidth\":0,\"ticks\":\"\"},\"colorscale\":[[0.0,\"#0d0887\"],[0.1111111111111111,\"#46039f\"],[0.2222222222222222,\"#7201a8\"],[0.3333333333333333,\"#9c179e\"],[0.4444444444444444,\"#bd3786\"],[0.5555555555555556,\"#d8576b\"],[0.6666666666666666,\"#ed7953\"],[0.7777777777777778,\"#fb9f3a\"],[0.8888888888888888,\"#fdca26\"],[1.0,\"#f0f921\"]],\"type\":\"heatmap\"}],\"heatmapgl\":[{\"colorbar\":{\"outlinewidth\":0,\"ticks\":\"\"},\"colorscale\":[[0.0,\"#0d0887\"],[0.1111111111111111,\"#46039f\"],[0.2222222222222222,\"#7201a8\"],[0.3333333333333333,\"#9c179e\"],[0.4444444444444444,\"#bd3786\"],[0.5555555555555556,\"#d8576b\"],[0.6666666666666666,\"#ed7953\"],[0.7777777777777778,\"#fb9f3a\"],[0.8888888888888888,\"#fdca26\"],[1.0,\"#f0f921\"]],\"type\":\"heatmapgl\"}],\"histogram\":[{\"marker\":{\"pattern\":{\"fillmode\":\"overlay\",\"size\":10,\"solidity\":0.2}},\"type\":\"histogram\"}],\"histogram2d\":[{\"colorbar\":{\"outlinewidth\":0,\"ticks\":\"\"},\"colorscale\":[[0.0,\"#0d0887\"],[0.1111111111111111,\"#46039f\"],[0.2222222222222222,\"#7201a8\"],[0.3333333333333333,\"#9c179e\"],[0.4444444444444444,\"#bd3786\"],[0.5555555555555556,\"#d8576b\"],[0.6666666666666666,\"#ed7953\"],[0.7777777777777778,\"#fb9f3a\"],[0.8888888888888888,\"#fdca26\"],[1.0,\"#f0f921\"]],\"type\":\"histogram2d\"}],\"histogram2dcontour\":[{\"colorbar\":{\"outlinewidth\":0,\"ticks\":\"\"},\"colorscale\":[[0.0,\"#0d0887\"],[0.1111111111111111,\"#46039f\"],[0.2222222222222222,\"#7201a8\"],[0.3333333333333333,\"#9c179e\"],[0.4444444444444444,\"#bd3786\"],[0.5555555555555556,\"#d8576b\"],[0.6666666666666666,\"#ed7953\"],[0.7777777777777778,\"#fb9f3a\"],[0.8888888888888888,\"#fdca26\"],[1.0,\"#f0f921\"]],\"type\":\"histogram2dcontour\"}],\"mesh3d\":[{\"colorbar\":{\"outlinewidth\":0,\"ticks\":\"\"},\"type\":\"mesh3d\"}],\"parcoords\":[{\"line\":{\"colorbar\":{\"outlinewidth\":0,\"ticks\":\"\"}},\"type\":\"parcoords\"}],\"pie\":[{\"automargin\":true,\"type\":\"pie\"}],\"scatter\":[{\"marker\":{\"colorbar\":{\"outlinewidth\":0,\"ticks\":\"\"}},\"type\":\"scatter\"}],\"scatter3d\":[{\"line\":{\"colorbar\":{\"outlinewidth\":0,\"ticks\":\"\"}},\"marker\":{\"colorbar\":{\"outlinewidth\":0,\"ticks\":\"\"}},\"type\":\"scatter3d\"}],\"scattercarpet\":[{\"marker\":{\"colorbar\":{\"outlinewidth\":0,\"ticks\":\"\"}},\"type\":\"scattercarpet\"}],\"scattergeo\":[{\"marker\":{\"colorbar\":{\"outlinewidth\":0,\"ticks\":\"\"}},\"type\":\"scattergeo\"}],\"scattergl\":[{\"marker\":{\"colorbar\":{\"outlinewidth\":0,\"ticks\":\"\"}},\"type\":\"scattergl\"}],\"scattermapbox\":[{\"marker\":{\"colorbar\":{\"outlinewidth\":0,\"ticks\":\"\"}},\"type\":\"scattermapbox\"}],\"scatterpolar\":[{\"marker\":{\"colorbar\":{\"outlinewidth\":0,\"ticks\":\"\"}},\"type\":\"scatterpolar\"}],\"scatterpolargl\":[{\"marker\":{\"colorbar\":{\"outlinewidth\":0,\"ticks\":\"\"}},\"type\":\"scatterpolargl\"}],\"scatterternary\":[{\"marker\":{\"colorbar\":{\"outlinewidth\":0,\"ticks\":\"\"}},\"type\":\"scatterternary\"}],\"surface\":[{\"colorbar\":{\"outlinewidth\":0,\"ticks\":\"\"},\"colorscale\":[[0.0,\"#0d0887\"],[0.1111111111111111,\"#46039f\"],[0.2222222222222222,\"#7201a8\"],[0.3333333333333333,\"#9c179e\"],[0.4444444444444444,\"#bd3786\"],[0.5555555555555556,\"#d8576b\"],[0.6666666666666666,\"#ed7953\"],[0.7777777777777778,\"#fb9f3a\"],[0.8888888888888888,\"#fdca26\"],[1.0,\"#f0f921\"]],\"type\":\"surface\"}],\"table\":[{\"cells\":{\"fill\":{\"color\":\"#EBF0F8\"},\"line\":{\"color\":\"white\"}},\"header\":{\"fill\":{\"color\":\"#C8D4E3\"},\"line\":{\"color\":\"white\"}},\"type\":\"table\"}]},\"layout\":{\"annotationdefaults\":{\"arrowcolor\":\"#2a3f5f\",\"arrowhead\":0,\"arrowwidth\":1},\"autotypenumbers\":\"strict\",\"coloraxis\":{\"colorbar\":{\"outlinewidth\":0,\"ticks\":\"\"}},\"colorscale\":{\"diverging\":[[0,\"#8e0152\"],[0.1,\"#c51b7d\"],[0.2,\"#de77ae\"],[0.3,\"#f1b6da\"],[0.4,\"#fde0ef\"],[0.5,\"#f7f7f7\"],[0.6,\"#e6f5d0\"],[0.7,\"#b8e186\"],[0.8,\"#7fbc41\"],[0.9,\"#4d9221\"],[1,\"#276419\"]],\"sequential\":[[0.0,\"#0d0887\"],[0.1111111111111111,\"#46039f\"],[0.2222222222222222,\"#7201a8\"],[0.3333333333333333,\"#9c179e\"],[0.4444444444444444,\"#bd3786\"],[0.5555555555555556,\"#d8576b\"],[0.6666666666666666,\"#ed7953\"],[0.7777777777777778,\"#fb9f3a\"],[0.8888888888888888,\"#fdca26\"],[1.0,\"#f0f921\"]],\"sequentialminus\":[[0.0,\"#0d0887\"],[0.1111111111111111,\"#46039f\"],[0.2222222222222222,\"#7201a8\"],[0.3333333333333333,\"#9c179e\"],[0.4444444444444444,\"#bd3786\"],[0.5555555555555556,\"#d8576b\"],[0.6666666666666666,\"#ed7953\"],[0.7777777777777778,\"#fb9f3a\"],[0.8888888888888888,\"#fdca26\"],[1.0,\"#f0f921\"]]},\"colorway\":[\"#636efa\",\"#EF553B\",\"#00cc96\",\"#ab63fa\",\"#FFA15A\",\"#19d3f3\",\"#FF6692\",\"#B6E880\",\"#FF97FF\",\"#FECB52\"],\"font\":{\"color\":\"#2a3f5f\"},\"geo\":{\"bgcolor\":\"white\",\"lakecolor\":\"white\",\"landcolor\":\"#E5ECF6\",\"showlakes\":true,\"showland\":true,\"subunitcolor\":\"white\"},\"hoverlabel\":{\"align\":\"left\"},\"hovermode\":\"closest\",\"mapbox\":{\"style\":\"light\"},\"paper_bgcolor\":\"white\",\"plot_bgcolor\":\"#E5ECF6\",\"polar\":{\"angularaxis\":{\"gridcolor\":\"white\",\"linecolor\":\"white\",\"ticks\":\"\"},\"bgcolor\":\"#E5ECF6\",\"radialaxis\":{\"gridcolor\":\"white\",\"linecolor\":\"white\",\"ticks\":\"\"}},\"scene\":{\"xaxis\":{\"backgroundcolor\":\"#E5ECF6\",\"gridcolor\":\"white\",\"gridwidth\":2,\"linecolor\":\"white\",\"showbackground\":true,\"ticks\":\"\",\"zerolinecolor\":\"white\"},\"yaxis\":{\"backgroundcolor\":\"#E5ECF6\",\"gridcolor\":\"white\",\"gridwidth\":2,\"linecolor\":\"white\",\"showbackground\":true,\"ticks\":\"\",\"zerolinecolor\":\"white\"},\"zaxis\":{\"backgroundcolor\":\"#E5ECF6\",\"gridcolor\":\"white\",\"gridwidth\":2,\"linecolor\":\"white\",\"showbackground\":true,\"ticks\":\"\",\"zerolinecolor\":\"white\"}},\"shapedefaults\":{\"line\":{\"color\":\"#2a3f5f\"}},\"ternary\":{\"aaxis\":{\"gridcolor\":\"white\",\"linecolor\":\"white\",\"ticks\":\"\"},\"baxis\":{\"gridcolor\":\"white\",\"linecolor\":\"white\",\"ticks\":\"\"},\"bgcolor\":\"#E5ECF6\",\"caxis\":{\"gridcolor\":\"white\",\"linecolor\":\"white\",\"ticks\":\"\"}},\"title\":{\"x\":0.05},\"xaxis\":{\"automargin\":true,\"gridcolor\":\"white\",\"linecolor\":\"white\",\"ticks\":\"\",\"title\":{\"standoff\":15},\"zerolinecolor\":\"white\",\"zerolinewidth\":2},\"yaxis\":{\"automargin\":true,\"gridcolor\":\"white\",\"linecolor\":\"white\",\"ticks\":\"\",\"title\":{\"standoff\":15},\"zerolinecolor\":\"white\",\"zerolinewidth\":2}}},\"xaxis\":{\"anchor\":\"y\",\"domain\":[0.0,1.0],\"title\":{\"text\":\"# Components\"}},\"yaxis\":{\"anchor\":\"x\",\"domain\":[0.0,1.0],\"title\":{\"text\":\"Explained Variance\"}},\"legend\":{\"tracegroupgap\":0},\"margin\":{\"t\":60}},                        {\"responsive\": true}                    ).then(function(){\n",
              "                            \n",
              "var gd = document.getElementById('90758ca8-e256-40bf-9771-72a5b4ec2ce8');\n",
              "var x = new MutationObserver(function (mutations, observer) {{\n",
              "        var display = window.getComputedStyle(gd).display;\n",
              "        if (!display || display === 'none') {{\n",
              "            console.log([gd, 'removed!']);\n",
              "            Plotly.purge(gd);\n",
              "            observer.disconnect();\n",
              "        }}\n",
              "}});\n",
              "\n",
              "// Listen for the removal of the full notebook cells\n",
              "var notebookContainer = gd.closest('#notebook-container');\n",
              "if (notebookContainer) {{\n",
              "    x.observe(notebookContainer, {childList: true});\n",
              "}}\n",
              "\n",
              "// Listen for the clearing of the current output cell\n",
              "var outputEl = gd.closest('.output');\n",
              "if (outputEl) {{\n",
              "    x.observe(outputEl, {childList: true});\n",
              "}}\n",
              "\n",
              "                        })                };                            </script>        </div>\n",
              "</body>\n",
              "</html>"
            ]
          },
          "metadata": {}
        }
      ],
      "source": [
        "import plotly.express as px\n",
        "pca = PCA()\n",
        "pca.fit(X_scaled_drop)\n",
        "explained_var = np.cumsum(pca.explained_variance_ratio_)\n",
        "px.area(\n",
        "    x=range(1, explained_var.shape[0] + 1),\n",
        "    y=explained_var,\n",
        "    labels={\"x\": \"# Components\", \"y\": \"Explained Variance\"}\n",
        ")"
      ]
    },
    {
      "cell_type": "code",
      "execution_count": 18,
      "metadata": {
        "colab": {
          "base_uri": "https://localhost:8080/"
        },
        "id": "Hh2AVAD_UQF7",
        "outputId": "a21481cb-2066-478f-9ca3-8bcfec8969f8"
      },
      "outputs": [
        {
          "output_type": "stream",
          "name": "stdout",
          "text": [
            "           0         1         4         5         6         7         8   \\\n",
            "0    1.097064 -2.073335  1.568466  3.283515  2.652874  2.532475  2.217515   \n",
            "1    1.829821 -0.353632 -0.826962 -0.487072 -0.023846  0.548144  0.001392   \n",
            "2    1.579888  0.456187  0.942210  1.052926  1.363478  2.037231  0.939685   \n",
            "3   -0.768909  0.253732  3.283553  3.402909  1.915897  1.451707  2.867383   \n",
            "4    1.750297 -1.151816  0.280372  0.539340  1.371011  1.428493 -0.009560   \n",
            "..        ...       ...       ...       ...       ...       ...       ...   \n",
            "564  2.110995  0.721473  1.041842  0.219060  1.947285  2.320965 -0.312589   \n",
            "565  1.704854  2.085134  0.102458 -0.017833  0.693043  1.263669 -0.217664   \n",
            "566  0.702284  2.045574 -0.840484 -0.038680  0.046588  0.105777 -0.809117   \n",
            "567  1.838341  2.336457  1.525767  3.272144  3.296944  2.658866  2.137194   \n",
            "568 -1.808401  1.221792 -3.112085 -1.150752 -1.114873 -1.261820 -0.820070   \n",
            "\n",
            "           9         10        11  ...        18        19        20  \\\n",
            "0    2.255747  2.489734 -0.565265  ...  1.148757  0.907083  1.886690   \n",
            "1   -0.868652  0.499255 -0.876244  ... -0.805450 -0.099444  1.805927   \n",
            "2   -0.398008  1.228676 -0.780083  ...  0.237036  0.293559  1.511870   \n",
            "3    4.910919  0.326373 -0.110409  ...  4.732680  2.047511 -0.281464   \n",
            "4   -0.562450  1.270543 -0.790244  ... -0.361092  0.499328  1.298575   \n",
            "..        ...       ...       ...  ...       ...       ...       ...   \n",
            "564 -0.931027  2.782080  0.071025  ... -1.138416  0.167980  1.901185   \n",
            "565 -1.058611  1.300499  2.260938  ... -0.189161 -0.490556  1.536720   \n",
            "566 -0.895587  0.184892 -0.257371  ... -0.891416  0.036727  0.561361   \n",
            "567  1.043695  1.157935  0.686088  ...  0.326634  0.904057  1.961239   \n",
            "568 -0.561032 -0.070279  0.383092  ...  0.752830 -0.382754 -1.410893   \n",
            "\n",
            "           21        24        25        26        27        28        29  \n",
            "0   -1.359293  1.307686  2.616665  2.109526  2.296076  2.750622  1.937015  \n",
            "1   -0.369203 -0.375612 -0.430444 -0.146749  1.087084 -0.243890  0.281190  \n",
            "2   -0.023974  0.527407  1.082932  0.854974  1.955000  1.152255  0.201391  \n",
            "3    0.133984  3.394275  3.893397  1.989588  2.175786  6.046041  4.935010  \n",
            "4   -1.466770  0.220556 -0.313395  0.613179  0.729259 -0.868353 -0.397100  \n",
            "..        ...       ...       ...       ...       ...       ...       ...  \n",
            "564  0.117700  0.378365 -0.273318  0.664512  1.629151 -1.360158 -0.709091  \n",
            "565  2.047399 -0.691230 -0.394820  0.236573  0.733827 -0.531855 -0.973978  \n",
            "566  1.374854 -0.809587  0.350735  0.326767  0.414069 -1.104549 -0.318409  \n",
            "567  2.237926  1.430427  3.904848  3.197605  2.289985  1.919083  2.219635  \n",
            "568  0.764190 -1.859019 -1.207552 -1.305831 -1.745063 -0.048138 -0.751207  \n",
            "\n",
            "[569 rows x 24 columns]\n"
          ]
        }
      ],
      "source": [
        "print(X_scaled_drop)"
      ]
    },
    {
      "cell_type": "code",
      "execution_count": 19,
      "metadata": {
        "colab": {
          "base_uri": "https://localhost:8080/",
          "height": 458
        },
        "id": "vnS3y5201ybQ",
        "outputId": "a10c936c-b50b-4900-db68-6c3738c33b5a"
      },
      "outputs": [
        {
          "output_type": "stream",
          "name": "stderr",
          "text": [
            "/usr/local/lib/python3.9/dist-packages/seaborn/_decorators.py:36: FutureWarning:\n",
            "\n",
            "Pass the following variables as keyword args: x, y. From version 0.12, the only valid positional argument will be `data`, and passing other arguments without an explicit keyword will result in an error or misinterpretation.\n",
            "\n"
          ]
        },
        {
          "output_type": "display_data",
          "data": {
            "text/plain": [
              "<Figure size 415.5x360 with 1 Axes>"
            ],
            "image/png": "[encoded data removed]"
          },
          "metadata": {
            "needs_background": "light"
          }
        }
      ],
      "source": [
        "sns.lmplot(\"PC1\", \"PC2\", hue=\"diagnosis\", data=Xy, fit_reg=False, markers=[\"o\", \"x\"])\n",
        "plt.show()"
      ]
    },
    {
      "cell_type": "code",
      "execution_count": 20,
      "metadata": {
        "colab": {
          "base_uri": "https://localhost:8080/",
          "height": 458
        },
        "id": "osXhkdeK5xlI",
        "outputId": "f4f117b3-b36b-4267-f4fd-13b06764c332"
      },
      "outputs": [
        {
          "output_type": "stream",
          "name": "stderr",
          "text": [
            "/usr/local/lib/python3.9/dist-packages/seaborn/_decorators.py:36: FutureWarning:\n",
            "\n",
            "Pass the following variables as keyword args: x, y. From version 0.12, the only valid positional argument will be `data`, and passing other arguments without an explicit keyword will result in an error or misinterpretation.\n",
            "\n"
          ]
        },
        {
          "output_type": "display_data",
          "data": {
            "text/plain": [
              "<Figure size 415.5x360 with 1 Axes>"
            ],
            "image/png": "[encoded data removed]"
          },
          "metadata": {
            "needs_background": "light"
          }
        }
      ],
      "source": [
        "sns.lmplot(\"PC1\", \"PC2\", hue=\"diagnosis\", data=Xy, fit_reg=False, markers=[\"o\", \"x\"])\n",
        "plt.show()"
      ]
    },
    {
      "cell_type": "code",
      "execution_count": 21,
      "metadata": {
        "colab": {
          "base_uri": "https://localhost:8080/"
        },
        "id": "xzc1rBEy11Db",
        "outputId": "72fbf2a1-f79f-44a1-9728-05b28600ba68"
      },
      "outputs": [
        {
          "output_type": "stream",
          "name": "stdout",
          "text": [
            "X_train shape  (455, 11)\n",
            "y_train shape  (455,)\n",
            "X_test shape  (114, 11)\n",
            "y_test shape  (114,)\n"
          ]
        }
      ],
      "source": [
        "X=(Xy.iloc[:,0:11]).values\n",
        "#75:25 train:test data splitting\n",
        "X_train, X_test, y_train, y_test = train_test_split(X, y, test_size=0.20, random_state=0)\n",
        "\n",
        "\n",
        "print(\"X_train shape \",X_train.shape)\n",
        "print(\"y_train shape \",y_train.shape)\n",
        "print(\"X_test shape \",X_test.shape)\n",
        "print(\"y_test shape \",y_test.shape)"
      ]
    },
    {
      "cell_type": "code",
      "execution_count": 22,
      "metadata": {
        "colab": {
          "base_uri": "https://localhost:8080/",
          "height": 75
        },
        "id": "xodMAtFa14Qd",
        "outputId": "20fccc31-c62a-44ef-cd46-9406e65dfb83"
      },
      "outputs": [
        {
          "output_type": "execute_result",
          "data": {
            "text/plain": [
              "SVC()"
            ],
            "text/html": [
              "<style>#sk-container-id-1 {color: black;background-color: white;}#sk-container-id-1 pre{padding: 0;}#sk-container-id-1 div.sk-toggleable {background-color: white;}#sk-container-id-1 label.sk-toggleable__label {cursor: pointer;display: block;width: 100%;margin-bottom: 0;padding: 0.3em;box-sizing: border-box;text-align: center;}#sk-container-id-1 label.sk-toggleable__label-arrow:before {content: \"▸\";float: left;margin-right: 0.25em;color: #696969;}#sk-container-id-1 label.sk-toggleable__label-arrow:hover:before {color: black;}#sk-container-id-1 div.sk-estimator:hover label.sk-toggleable__label-arrow:before {color: black;}#sk-container-id-1 div.sk-toggleable__content {max-height: 0;max-width: 0;overflow: hidden;text-align: left;background-color: #f0f8ff;}#sk-container-id-1 div.sk-toggleable__content pre {margin: 0.2em;color: black;border-radius: 0.25em;background-color: #f0f8ff;}#sk-container-id-1 input.sk-toggleable__control:checked~div.sk-toggleable__content {max-height: 200px;max-width: 100%;overflow: auto;}#sk-container-id-1 input.sk-toggleable__control:checked~label.sk-toggleable__label-arrow:before {content: \"▾\";}#sk-container-id-1 div.sk-estimator input.sk-toggleable__control:checked~label.sk-toggleable__label {background-color: #d4ebff;}#sk-container-id-1 div.sk-label input.sk-toggleable__control:checked~label.sk-toggleable__label {background-color: #d4ebff;}#sk-container-id-1 input.sk-hidden--visually {border: 0;clip: rect(1px 1px 1px 1px);clip: rect(1px, 1px, 1px, 1px);height: 1px;margin: -1px;overflow: hidden;padding: 0;position: absolute;width: 1px;}#sk-container-id-1 div.sk-estimator {font-family: monospace;background-color: #f0f8ff;border: 1px dotted black;border-radius: 0.25em;box-sizing: border-box;margin-bottom: 0.5em;}#sk-container-id-1 div.sk-estimator:hover {background-color: #d4ebff;}#sk-container-id-1 div.sk-parallel-item::after {content: \"\";width: 100%;border-bottom: 1px solid gray;flex-grow: 1;}#sk-container-id-1 div.sk-label:hover label.sk-toggleable__label {background-color: #d4ebff;}#sk-container-id-1 div.sk-serial::before {content: \"\";position: absolute;border-left: 1px solid gray;box-sizing: border-box;top: 0;bottom: 0;left: 50%;z-index: 0;}#sk-container-id-1 div.sk-serial {display: flex;flex-direction: column;align-items: center;background-color: white;padding-right: 0.2em;padding-left: 0.2em;position: relative;}#sk-container-id-1 div.sk-item {position: relative;z-index: 1;}#sk-container-id-1 div.sk-parallel {display: flex;align-items: stretch;justify-content: center;background-color: white;position: relative;}#sk-container-id-1 div.sk-item::before, #sk-container-id-1 div.sk-parallel-item::before {content: \"\";position: absolute;border-left: 1px solid gray;box-sizing: border-box;top: 0;bottom: 0;left: 50%;z-index: -1;}#sk-container-id-1 div.sk-parallel-item {display: flex;flex-direction: column;z-index: 1;position: relative;background-color: white;}#sk-container-id-1 div.sk-parallel-item:first-child::after {align-self: flex-end;width: 50%;}#sk-container-id-1 div.sk-parallel-item:last-child::after {align-self: flex-start;width: 50%;}#sk-container-id-1 div.sk-parallel-item:only-child::after {width: 0;}#sk-container-id-1 div.sk-dashed-wrapped {border: 1px dashed gray;margin: 0 0.4em 0.5em 0.4em;box-sizing: border-box;padding-bottom: 0.4em;background-color: white;}#sk-container-id-1 div.sk-label label {font-family: monospace;font-weight: bold;display: inline-block;line-height: 1.2em;}#sk-container-id-1 div.sk-label-container {text-align: center;}#sk-container-id-1 div.sk-container {/* jupyter's `normalize.less` sets `[hidden] { display: none; }` but bootstrap.min.css set `[hidden] { display: none !important; }` so we also need the `!important` here to be able to override the default hidden behavior on the sphinx rendered scikit-learn.org. See: https://github.com/scikit-learn/scikit-learn/issues/21755 */display: inline-block !important;position: relative;}#sk-container-id-1 div.sk-text-repr-fallback {display: none;}</style><div id=\"sk-container-id-1\" class=\"sk-top-container\"><div class=\"sk-text-repr-fallback\"><pre>SVC()</pre><b>In a Jupyter environment, please rerun this cell to show the HTML representation or trust the notebook. <br />On GitHub, the HTML representation is unable to render, please try loading this page with nbviewer.org.</b></div><div class=\"sk-container\" hidden><div class=\"sk-item\"><div class=\"sk-estimator sk-toggleable\"><input class=\"sk-toggleable__control sk-hidden--visually\" id=\"sk-estimator-id-1\" type=\"checkbox\" checked><label for=\"sk-estimator-id-1\" class=\"sk-toggleable__label sk-toggleable__label-arrow\">SVC</label><div class=\"sk-toggleable__content\"><pre>SVC()</pre></div></div></div></div></div>"
            ]
          },
          "metadata": {},
          "execution_count": 22
        }
      ],
      "source": [
        "svc = SVC()\n",
        "svc.fit(X_train, y_train)"
      ]
    },
    {
      "cell_type": "code",
      "execution_count": 23,
      "metadata": {
        "colab": {
          "base_uri": "https://localhost:8080/"
        },
        "id": "5Pq8KrkA1706",
        "outputId": "3b0e2b98-ec52-4068-ddd4-0ffb9bb3ffcd"
      },
      "outputs": [
        {
          "output_type": "execute_result",
          "data": {
            "text/plain": [
              "(114,)"
            ]
          },
          "metadata": {},
          "execution_count": 23
        }
      ],
      "source": [
        "y_pred_svc =svc.predict(X_test)\n",
        "y_pred_svc.shape"
      ]
    },
    {
      "cell_type": "code",
      "execution_count": 24,
      "metadata": {
        "colab": {
          "base_uri": "https://localhost:8080/"
        },
        "id": "1Uf8g7hR2Fga",
        "outputId": "bfc3a789-3223-4755-b2e0-1f4b15449bed"
      },
      "outputs": [
        {
          "output_type": "stream",
          "name": "stdout",
          "text": [
            "Confusion matrix:\n",
            " [[67  0]\n",
            " [ 3 44]]\n"
          ]
        }
      ],
      "source": [
        "cm = confusion_matrix(y_test, y_pred_svc)\n",
        "print(\"Confusion matrix:\\n\",cm)"
      ]
    },
    {
      "cell_type": "code",
      "execution_count": 25,
      "metadata": {
        "id": "Qmawoe4RH01T"
      },
      "outputs": [],
      "source": [
        "from sklearn.metrics import accuracy_score"
      ]
    },
    {
      "cell_type": "code",
      "execution_count": 26,
      "metadata": {
        "colab": {
          "base_uri": "https://localhost:8080/"
        },
        "id": "xHUVziImHSR-",
        "outputId": "bfe9a91c-2274-4620-e204-a7bbc4141259"
      },
      "outputs": [
        {
          "output_type": "execute_result",
          "data": {
            "text/plain": [
              "0.9736842105263158"
            ]
          },
          "metadata": {},
          "execution_count": 26
        }
      ],
      "source": [
        "accuracy_score(y_test, y_pred_svc)"
      ]
    },
    {
      "cell_type": "code",
      "execution_count": 27,
      "metadata": {
        "colab": {
          "base_uri": "https://localhost:8080/"
        },
        "id": "0i2joUHH2Hzd",
        "outputId": "3a1192f8-40a5-43db-e4df-eec8aea7fbba"
      },
      "outputs": [
        {
          "output_type": "stream",
          "name": "stdout",
          "text": [
            "SVC report:\n",
            "               precision    recall  f1-score   support\n",
            "\n",
            "           B       0.96      1.00      0.98        67\n",
            "           M       1.00      0.94      0.97        47\n",
            "\n",
            "    accuracy                           0.97       114\n",
            "   macro avg       0.98      0.97      0.97       114\n",
            "weighted avg       0.97      0.97      0.97       114\n",
            "\n"
          ]
        }
      ],
      "source": [
        "creport = classification_report(y_test, y_pred_svc)\n",
        "print(\"SVC report:\\n\",creport)"
      ]
    },
    {
      "cell_type": "code",
      "execution_count": 28,
      "metadata": {
        "colab": {
          "base_uri": "https://localhost:8080/"
        },
        "id": "B90-M_Fo2L-g",
        "outputId": "5d4db9ba-d5cc-4762-dac5-f12a0fe0eaed"
      },
      "outputs": [
        {
          "output_type": "stream",
          "name": "stdout",
          "text": [
            "i- 0 score:  0.9649122807017544 recall-  0.9565217391304348 precision-  1.0 f1-  0.9777777777777777\n",
            "i- 1 score:  0.9298245614035088 recall-  0.9090909090909091 precision-  0.9090909090909091 f1-  0.9090909090909091\n",
            "i- 2 score:  0.9649122807017544 recall-  0.9523809523809523 precision-  0.9523809523809523 f1-  0.9523809523809523\n",
            "i- 3 score:  0.9649122807017544 recall-  0.9285714285714286 precision-  1.0 f1-  0.962962962962963\n",
            "i- 4 score:  0.9649122807017544 recall-  0.9285714285714286 precision-  1.0 f1-  0.962962962962963\n",
            "i- 5 score:  0.9649122807017544 recall-  0.9166666666666666 precision-  0.9166666666666666 f1-  0.9166666666666666\n",
            "i- 6 score:  1.0 recall-  1.0 precision-  1.0 f1-  1.0\n",
            "i- 7 score:  1.0 recall-  1.0 precision-  1.0 f1-  1.0\n",
            "i- 8 score:  1.0 recall-  1.0 precision-  1.0 f1-  1.0\n",
            "i- 9 score:  0.9642857142857143 recall-  0.9230769230769231 precision-  0.9230769230769231 f1-  0.9230769230769231\n"
          ]
        }
      ],
      "source": [
        "from sklearn.model_selection import KFold\n",
        "from sklearn.metrics import recall_score, precision_score, f1_score\n",
        "from sklearn.preprocessing import LabelEncoder\n",
        "\n",
        "lb=LabelEncoder()\n",
        "\n",
        "kfold=KFold(10)\n",
        "kfold.get_n_splits(X)\n",
        "score=[]\n",
        "recall=[]\n",
        "precision=[]\n",
        "F1=[]\n",
        "for i,(train,test) in enumerate(kfold.split(X)):\n",
        "  train_data,test_data=X[train],X[test]\n",
        "  train_labels,test_labels=y[train],y[test]\n",
        "  svc = SVC()\n",
        "  svc.fit(train_data, train_labels)\n",
        "  y_pred_svc =svc.predict(test_data)\n",
        "  score.append(accuracy_score(test_labels, y_pred_svc))\n",
        "  y_lt=lb.fit_transform(test_labels)\n",
        "  y_plt=lb.transform(y_pred_svc)\n",
        "  # print(test_labels, y_pred_svc)\n",
        "  recall.append(recall_score(y_lt, y_plt))\n",
        "  precision.append(precision_score(y_lt, y_plt))\n",
        "  F1.append(f1_score(y_lt, y_plt))\n",
        "\n",
        "  print(\"i-\",i,\"score: \", accuracy_score(test_labels, y_pred_svc), \"recall- \",recall[i], \"precision- \",precision[i], \"f1- \", F1[i])\n",
        "\n"
      ]
    },
    {
      "cell_type": "code",
      "execution_count": 29,
      "metadata": {
        "colab": {
          "base_uri": "https://localhost:8080/"
        },
        "id": "ia398h75I0Hb",
        "outputId": "f3aab5e9-8116-4005-a098-29a2aa40fe02"
      },
      "outputs": [
        {
          "output_type": "stream",
          "name": "stdout",
          "text": [
            "i- 0 score:  0.984375 recall-  0.9578313253012049 precision-  0.99375 f1-  0.9754601226993865\n",
            "i- 1 score:  0.986328125 recall-  0.9631578947368421 precision-  1.0 f1-  0.9812332439678284\n",
            "i- 2 score:  0.984375 recall-  0.9633507853403142 precision-  0.9945945945945946 f1-  0.9787234042553191\n",
            "i- 3 score:  0.982421875 recall-  0.9565217391304348 precision-  0.9943502824858758 f1-  0.9750692520775623\n",
            "i- 4 score:  0.98828125 recall-  0.9728260869565217 precision-  0.9944444444444445 f1-  0.9835164835164836\n",
            "i- 5 score:  0.986328125 recall-  0.97 precision-  0.9948717948717949 f1-  0.9822784810126582\n",
            "i- 6 score:  0.984375 recall-  0.9642857142857143 precision-  0.9947368421052631 f1-  0.9792746113989639\n",
            "i- 7 score:  0.982421875 recall-  0.9597989949748744 precision-  0.9947916666666666 f1-  0.9769820971867007\n",
            "i- 8 score:  0.984375 recall-  0.964824120603015 precision-  0.9948186528497409 f1-  0.9795918367346939\n",
            "i- 9 score:  0.98635477582846 recall-  0.9698492462311558 precision-  0.9948453608247423 f1-  0.9821882951653944\n"
          ]
        }
      ],
      "source": [
        "from sklearn.model_selection import KFold\n",
        "from sklearn.metrics import recall_score, precision_score, f1_score, roc_curve\n",
        "from sklearn.preprocessing import LabelEncoder\n",
        "\n",
        "lb=LabelEncoder()\n",
        "\n",
        "kfold=KFold(10)\n",
        "kfold.get_n_splits(X)\n",
        "score=[]\n",
        "recall=[]\n",
        "precision=[]\n",
        "F1=[]\n",
        "for i,(train,test) in enumerate(kfold.split(X)):\n",
        "  train_data,test_data=X[train],X[test]\n",
        "  train_labels,test_labels=y[train],y[test]\n",
        "  svc = SVC()\n",
        "  svc.fit(train_data, train_labels)\n",
        "  y_pred_svc =svc.predict(train_data)\n",
        "  score.append(accuracy_score(train_labels, y_pred_svc))\n",
        "  y_lt=lb.fit_transform(train_labels)\n",
        "  y_plt=lb.transform(y_pred_svc)\n",
        "  # print(test_labels, y_pred_svc)\n",
        "  recall.append(recall_score(y_lt, y_plt))\n",
        "  precision.append(precision_score(y_lt, y_plt))\n",
        "  F1.append(f1_score(y_lt, y_plt))\n",
        "\n",
        "  print(\"i-\",i,\"score: \", accuracy_score(train_labels, y_pred_svc), \"recall- \",recall[i], \"precision- \",precision[i], \"f1- \", F1[i])\n",
        "\n"
      ]
    },
    {
      "cell_type": "code",
      "execution_count": 30,
      "metadata": {
        "colab": {
          "base_uri": "https://localhost:8080/",
          "height": 282
        },
        "id": "5EoA606_DEV3",
        "outputId": "0b354289-4f05-43b0-fe8c-e130f7f24a09"
      },
      "outputs": [
        {
          "output_type": "execute_result",
          "data": {
            "text/plain": [
              "<BarContainer object of 10 artists>"
            ]
          },
          "metadata": {},
          "execution_count": 30
        },
        {
          "output_type": "display_data",
          "data": {
            "text/plain": [
              "<Figure size 432x288 with 1 Axes>"
            ],
            "image/png": "[encoded data removed]"
          },
          "metadata": {
            "needs_background": "light"
          }
        }
      ],
      "source": [
        "plt.bar(range(0,10),score)"
      ]
    },
    {
      "cell_type": "code",
      "execution_count": 31,
      "metadata": {
        "colab": {
          "base_uri": "https://localhost:8080/",
          "height": 282
        },
        "id": "FJriz4q9IFBW",
        "outputId": "0482f8b1-eb05-4d78-a943-aaa8e340a972"
      },
      "outputs": [
        {
          "output_type": "execute_result",
          "data": {
            "text/plain": [
              "<BarContainer object of 10 artists>"
            ]
          },
          "metadata": {},
          "execution_count": 31
        },
        {
          "output_type": "display_data",
          "data": {
            "text/plain": [
              "<Figure size 432x288 with 1 Axes>"
            ],
            "image/png": "[encoded data removed]"
          },
          "metadata": {
            "needs_background": "light"
          }
        }
      ],
      "source": [
        "plt.bar(range(0,10),recall)"
      ]
    },
    {
      "cell_type": "code",
      "execution_count": 32,
      "metadata": {
        "colab": {
          "base_uri": "https://localhost:8080/",
          "height": 282
        },
        "id": "YWU9g80zJh0Q",
        "outputId": "e8e7cef8-c378-43b4-b34e-8b5b09fca1d1"
      },
      "outputs": [
        {
          "output_type": "execute_result",
          "data": {
            "text/plain": [
              "<BarContainer object of 10 artists>"
            ]
          },
          "metadata": {},
          "execution_count": 32
        },
        {
          "output_type": "display_data",
          "data": {
            "text/plain": [
              "<Figure size 432x288 with 1 Axes>"
            ],
            "image/png": "[encoded data removed]"
          },
          "metadata": {
            "needs_background": "light"
          }
        }
      ],
      "source": [
        "plt.bar(range(0,10),precision)"
      ]
    },
    {
      "cell_type": "code",
      "execution_count": 33,
      "metadata": {
        "colab": {
          "base_uri": "https://localhost:8080/",
          "height": 282
        },
        "id": "YiouC4xHJk3m",
        "outputId": "3208a15a-fdfd-42e8-e3d0-b50c95faf96f"
      },
      "outputs": [
        {
          "output_type": "execute_result",
          "data": {
            "text/plain": [
              "<ErrorbarContainer object of 3 artists>"
            ]
          },
          "metadata": {},
          "execution_count": 33
        },
        {
          "output_type": "display_data",
          "data": {
            "text/plain": [
              "<Figure size 432x288 with 1 Axes>"
            ],
            "image/png": "[encoded data removed]"
          },
          "metadata": {
            "needs_background": "light"
          }
        }
      ],
      "source": [
        "plt.errorbar(range(0,10),score)"
      ]
    },
    {
      "cell_type": "code",
      "execution_count": 34,
      "metadata": {
        "id": "ceK_uI13Jr2o"
      },
      "outputs": [],
      "source": [
        "def plot_prec_recall_vs_tresh(precisions, recalls, thresholds):\n",
        "    plt.plot(thresholds, precisions, 'b--', label='precision')\n",
        "    plt.plot(thresholds, recalls, 'g--', label = 'recall')\n",
        "    plt.xlabel('k')\n",
        "    plt.legend(loc='upper left')\n",
        "    plt.ylim([.95,1])"
      ]
    },
    {
      "cell_type": "code",
      "execution_count": 35,
      "metadata": {
        "colab": {
          "base_uri": "https://localhost:8080/",
          "height": 283
        },
        "id": "bVbLZWAnLpcQ",
        "outputId": "25b9a339-21ee-486d-a019-b8b62f92036e"
      },
      "outputs": [
        {
          "output_type": "display_data",
          "data": {
            "text/plain": [
              "<Figure size 432x288 with 1 Axes>"
            ],
            "image/png": "[encoded data removed]"
          },
          "metadata": {
            "needs_background": "light"
          }
        }
      ],
      "source": [
        "plot_prec_recall_vs_tresh(precision,recall,range(0,10))"
      ]
    },
    {
      "cell_type": "code",
      "execution_count": 36,
      "metadata": {
        "colab": {
          "base_uri": "https://localhost:8080/",
          "height": 1000
        },
        "id": "7Tvf787RLvE9",
        "outputId": "992f821a-4505-411a-a823-46dc84386b4b"
      },
      "outputs": [
        {
          "output_type": "stream",
          "name": "stdout",
          "text": [
            "i- 0 score:  0.984375 recall-  0.9578313253012049 precision-  0.99375 f1-  0.9754601226993865\n",
            "i- 1 score:  0.986328125 recall-  0.9631578947368421 precision-  1.0 f1-  0.9812332439678284\n",
            "i- 2 score:  0.984375 recall-  0.9633507853403142 precision-  0.9945945945945946 f1-  0.9787234042553191\n",
            "i- 3 score:  0.982421875 recall-  0.9565217391304348 precision-  0.9943502824858758 f1-  0.9750692520775623\n",
            "i- 4 score:  0.98828125 recall-  0.9728260869565217 precision-  0.9944444444444445 f1-  0.9835164835164836\n",
            "i- 5 score:  0.986328125 recall-  0.97 precision-  0.9948717948717949 f1-  0.9822784810126582\n",
            "i- 6 score:  0.984375 recall-  0.9642857142857143 precision-  0.9947368421052631 f1-  0.9792746113989639\n",
            "i- 7 score:  0.982421875 recall-  0.9597989949748744 precision-  0.9947916666666666 f1-  0.9769820971867007\n",
            "i- 8 score:  0.984375 recall-  0.964824120603015 precision-  0.9948186528497409 f1-  0.9795918367346939\n",
            "i- 9 score:  0.98635477582846 recall-  0.9698492462311558 precision-  0.9948453608247423 f1-  0.9821882951653944\n"
          ]
        },
        {
          "output_type": "display_data",
          "data": {
            "text/plain": [
              "<Figure size 432x288 with 1 Axes>"
            ],
            "image/png": "[encoded data removed]"
          },
          "metadata": {
            "needs_background": "light"
          }
        },
        {
          "output_type": "display_data",
          "data": {
            "text/plain": [
              "<Figure size 432x288 with 1 Axes>"
            ],
            "image/png": "[encoded data removed]"
          },
          "metadata": {
            "needs_background": "light"
          }
        },
        {
          "output_type": "display_data",
          "data": {
            "text/plain": [
              "<Figure size 432x288 with 1 Axes>"
            ],
            "image/png": "[encoded data removed]"
          },
          "metadata": {
            "needs_background": "light"
          }
        },
        {
          "output_type": "display_data",
          "data": {
            "text/plain": [
              "<Figure size 432x288 with 1 Axes>"
            ],
            "image/png": "[encoded data removed]"
          },
          "metadata": {
            "needs_background": "light"
          }
        },
        {
          "output_type": "display_data",
          "data": {
            "text/plain": [
              "<Figure size 432x288 with 1 Axes>"
            ],
            "image/png": "[encoded data removed]"
          },
          "metadata": {
            "needs_background": "light"
          }
        },
        {
          "output_type": "display_data",
          "data": {
            "text/plain": [
              "<Figure size 432x288 with 1 Axes>"
            ],
            "image/png": "[encoded data removed]"
          },
          "metadata": {
            "needs_background": "light"
          }
        },
        {
          "output_type": "display_data",
          "data": {
            "text/plain": [
              "<Figure size 432x288 with 1 Axes>"
            ],
            "image/png": "[encoded data removed]"
          },
          "metadata": {
            "needs_background": "light"
          }
        },
        {
          "output_type": "display_data",
          "data": {
            "text/plain": [
              "<Figure size 432x288 with 1 Axes>"
            ],
            "image/png": "[encoded data removed]"
          },
          "metadata": {
            "needs_background": "light"
          }
        },
        {
          "output_type": "display_data",
          "data": {
            "text/plain": [
              "<Figure size 432x288 with 1 Axes>"
            ],
            "image/png": "[encoded data removed]"
          },
          "metadata": {
            "needs_background": "light"
          }
        },
        {
          "output_type": "display_data",
          "data": {
            "text/plain": [
              "<Figure size 432x288 with 1 Axes>"
            ],
            "image/png": "[encoded data removed]"
          },
          "metadata": {
            "needs_background": "light"
          }
        }
      ],
      "source": [
        "from sklearn.model_selection import KFold\n",
        "from sklearn.metrics import recall_score, precision_score, f1_score\n",
        "from sklearn.metrics import RocCurveDisplay\n",
        "from sklearn.preprocessing import LabelEncoder\n",
        "\n",
        "lb=LabelEncoder()\n",
        "\n",
        "kfold=KFold(10)\n",
        "kfold.get_n_splits(X)\n",
        "score=[]\n",
        "recall=[]\n",
        "precision=[]\n",
        "F1=[]\n",
        "for i,(train,test) in enumerate(kfold.split(X)):\n",
        "  train_data,test_data=X[train],X[test]\n",
        "  train_labels,test_labels=y[train],y[test]\n",
        "  svc = SVC()\n",
        "  svc.fit(train_data, train_labels)\n",
        "  y_pred_svc =svc.predict(train_data)\n",
        "  score.append(accuracy_score(train_labels, y_pred_svc))\n",
        "  y_lt=lb.fit_transform(train_labels)\n",
        "  y_plt=lb.transform(y_pred_svc)\n",
        "  # print(test_labels, y_pred_svc)\n",
        "  recall.append(recall_score(y_lt, y_plt))\n",
        "  precision.append(precision_score(y_lt, y_plt))\n",
        "  F1.append(f1_score(y_lt, y_plt))\n",
        "  RocCurveDisplay.from_estimator(svc,train_data,train_labels)\n",
        "  print(\"i-\",i,\"score: \", accuracy_score(train_labels, y_pred_svc), \"recall- \",recall[i], \"precision- \",precision[i], \"f1- \", F1[i])\n",
        "\n"
      ]
    },
    {
      "cell_type": "code",
      "execution_count": 36,
      "metadata": {
        "id": "GK2LmEgUTeRh"
      },
      "outputs": [],
      "source": []
    },
    {
      "cell_type": "code",
      "execution_count": 36,
      "metadata": {
        "id": "CbFRVUO4TgzF"
      },
      "outputs": [],
      "source": []
    },
    {
      "cell_type": "code",
      "execution_count": 37,
      "metadata": {
        "id": "tQEC2dLTdOuO"
      },
      "outputs": [],
      "source": [
        "import numpy as np\n",
        "import pandas as pd\n",
        "import statsmodels.api as sm\n",
        "from sklearn.preprocessing import MinMaxScaler\n",
        "from sklearn.model_selection import train_test_split as tts\n",
        "from sklearn.metrics import accuracy_score, recall_score, precision_score\n",
        "from sklearn.utils import shuffle\n"
      ]
    },
    {
      "cell_type": "code",
      "execution_count": 38,
      "metadata": {
        "colab": {
          "base_uri": "https://localhost:8080/"
        },
        "id": "dlRu9RXTdo3_",
        "outputId": "8e0b3361-f532-406e-fc5e-605c68a0d3bc"
      },
      "outputs": [
        {
          "output_type": "stream",
          "name": "stdout",
          "text": [
            "data read\n"
          ]
        }
      ],
      "source": [
        "print(\"data read\")\n",
        "data = pd.read_csv('/content/drive/MyDrive/data.csv')"
      ]
    },
    {
      "cell_type": "code",
      "execution_count": 39,
      "metadata": {
        "id": "FCCwIe2Fd55G"
      },
      "outputs": [],
      "source": [
        "data.drop(data.columns[[-1, 0]], axis=1, inplace=True)"
      ]
    },
    {
      "cell_type": "code",
      "execution_count": 40,
      "metadata": {
        "id": "FLoj3ZVLd-TI"
      },
      "outputs": [],
      "source": [
        "# convert categorical labels to numbers\n",
        "diag_map = {'M': 1.0, 'B': -1.0}\n",
        "data['diagnosis'] = data['diagnosis'].map(diag_map)"
      ]
    },
    {
      "cell_type": "code",
      "execution_count": 41,
      "metadata": {
        "id": "V8IfZBlweBWw"
      },
      "outputs": [],
      "source": [
        "Y = data.loc[:, 'diagnosis']\n",
        "X = data.iloc[:, 1:]"
      ]
    },
    {
      "cell_type": "code",
      "execution_count": 42,
      "metadata": {
        "id": "SbdY15xKeb08"
      },
      "outputs": [],
      "source": [
        "def remove_correlated_features(data):\n",
        "    # Define a correlation threshold above which features are considered correlated\n",
        "    threshold = 0.9\n",
        "    \n",
        "    # Calculate the correlation matrix\n",
        "    corr_matrix = data.corr()\n",
        "    \n",
        "    # Create an array to mark which columns to drop\n",
        "    drop_columns = np.full(corr_matrix.shape[0], False, dtype=bool)\n",
        "    \n",
        "    # Iterate over the columns and compare their correlations to other columns\n",
        "    for i in range(corr_matrix.shape[0]):\n",
        "        for j in range(i + 1, corr_matrix.shape[0]):\n",
        "            # If two columns are highly correlated, mark one of them to be dropped\n",
        "            if corr_matrix.iloc[i, j] >= threshold:\n",
        "                drop_columns[j] = True\n",
        "                \n",
        "    # Get the names of the columns to be dropped\n",
        "    columns_to_drop = data.columns[drop_columns]\n",
        "    \n",
        "    # Drop the correlated columns from the data\n",
        "    data.drop(columns_to_drop, axis=1, inplace=True)\n",
        "    \n",
        "    # Return the names of the columns that were dropped\n",
        "    return columns_to_drop"
      ]
    },
    {
      "cell_type": "code",
      "execution_count": 43,
      "metadata": {
        "id": "c74ddUf4egC2"
      },
      "outputs": [],
      "source": [
        "def remove_less_significant_features(X, Y):\n",
        "    significance_level = 0.05\n",
        "    ols_regression = None\n",
        "    dropped_columns = np.array([])\n",
        "    for itr in range(0, len(X.columns)):\n",
        "        # fit the Ordinary Least Squares (OLS) regression model and get the p-values\n",
        "        ols_regression = sm.OLS(Y, X).fit()\n",
        "        max_p_value_column = ols_regression.pvalues.idxmax()\n",
        "        max_p_value = ols_regression.pvalues.max()\n",
        "        if max_p_value > significance_level:\n",
        "            # drop the column with the highest p-value above the threshold\n",
        "            X.drop(max_p_value_column, axis='columns', inplace=True)\n",
        "            dropped_columns = np.append(dropped_columns, [max_p_value_column])\n",
        "        else:\n",
        "            # stop if no more columns with p-value above the threshold\n",
        "            break\n",
        "    # print the summary of the OLS regression model\n",
        "    ols_regression.summary()\n",
        "    return dropped_columns"
      ]
    },
    {
      "cell_type": "code",
      "execution_count": 44,
      "metadata": {
        "colab": {
          "base_uri": "https://localhost:8080/"
        },
        "id": "ttOoiylGeN8s",
        "outputId": "60760dfe-6864-4cf7-9ad6-ce03937d9d07"
      },
      "outputs": [
        {
          "output_type": "execute_result",
          "data": {
            "text/plain": [
              "array(['smoothness_mean', 'compactness_worst', 'compactness_mean',\n",
              "       'radius_mean', 'texture_se', 'symmetry_se', 'smoothness_se',\n",
              "       'concavity_worst'], dtype='<U32')"
            ]
          },
          "metadata": {},
          "execution_count": 44
        }
      ],
      "source": [
        "remove_correlated_features(X)\n",
        "remove_less_significant_features(X, Y)"
      ]
    },
    {
      "cell_type": "code",
      "execution_count": 45,
      "metadata": {
        "id": "DWA7pz5lyowg"
      },
      "outputs": [],
      "source": [
        "X_normalized = MinMaxScaler().fit_transform(X.values)\n",
        "X = pd.DataFrame(X_normalized)"
      ]
    },
    {
      "cell_type": "code",
      "execution_count": 46,
      "metadata": {
        "id": "l1C1QIKnyqUa"
      },
      "outputs": [],
      "source": [
        "X.insert(loc=len(X.columns), column='intercept', value=1)"
      ]
    },
    {
      "cell_type": "code",
      "execution_count": 47,
      "metadata": {
        "id": "kTAgmjzNyuin"
      },
      "outputs": [],
      "source": [
        "# data set is split into train and test\n",
        "X_train, X_test, y_train, y_test = tts(X, Y, test_size=0.2, random_state=42)"
      ]
    },
    {
      "cell_type": "code",
      "execution_count": 48,
      "metadata": {
        "id": "2or_BVHRzHJ9"
      },
      "outputs": [],
      "source": [
        "def svm(features, labels,cost_threshold = 0.01):\n",
        "    # Initialize weights to zeros\n",
        "    weights = np.zeros(features.shape[1])\n",
        "    pre_cost = float(\"inf\")\n",
        "    nth = 0\n",
        "    for epoch in range(1, epochs):\n",
        "        # Shuffle to prevent repeating update cycles\n",
        "        shuffled_features, shuffled_labels = shuffle(features, labels)\n",
        "        for index, feature in enumerate(shuffled_features):\n",
        "            # Calculate gradient of loss with respect to weights\n",
        "            gradient = calculate_loss_gradient(weights, feature, shuffled_labels[index])\n",
        "\n",
        "            # Update weights\n",
        "            weights = weights - (learn_rate * gradient)\n",
        "\n",
        "        # test if converging on nth sqr\n",
        "        if epoch == 2 ** nth or epoch == epochs - 1:\n",
        "            # Calculate cost\n",
        "            cost = compute_loss(weights, features, labels)\n",
        "            print(\"Epoch is: {} and Cost is: {}\".format(epoch, cost))\n",
        "            if abs(pre_cost - cost) < cost_threshold * pre_cost:\n",
        "                return weights\n",
        "            pre_cost = cost\n",
        "            nth += 1\n",
        "    return weights"
      ]
    },
    {
      "cell_type": "code",
      "execution_count": 49,
      "metadata": {
        "id": "YZ6uIGgbzMoa"
      },
      "outputs": [],
      "source": [
        "def calculate_loss_gradient(weights, features_batch, labels_batch):\n",
        "    # If only one example is passed (e.g. in case of stochastic gradient descent)\n",
        "    if type(labels_batch) == np.float64:\n",
        "        labels_batch = np.array([labels_batch])\n",
        "        features_batch = np.array([features_batch])  # Gives multidimensional array\n",
        "\n",
        "    distances = 1 - (labels_batch * np.dot(features_batch, weights))\n",
        "    gradient = np.zeros(len(weights))\n",
        "\n",
        "    for index, distance in enumerate(distances):\n",
        "        if max(0, distance) == 0:\n",
        "            gradient_increment = weights\n",
        "        else:\n",
        "            gradient_increment = weights - (regularization_param * labels_batch[index] * features_batch[index])\n",
        "        gradient += gradient_increment\n",
        "\n",
        "    gradient = gradient / len(labels_batch)  # Average\n",
        "    return gradient"
      ]
    },
    {
      "cell_type": "code",
      "execution_count": 50,
      "metadata": {
        "id": "qs1cEoldzih2"
      },
      "outputs": [],
      "source": [
        "def compute_loss(weights, features, labels):\n",
        "    num_samples = features.shape[0]\n",
        "    distances = 1 - labels * (np.dot(features, weights))\n",
        "    distances[distances < 0] = 0\n",
        "    hinge_loss = regularization_param * (np.sum(distances) / num_samples)\n",
        "    regularization_loss = 1 / 2 * np.dot(weights, weights)\n",
        "    cost = regularization_loss + hinge_loss\n",
        "    return cost"
      ]
    },
    {
      "cell_type": "code",
      "execution_count": 51,
      "metadata": {
        "id": "ZDuTbCdHzUAH"
      },
      "outputs": [],
      "source": [
        "epochs = 5000\n",
        "regularization_param = 10000\n",
        "learn_rate = 0.000001"
      ]
    },
    {
      "cell_type": "code",
      "execution_count": 52,
      "metadata": {
        "colab": {
          "base_uri": "https://localhost:8080/"
        },
        "id": "f8632JxGEjR6",
        "outputId": "e1180fca-9d34-4318-9749-2ba76c64d002"
      },
      "outputs": [
        {
          "output_type": "execute_result",
          "data": {
            "text/plain": [
              "(455,)"
            ]
          },
          "metadata": {},
          "execution_count": 52
        }
      ],
      "source": [
        "y_train.to_numpy().shape"
      ]
    },
    {
      "cell_type": "code",
      "execution_count": 53,
      "metadata": {
        "colab": {
          "base_uri": "https://localhost:8080/"
        },
        "id": "9-v5MduJy5Hq",
        "outputId": "e5cf8329-48ae-4ec3-ea72-643e98474b63"
      },
      "outputs": [
        {
          "output_type": "stream",
          "name": "stdout",
          "text": [
            "training started...\n",
            "Epoch is: 1 and Cost is: 7319.114949373717\n",
            "Epoch is: 2 and Cost is: 6526.010036322462\n",
            "Epoch is: 4 and Cost is: 5404.6271647854155\n",
            "Epoch is: 8 and Cost is: 3830.857581093406\n",
            "Epoch is: 16 and Cost is: 2695.1431789506723\n",
            "Epoch is: 32 and Cost is: 1961.2564503952703\n",
            "Epoch is: 64 and Cost is: 1583.853317063069\n",
            "Epoch is: 128 and Cost is: 1325.0699135248487\n",
            "Epoch is: 256 and Cost is: 1159.5306739664293\n",
            "Epoch is: 512 and Cost is: 1074.844669087839\n",
            "Epoch is: 1024 and Cost is: 1046.091778063618\n",
            "Epoch is: 2048 and Cost is: 1042.7587788456358\n",
            "training finished.\n",
            "weights are: [ 3.56851271 11.06820566 -2.31059963 -7.9011053  10.15727011 -1.27771997\n",
            " -6.43828658  2.24870503 -3.87510944  3.23870965  4.95259034  4.81554304\n",
            " -4.71135123]\n"
          ]
        }
      ],
      "source": [
        "    print(\"training started...\")\n",
        "    W = svm(X_train.to_numpy(), y_train.to_numpy())\n",
        "    print(\"training finished.\")\n",
        "    print(\"weights are: {}\".format(W))"
      ]
    },
    {
      "cell_type": "code",
      "execution_count": 54,
      "metadata": {
        "colab": {
          "base_uri": "https://localhost:8080/"
        },
        "id": "HYiVeIIDy50n",
        "outputId": "1ee1f85e-4e12-4339-d268-699b8d3f7120"
      },
      "outputs": [
        {
          "output_type": "stream",
          "name": "stdout",
          "text": [
            "testing the model...\n"
          ]
        }
      ],
      "source": [
        "print(\"testing the model...\")\n",
        "y_train_predicted = np.array([])\n",
        "for i in range(X_train.shape[0]):\n",
        "    yp = np.sign(np.dot(X_train.to_numpy()[i], W))\n",
        "    y_train_predicted = np.append(y_train_predicted, yp)\n",
        "\n",
        "y_test_predicted = np.array([])\n",
        "for i in range(X_test.shape[0]):\n",
        "    yp = np.sign(np.dot(X_test.to_numpy()[i], W))\n",
        "    y_test_predicted = np.append(y_test_predicted, yp)\n"
      ]
    },
    {
      "cell_type": "code",
      "execution_count": 55,
      "metadata": {
        "colab": {
          "base_uri": "https://localhost:8080/"
        },
        "id": "MHjTI63EzzEy",
        "outputId": "1ee2ff31-6839-4f42-d698-861f83ed6c4c"
      },
      "outputs": [
        {
          "output_type": "stream",
          "name": "stdout",
          "text": [
            "Accuracy score on the test dataset: 0.9912280701754386\n",
            "Recall score on the test dataset: 0.9767441860465116\n",
            "Precision score on the test dataset: 1.0\n"
          ]
        }
      ],
      "source": [
        "print(\"Accuracy score on the test dataset: {}\".format(accuracy_score(y_test, y_test_predicted)))\n",
        "print(\"Recall score on the test dataset: {}\".format(recall_score(y_test, y_test_predicted)))\n",
        "print(\"Precision score on the test dataset: {}\".format(precision_score(y_test, y_test_predicted)))\n"
      ]
    },
    {
      "cell_type": "code",
      "execution_count": 55,
      "metadata": {
        "id": "QW0xiADJcjRb"
      },
      "outputs": [],
      "source": []
    },
    {
      "cell_type": "code",
      "execution_count": 56,
      "metadata": {
        "id": "fD2p5rXxz7QW"
      },
      "outputs": [],
      "source": [
        "import pandas as pd\n",
        "df = pd.read_csv('/content/drive/MyDrive/implementation_correctness_dataset.csv')"
      ]
    },
    {
      "cell_type": "code",
      "execution_count": 57,
      "metadata": {
        "colab": {
          "base_uri": "https://localhost:8080/",
          "height": 583
        },
        "id": "nngTr5480LBM",
        "outputId": "6b549bc1-1836-4254-9465-ee09021cd8d4"
      },
      "outputs": [
        {
          "output_type": "execute_result",
          "data": {
            "text/plain": [
              "    Feature 1  Feature 2  Class/Cluster\n",
              "0       0.020   0.000000              1\n",
              "1       1.045   0.000000              1\n",
              "2       2.080   0.000000              1\n",
              "3       3.125   0.000000              1\n",
              "4       4.180   0.000000              1\n",
              "5       5.245   0.000000              1\n",
              "6       6.320   0.000000              1\n",
              "7       7.405   0.000000              1\n",
              "8       8.500   0.000000              1\n",
              "9       9.605   0.000000              1\n",
              "10      0.000   1.005000              1\n",
              "11      0.000   2.042871              1\n",
              "12      0.000   3.150677              1\n",
              "13      0.000   4.367583              1\n",
              "14      3.000   1.629463              2\n",
              "15      3.000   2.268944              2\n",
              "16      3.000   2.923104              2"
            ],
            "text/html": [
              "\n",
              "  <div id=\"df-e376cd2a-7d2e-46e0-afe0-8175f4da4efa\">\n",
              "    <div class=\"colab-df-container\">\n",
              "      <div>\n",
              "<style scoped>\n",
              "    .dataframe tbody tr th:only-of-type {\n",
              "        vertical-align: middle;\n",
              "    }\n",
              "\n",
              "    .dataframe tbody tr th {\n",
              "        vertical-align: top;\n",
              "    }\n",
              "\n",
              "    .dataframe thead th {\n",
              "        text-align: right;\n",
              "    }\n",
              "</style>\n",
              "<table border=\"1\" class=\"dataframe\">\n",
              "  <thead>\n",
              "    <tr style=\"text-align: right;\">\n",
              "      <th></th>\n",
              "      <th>Feature 1</th>\n",
              "      <th>Feature 2</th>\n",
              "      <th>Class/Cluster</th>\n",
              "    </tr>\n",
              "  </thead>\n",
              "  <tbody>\n",
              "    <tr>\n",
              "      <th>0</th>\n",
              "      <td>0.020</td>\n",
              "      <td>0.000000</td>\n",
              "      <td>1</td>\n",
              "    </tr>\n",
              "    <tr>\n",
              "      <th>1</th>\n",
              "      <td>1.045</td>\n",
              "      <td>0.000000</td>\n",
              "      <td>1</td>\n",
              "    </tr>\n",
              "    <tr>\n",
              "      <th>2</th>\n",
              "      <td>2.080</td>\n",
              "      <td>0.000000</td>\n",
              "      <td>1</td>\n",
              "    </tr>\n",
              "    <tr>\n",
              "      <th>3</th>\n",
              "      <td>3.125</td>\n",
              "      <td>0.000000</td>\n",
              "      <td>1</td>\n",
              "    </tr>\n",
              "    <tr>\n",
              "      <th>4</th>\n",
              "      <td>4.180</td>\n",
              "      <td>0.000000</td>\n",
              "      <td>1</td>\n",
              "    </tr>\n",
              "    <tr>\n",
              "      <th>5</th>\n",
              "      <td>5.245</td>\n",
              "      <td>0.000000</td>\n",
              "      <td>1</td>\n",
              "    </tr>\n",
              "    <tr>\n",
              "      <th>6</th>\n",
              "      <td>6.320</td>\n",
              "      <td>0.000000</td>\n",
              "      <td>1</td>\n",
              "    </tr>\n",
              "    <tr>\n",
              "      <th>7</th>\n",
              "      <td>7.405</td>\n",
              "      <td>0.000000</td>\n",
              "      <td>1</td>\n",
              "    </tr>\n",
              "    <tr>\n",
              "      <th>8</th>\n",
              "      <td>8.500</td>\n",
              "      <td>0.000000</td>\n",
              "      <td>1</td>\n",
              "    </tr>\n",
              "    <tr>\n",
              "      <th>9</th>\n",
              "      <td>9.605</td>\n",
              "      <td>0.000000</td>\n",
              "      <td>1</td>\n",
              "    </tr>\n",
              "    <tr>\n",
              "      <th>10</th>\n",
              "      <td>0.000</td>\n",
              "      <td>1.005000</td>\n",
              "      <td>1</td>\n",
              "    </tr>\n",
              "    <tr>\n",
              "      <th>11</th>\n",
              "      <td>0.000</td>\n",
              "      <td>2.042871</td>\n",
              "      <td>1</td>\n",
              "    </tr>\n",
              "    <tr>\n",
              "      <th>12</th>\n",
              "      <td>0.000</td>\n",
              "      <td>3.150677</td>\n",
              "      <td>1</td>\n",
              "    </tr>\n",
              "    <tr>\n",
              "      <th>13</th>\n",
              "      <td>0.000</td>\n",
              "      <td>4.367583</td>\n",
              "      <td>1</td>\n",
              "    </tr>\n",
              "    <tr>\n",
              "      <th>14</th>\n",
              "      <td>3.000</td>\n",
              "      <td>1.629463</td>\n",
              "      <td>2</td>\n",
              "    </tr>\n",
              "    <tr>\n",
              "      <th>15</th>\n",
              "      <td>3.000</td>\n",
              "      <td>2.268944</td>\n",
              "      <td>2</td>\n",
              "    </tr>\n",
              "    <tr>\n",
              "      <th>16</th>\n",
              "      <td>3.000</td>\n",
              "      <td>2.923104</td>\n",
              "      <td>2</td>\n",
              "    </tr>\n",
              "  </tbody>\n",
              "</table>\n",
              "</div>\n",
              "      <button class=\"colab-df-convert\" onclick=\"convertToInteractive('df-e376cd2a-7d2e-46e0-afe0-8175f4da4efa')\"\n",
              "              title=\"Convert this dataframe to an interactive table.\"\n",
              "              style=\"display:none;\">\n",
              "        \n",
              "  <svg xmlns=\"http://www.w3.org/2000/svg\" height=\"24px\"viewBox=\"0 0 24 24\"\n",
              "       width=\"24px\">\n",
              "    <path d=\"M0 0h24v24H0V0z\" fill=\"none\"/>\n",
              "    <path d=\"M18.56 5.44l.94 2.06.94-2.06 2.06-.94-2.06-.94-.94-2.06-.94 2.06-2.06.94zm-11 1L8.5 8.5l.94-2.06 2.06-.94-2.06-.94L8.5 2.5l-.94 2.06-2.06.94zm10 10l.94 2.06.94-2.06 2.06-.94-2.06-.94-.94-2.06-.94 2.06-2.06.94z\"/><path d=\"M17.41 7.96l-1.37-1.37c-.4-.4-.92-.59-1.43-.59-.52 0-1.04.2-1.43.59L10.3 9.45l-7.72 7.72c-.78.78-.78 2.05 0 2.83L4 21.41c.39.39.9.59 1.41.59.51 0 1.02-.2 1.41-.59l7.78-7.78 2.81-2.81c.8-.78.8-2.07 0-2.86zM5.41 20L4 18.59l7.72-7.72 1.47 1.35L5.41 20z\"/>\n",
              "  </svg>\n",
              "      </button>\n",
              "      \n",
              "  <style>\n",
              "    .colab-df-container {\n",
              "      display:flex;\n",
              "      flex-wrap:wrap;\n",
              "      gap: 12px;\n",
              "    }\n",
              "\n",
              "    .colab-df-convert {\n",
              "      background-color: #E8F0FE;\n",
              "      border: none;\n",
              "      border-radius: 50%;\n",
              "      cursor: pointer;\n",
              "      display: none;\n",
              "      fill: #1967D2;\n",
              "      height: 32px;\n",
              "      padding: 0 0 0 0;\n",
              "      width: 32px;\n",
              "    }\n",
              "\n",
              "    .colab-df-convert:hover {\n",
              "      background-color: #E2EBFA;\n",
              "      box-shadow: 0px 1px 2px rgba(60, 64, 67, 0.3), 0px 1px 3px 1px rgba(60, 64, 67, 0.15);\n",
              "      fill: #174EA6;\n",
              "    }\n",
              "\n",
              "    [theme=dark] .colab-df-convert {\n",
              "      background-color: #3B4455;\n",
              "      fill: #D2E3FC;\n",
              "    }\n",
              "\n",
              "    [theme=dark] .colab-df-convert:hover {\n",
              "      background-color: #434B5C;\n",
              "      box-shadow: 0px 1px 3px 1px rgba(0, 0, 0, 0.15);\n",
              "      filter: drop-shadow(0px 1px 2px rgba(0, 0, 0, 0.3));\n",
              "      fill: #FFFFFF;\n",
              "    }\n",
              "  </style>\n",
              "\n",
              "      <script>\n",
              "        const buttonEl =\n",
              "          document.querySelector('#df-e376cd2a-7d2e-46e0-afe0-8175f4da4efa button.colab-df-convert');\n",
              "        buttonEl.style.display =\n",
              "          google.colab.kernel.accessAllowed ? 'block' : 'none';\n",
              "\n",
              "        async function convertToInteractive(key) {\n",
              "          const element = document.querySelector('#df-e376cd2a-7d2e-46e0-afe0-8175f4da4efa');\n",
              "          const dataTable =\n",
              "            await google.colab.kernel.invokeFunction('convertToInteractive',\n",
              "                                                     [key], {});\n",
              "          if (!dataTable) return;\n",
              "\n",
              "          const docLinkHtml = 'Like what you see? Visit the ' +\n",
              "            '<a target=\"_blank\" href=https://colab.research.google.com/notebooks/data_table.ipynb>data table notebook</a>'\n",
              "            + ' to learn more about interactive tables.';\n",
              "          element.innerHTML = '';\n",
              "          dataTable['output_type'] = 'display_data';\n",
              "          await google.colab.output.renderOutput(dataTable, element);\n",
              "          const docLink = document.createElement('div');\n",
              "          docLink.innerHTML = docLinkHtml;\n",
              "          element.appendChild(docLink);\n",
              "        }\n",
              "      </script>\n",
              "    </div>\n",
              "  </div>\n",
              "  "
            ]
          },
          "metadata": {},
          "execution_count": 57
        }
      ],
      "source": [
        "df"
      ]
    },
    {
      "cell_type": "markdown",
      "metadata": {
        "id": "5bVp6o980YBE"
      },
      "source": [
        "#formatting values"
      ]
    },
    {
      "cell_type": "code",
      "execution_count": 58,
      "metadata": {
        "id": "6TrEBtg30LQY"
      },
      "outputs": [],
      "source": [
        "df.iloc[:,-1]=df.iloc[:,-1].replace(2,-1)"
      ]
    },
    {
      "cell_type": "code",
      "execution_count": 59,
      "metadata": {
        "colab": {
          "base_uri": "https://localhost:8080/",
          "height": 583
        },
        "id": "R58n0RsJ0WPh",
        "outputId": "8be8a00a-841f-46e5-ce2a-d6aecf780a57"
      },
      "outputs": [
        {
          "output_type": "execute_result",
          "data": {
            "text/plain": [
              "    Feature 1  Feature 2  Class/Cluster\n",
              "0       0.020   0.000000              1\n",
              "1       1.045   0.000000              1\n",
              "2       2.080   0.000000              1\n",
              "3       3.125   0.000000              1\n",
              "4       4.180   0.000000              1\n",
              "5       5.245   0.000000              1\n",
              "6       6.320   0.000000              1\n",
              "7       7.405   0.000000              1\n",
              "8       8.500   0.000000              1\n",
              "9       9.605   0.000000              1\n",
              "10      0.000   1.005000              1\n",
              "11      0.000   2.042871              1\n",
              "12      0.000   3.150677              1\n",
              "13      0.000   4.367583              1\n",
              "14      3.000   1.629463             -1\n",
              "15      3.000   2.268944             -1\n",
              "16      3.000   2.923104             -1"
            ],
            "text/html": [
              "\n",
              "  <div id=\"df-78b96c2b-6b90-4d6e-984d-c46b00f18b83\">\n",
              "    <div class=\"colab-df-container\">\n",
              "      <div>\n",
              "<style scoped>\n",
              "    .dataframe tbody tr th:only-of-type {\n",
              "        vertical-align: middle;\n",
              "    }\n",
              "\n",
              "    .dataframe tbody tr th {\n",
              "        vertical-align: top;\n",
              "    }\n",
              "\n",
              "    .dataframe thead th {\n",
              "        text-align: right;\n",
              "    }\n",
              "</style>\n",
              "<table border=\"1\" class=\"dataframe\">\n",
              "  <thead>\n",
              "    <tr style=\"text-align: right;\">\n",
              "      <th></th>\n",
              "      <th>Feature 1</th>\n",
              "      <th>Feature 2</th>\n",
              "      <th>Class/Cluster</th>\n",
              "    </tr>\n",
              "  </thead>\n",
              "  <tbody>\n",
              "    <tr>\n",
              "      <th>0</th>\n",
              "      <td>0.020</td>\n",
              "      <td>0.000000</td>\n",
              "      <td>1</td>\n",
              "    </tr>\n",
              "    <tr>\n",
              "      <th>1</th>\n",
              "      <td>1.045</td>\n",
              "      <td>0.000000</td>\n",
              "      <td>1</td>\n",
              "    </tr>\n",
              "    <tr>\n",
              "      <th>2</th>\n",
              "      <td>2.080</td>\n",
              "      <td>0.000000</td>\n",
              "      <td>1</td>\n",
              "    </tr>\n",
              "    <tr>\n",
              "      <th>3</th>\n",
              "      <td>3.125</td>\n",
              "      <td>0.000000</td>\n",
              "      <td>1</td>\n",
              "    </tr>\n",
              "    <tr>\n",
              "      <th>4</th>\n",
              "      <td>4.180</td>\n",
              "      <td>0.000000</td>\n",
              "      <td>1</td>\n",
              "    </tr>\n",
              "    <tr>\n",
              "      <th>5</th>\n",
              "      <td>5.245</td>\n",
              "      <td>0.000000</td>\n",
              "      <td>1</td>\n",
              "    </tr>\n",
              "    <tr>\n",
              "      <th>6</th>\n",
              "      <td>6.320</td>\n",
              "      <td>0.000000</td>\n",
              "      <td>1</td>\n",
              "    </tr>\n",
              "    <tr>\n",
              "      <th>7</th>\n",
              "      <td>7.405</td>\n",
              "      <td>0.000000</td>\n",
              "      <td>1</td>\n",
              "    </tr>\n",
              "    <tr>\n",
              "      <th>8</th>\n",
              "      <td>8.500</td>\n",
              "      <td>0.000000</td>\n",
              "      <td>1</td>\n",
              "    </tr>\n",
              "    <tr>\n",
              "      <th>9</th>\n",
              "      <td>9.605</td>\n",
              "      <td>0.000000</td>\n",
              "      <td>1</td>\n",
              "    </tr>\n",
              "    <tr>\n",
              "      <th>10</th>\n",
              "      <td>0.000</td>\n",
              "      <td>1.005000</td>\n",
              "      <td>1</td>\n",
              "    </tr>\n",
              "    <tr>\n",
              "      <th>11</th>\n",
              "      <td>0.000</td>\n",
              "      <td>2.042871</td>\n",
              "      <td>1</td>\n",
              "    </tr>\n",
              "    <tr>\n",
              "      <th>12</th>\n",
              "      <td>0.000</td>\n",
              "      <td>3.150677</td>\n",
              "      <td>1</td>\n",
              "    </tr>\n",
              "    <tr>\n",
              "      <th>13</th>\n",
              "      <td>0.000</td>\n",
              "      <td>4.367583</td>\n",
              "      <td>1</td>\n",
              "    </tr>\n",
              "    <tr>\n",
              "      <th>14</th>\n",
              "      <td>3.000</td>\n",
              "      <td>1.629463</td>\n",
              "      <td>-1</td>\n",
              "    </tr>\n",
              "    <tr>\n",
              "      <th>15</th>\n",
              "      <td>3.000</td>\n",
              "      <td>2.268944</td>\n",
              "      <td>-1</td>\n",
              "    </tr>\n",
              "    <tr>\n",
              "      <th>16</th>\n",
              "      <td>3.000</td>\n",
              "      <td>2.923104</td>\n",
              "      <td>-1</td>\n",
              "    </tr>\n",
              "  </tbody>\n",
              "</table>\n",
              "</div>\n",
              "      <button class=\"colab-df-convert\" onclick=\"convertToInteractive('df-78b96c2b-6b90-4d6e-984d-c46b00f18b83')\"\n",
              "              title=\"Convert this dataframe to an interactive table.\"\n",
              "              style=\"display:none;\">\n",
              "        \n",
              "  <svg xmlns=\"http://www.w3.org/2000/svg\" height=\"24px\"viewBox=\"0 0 24 24\"\n",
              "       width=\"24px\">\n",
              "    <path d=\"M0 0h24v24H0V0z\" fill=\"none\"/>\n",
              "    <path d=\"M18.56 5.44l.94 2.06.94-2.06 2.06-.94-2.06-.94-.94-2.06-.94 2.06-2.06.94zm-11 1L8.5 8.5l.94-2.06 2.06-.94-2.06-.94L8.5 2.5l-.94 2.06-2.06.94zm10 10l.94 2.06.94-2.06 2.06-.94-2.06-.94-.94-2.06-.94 2.06-2.06.94z\"/><path d=\"M17.41 7.96l-1.37-1.37c-.4-.4-.92-.59-1.43-.59-.52 0-1.04.2-1.43.59L10.3 9.45l-7.72 7.72c-.78.78-.78 2.05 0 2.83L4 21.41c.39.39.9.59 1.41.59.51 0 1.02-.2 1.41-.59l7.78-7.78 2.81-2.81c.8-.78.8-2.07 0-2.86zM5.41 20L4 18.59l7.72-7.72 1.47 1.35L5.41 20z\"/>\n",
              "  </svg>\n",
              "      </button>\n",
              "      \n",
              "  <style>\n",
              "    .colab-df-container {\n",
              "      display:flex;\n",
              "      flex-wrap:wrap;\n",
              "      gap: 12px;\n",
              "    }\n",
              "\n",
              "    .colab-df-convert {\n",
              "      background-color: #E8F0FE;\n",
              "      border: none;\n",
              "      border-radius: 50%;\n",
              "      cursor: pointer;\n",
              "      display: none;\n",
              "      fill: #1967D2;\n",
              "      height: 32px;\n",
              "      padding: 0 0 0 0;\n",
              "      width: 32px;\n",
              "    }\n",
              "\n",
              "    .colab-df-convert:hover {\n",
              "      background-color: #E2EBFA;\n",
              "      box-shadow: 0px 1px 2px rgba(60, 64, 67, 0.3), 0px 1px 3px 1px rgba(60, 64, 67, 0.15);\n",
              "      fill: #174EA6;\n",
              "    }\n",
              "\n",
              "    [theme=dark] .colab-df-convert {\n",
              "      background-color: #3B4455;\n",
              "      fill: #D2E3FC;\n",
              "    }\n",
              "\n",
              "    [theme=dark] .colab-df-convert:hover {\n",
              "      background-color: #434B5C;\n",
              "      box-shadow: 0px 1px 3px 1px rgba(0, 0, 0, 0.15);\n",
              "      filter: drop-shadow(0px 1px 2px rgba(0, 0, 0, 0.3));\n",
              "      fill: #FFFFFF;\n",
              "    }\n",
              "  </style>\n",
              "\n",
              "      <script>\n",
              "        const buttonEl =\n",
              "          document.querySelector('#df-78b96c2b-6b90-4d6e-984d-c46b00f18b83 button.colab-df-convert');\n",
              "        buttonEl.style.display =\n",
              "          google.colab.kernel.accessAllowed ? 'block' : 'none';\n",
              "\n",
              "        async function convertToInteractive(key) {\n",
              "          const element = document.querySelector('#df-78b96c2b-6b90-4d6e-984d-c46b00f18b83');\n",
              "          const dataTable =\n",
              "            await google.colab.kernel.invokeFunction('convertToInteractive',\n",
              "                                                     [key], {});\n",
              "          if (!dataTable) return;\n",
              "\n",
              "          const docLinkHtml = 'Like what you see? Visit the ' +\n",
              "            '<a target=\"_blank\" href=https://colab.research.google.com/notebooks/data_table.ipynb>data table notebook</a>'\n",
              "            + ' to learn more about interactive tables.';\n",
              "          element.innerHTML = '';\n",
              "          dataTable['output_type'] = 'display_data';\n",
              "          await google.colab.output.renderOutput(dataTable, element);\n",
              "          const docLink = document.createElement('div');\n",
              "          docLink.innerHTML = docLinkHtml;\n",
              "          element.appendChild(docLink);\n",
              "        }\n",
              "      </script>\n",
              "    </div>\n",
              "  </div>\n",
              "  "
            ]
          },
          "metadata": {},
          "execution_count": 59
        }
      ],
      "source": [
        "df\n"
      ]
    },
    {
      "cell_type": "markdown",
      "metadata": {
        "id": "Yo1RUMc-CxeM"
      },
      "source": [
        "#Step 1:Show a scatterplot of the dataset including the test datapoint"
      ]
    },
    {
      "cell_type": "code",
      "execution_count": 60,
      "metadata": {
        "colab": {
          "base_uri": "https://localhost:8080/",
          "height": 458
        },
        "id": "7Yns1XEB00p8",
        "outputId": "34fd5877-f328-4994-b436-d2e87c07e18a"
      },
      "outputs": [
        {
          "output_type": "stream",
          "name": "stderr",
          "text": [
            "/usr/local/lib/python3.9/dist-packages/seaborn/_decorators.py:36: FutureWarning:\n",
            "\n",
            "Pass the following variables as keyword args: x, y. From version 0.12, the only valid positional argument will be `data`, and passing other arguments without an explicit keyword will result in an error or misinterpretation.\n",
            "\n"
          ]
        },
        {
          "output_type": "display_data",
          "data": {
            "text/plain": [
              "<Figure size 433.25x360 with 1 Axes>"
            ],
            "image/png": "[encoded data removed]"
          },
          "metadata": {
            "needs_background": "light"
          }
        }
      ],
      "source": [
        "import seaborn as sns\n",
        "import matplotlib.pyplot as plt\n",
        "sns.lmplot(\"Feature 1\", \"Feature 2\", hue=\"Class/Cluster\", data=df, fit_reg=False, markers=[\"o\", \"x\"])\n",
        "plt.show()"
      ]
    },
    {
      "cell_type": "code",
      "execution_count": 61,
      "metadata": {
        "id": "odN4FepX2Mzs"
      },
      "outputs": [],
      "source": [
        "test_data=df\n",
        "test_data.loc[len(test_data.index)]=[4,4,0]"
      ]
    },
    {
      "cell_type": "markdown",
      "metadata": {
        "id": "clow2G0FDKEb"
      },
      "source": [
        "## adding test data and replotting"
      ]
    },
    {
      "cell_type": "code",
      "execution_count": 62,
      "metadata": {
        "colab": {
          "base_uri": "https://localhost:8080/",
          "height": 458
        },
        "id": "6XSdxssiAqPI",
        "outputId": "c9571796-9ec8-4550-a7b7-3517b6d386b7"
      },
      "outputs": [
        {
          "output_type": "stream",
          "name": "stderr",
          "text": [
            "/usr/local/lib/python3.9/dist-packages/seaborn/_decorators.py:36: FutureWarning:\n",
            "\n",
            "Pass the following variables as keyword args: x, y. From version 0.12, the only valid positional argument will be `data`, and passing other arguments without an explicit keyword will result in an error or misinterpretation.\n",
            "\n"
          ]
        },
        {
          "output_type": "display_data",
          "data": {
            "text/plain": [
              "<Figure size 433.25x360 with 1 Axes>"
            ],
            "image/png": "[encoded data removed]"
          },
          "metadata": {
            "needs_background": "light"
          }
        }
      ],
      "source": [
        "sns.lmplot(\"Feature 1\", \"Feature 2\", hue=\"Class/Cluster\", data=test_data, fit_reg=False, markers=['o','p','x'])\n",
        "plt.show()"
      ]
    },
    {
      "cell_type": "markdown",
      "metadata": {
        "id": "T_j4vHlX0i7n"
      },
      "source": [
        "#SMV def "
      ]
    },
    {
      "cell_type": "code",
      "execution_count": 63,
      "metadata": {
        "id": "DwLcbPtKv3_I"
      },
      "outputs": [],
      "source": [
        "import numpy as np\n",
        "\n",
        "\n",
        "class SVM:\n",
        "    def __init__(self, C=1.0):\n",
        "        # C is the error term\n",
        "        self.C = C\n",
        "        self.weights = 0\n",
        "        self.bias = 0\n",
        "\n",
        "    # Hinge Loss Function / Calculation\n",
        "    def hinge_loss(self, weights, bias, x, y):\n",
        "        # Regularizer term\n",
        "        reg = 0.5 * (weights * weights)\n",
        "\n",
        "        for i in range(x.shape[0]):\n",
        "            # Optimization term\n",
        "            opt_term = y[i] * ((np.dot(weights, x[i])) + bias)\n",
        "\n",
        "            # calculating loss\n",
        "            loss = reg + self.C * max(0, 1 - opt_term)\n",
        "        return loss[0][0]\n",
        "\n",
        "    def fit(self, X, Y, batch_size=100, learning_rate=0.001, epochs=1000):\n",
        "        # The number of features in X\n",
        "        num_features = X.shape[1]\n",
        "\n",
        "        # The number of Samples in X\n",
        "        num_samples = X.shape[0]\n",
        "\n",
        "        c = self.C\n",
        "\n",
        "        # Creating ids from 0 to num_samples - 1\n",
        "        ids = np.arange(num_samples)\n",
        "\n",
        "        # Shuffling the samples randomly\n",
        "        np.random.shuffle(ids)\n",
        "\n",
        "        # creating an array of zeros\n",
        "        weights = np.zeros((1, num_features))\n",
        "        bias = 0\n",
        "        losses = []\n",
        "\n",
        "        # Gradient Descent logic\n",
        "        for i in range(epochs):\n",
        "            # Calculating the Hinge Loss\n",
        "            l = self.hinge_loss(weights, bias, X, Y)\n",
        "\n",
        "            # Appending all losses \n",
        "            losses.append(l)\n",
        "            \n",
        "            # Starting from 0 to the number of samples with batch_size as interval\n",
        "            for batch_start in range(0, num_samples, batch_size):\n",
        "                grad_weights = 0\n",
        "                grad_bias = 0\n",
        "\n",
        "                for j in range(batch_start, batch_start + batch_size):\n",
        "                    if j < num_samples:\n",
        "                        x = ids[j]\n",
        "                        ti = Y[x] * (np.dot(weights, X[x].T) + bias)\n",
        "\n",
        "                        if ti > 1:\n",
        "                            grad_weights += 0\n",
        "                            grad_bias += 0\n",
        "                        else:\n",
        "                            # Calculating the gradients\n",
        "\n",
        "                            # w.r.t weights \n",
        "                            grad_weights += c * Y[x] * X[x]\n",
        "                            # w.r.t bias\n",
        "                            grad_bias += c * Y[x]\n",
        "\n",
        "                # Updating weights and bias\n",
        "                weights = weights - learning_rate * weights + learning_rate * grad_weights\n",
        "                bias = bias + learning_rate * grad_bias\n",
        "        \n",
        "        self.weights = weights\n",
        "        self.bias = bias\n",
        "\n",
        "        return self.weights, self.bias, losses\n",
        "\n",
        "    def predict(self, X):\n",
        "        \n",
        "        prediction = np.dot(X, self.weights[0]) + self.bias # weights.x + bias\n",
        "        return np.sign(prediction)\n",
        "        "
      ]
    },
    {
      "cell_type": "code",
      "execution_count": 64,
      "metadata": {
        "colab": {
          "base_uri": "https://localhost:8080/"
        },
        "id": "QFujq96k4RM4",
        "outputId": "d17f99ca-1a04-48cb-a846-619bc9b5c277"
      },
      "outputs": [
        {
          "output_type": "stream",
          "name": "stdout",
          "text": [
            "(18,)\n"
          ]
        },
        {
          "output_type": "execute_result",
          "data": {
            "text/plain": [
              "0     1\n",
              "1     1\n",
              "2     1\n",
              "3     1\n",
              "4     1\n",
              "5     1\n",
              "6     1\n",
              "7     1\n",
              "8     1\n",
              "9     1\n",
              "10    1\n",
              "11    1\n",
              "12    1\n",
              "13    1\n",
              "14   -1\n",
              "15   -1\n",
              "16   -1\n",
              "17    0\n",
              "Name: Class/Cluster, dtype: int64"
            ]
          },
          "metadata": {},
          "execution_count": 64
        }
      ],
      "source": [
        "X = df.iloc[:,:-1] # take feature 1 and feature2 for train\n",
        "y = df.iloc[:,-1]\n",
        "print(y.shape)\n",
        "y"
      ]
    },
    {
      "cell_type": "code",
      "execution_count": 65,
      "metadata": {
        "id": "9OwKiCSK4RKG"
      },
      "outputs": [],
      "source": [
        "svc=SVM()"
      ]
    },
    {
      "cell_type": "code",
      "execution_count": 66,
      "metadata": {
        "colab": {
          "base_uri": "https://localhost:8080/",
          "height": 614
        },
        "id": "KsjRC3KB42Ez",
        "outputId": "e9f146e0-a9e8-4051-c6b0-f41d974fd722"
      },
      "outputs": [
        {
          "output_type": "execute_result",
          "data": {
            "text/plain": [
              "    Feature 1  Feature 2\n",
              "0       0.020   0.000000\n",
              "1       1.045   0.000000\n",
              "2       2.080   0.000000\n",
              "3       3.125   0.000000\n",
              "4       4.180   0.000000\n",
              "5       5.245   0.000000\n",
              "6       6.320   0.000000\n",
              "7       7.405   0.000000\n",
              "8       8.500   0.000000\n",
              "9       9.605   0.000000\n",
              "10      0.000   1.005000\n",
              "11      0.000   2.042871\n",
              "12      0.000   3.150677\n",
              "13      0.000   4.367583\n",
              "14      3.000   1.629463\n",
              "15      3.000   2.268944\n",
              "16      3.000   2.923104\n",
              "17      4.000   4.000000"
            ],
            "text/html": [
              "\n",
              "  <div id=\"df-02fa85cc-d50b-44f1-9aa1-621f67cea5d4\">\n",
              "    <div class=\"colab-df-container\">\n",
              "      <div>\n",
              "<style scoped>\n",
              "    .dataframe tbody tr th:only-of-type {\n",
              "        vertical-align: middle;\n",
              "    }\n",
              "\n",
              "    .dataframe tbody tr th {\n",
              "        vertical-align: top;\n",
              "    }\n",
              "\n",
              "    .dataframe thead th {\n",
              "        text-align: right;\n",
              "    }\n",
              "</style>\n",
              "<table border=\"1\" class=\"dataframe\">\n",
              "  <thead>\n",
              "    <tr style=\"text-align: right;\">\n",
              "      <th></th>\n",
              "      <th>Feature 1</th>\n",
              "      <th>Feature 2</th>\n",
              "    </tr>\n",
              "  </thead>\n",
              "  <tbody>\n",
              "    <tr>\n",
              "      <th>0</th>\n",
              "      <td>0.020</td>\n",
              "      <td>0.000000</td>\n",
              "    </tr>\n",
              "    <tr>\n",
              "      <th>1</th>\n",
              "      <td>1.045</td>\n",
              "      <td>0.000000</td>\n",
              "    </tr>\n",
              "    <tr>\n",
              "      <th>2</th>\n",
              "      <td>2.080</td>\n",
              "      <td>0.000000</td>\n",
              "    </tr>\n",
              "    <tr>\n",
              "      <th>3</th>\n",
              "      <td>3.125</td>\n",
              "      <td>0.000000</td>\n",
              "    </tr>\n",
              "    <tr>\n",
              "      <th>4</th>\n",
              "      <td>4.180</td>\n",
              "      <td>0.000000</td>\n",
              "    </tr>\n",
              "    <tr>\n",
              "      <th>5</th>\n",
              "      <td>5.245</td>\n",
              "      <td>0.000000</td>\n",
              "    </tr>\n",
              "    <tr>\n",
              "      <th>6</th>\n",
              "      <td>6.320</td>\n",
              "      <td>0.000000</td>\n",
              "    </tr>\n",
              "    <tr>\n",
              "      <th>7</th>\n",
              "      <td>7.405</td>\n",
              "      <td>0.000000</td>\n",
              "    </tr>\n",
              "    <tr>\n",
              "      <th>8</th>\n",
              "      <td>8.500</td>\n",
              "      <td>0.000000</td>\n",
              "    </tr>\n",
              "    <tr>\n",
              "      <th>9</th>\n",
              "      <td>9.605</td>\n",
              "      <td>0.000000</td>\n",
              "    </tr>\n",
              "    <tr>\n",
              "      <th>10</th>\n",
              "      <td>0.000</td>\n",
              "      <td>1.005000</td>\n",
              "    </tr>\n",
              "    <tr>\n",
              "      <th>11</th>\n",
              "      <td>0.000</td>\n",
              "      <td>2.042871</td>\n",
              "    </tr>\n",
              "    <tr>\n",
              "      <th>12</th>\n",
              "      <td>0.000</td>\n",
              "      <td>3.150677</td>\n",
              "    </tr>\n",
              "    <tr>\n",
              "      <th>13</th>\n",
              "      <td>0.000</td>\n",
              "      <td>4.367583</td>\n",
              "    </tr>\n",
              "    <tr>\n",
              "      <th>14</th>\n",
              "      <td>3.000</td>\n",
              "      <td>1.629463</td>\n",
              "    </tr>\n",
              "    <tr>\n",
              "      <th>15</th>\n",
              "      <td>3.000</td>\n",
              "      <td>2.268944</td>\n",
              "    </tr>\n",
              "    <tr>\n",
              "      <th>16</th>\n",
              "      <td>3.000</td>\n",
              "      <td>2.923104</td>\n",
              "    </tr>\n",
              "    <tr>\n",
              "      <th>17</th>\n",
              "      <td>4.000</td>\n",
              "      <td>4.000000</td>\n",
              "    </tr>\n",
              "  </tbody>\n",
              "</table>\n",
              "</div>\n",
              "      <button class=\"colab-df-convert\" onclick=\"convertToInteractive('df-02fa85cc-d50b-44f1-9aa1-621f67cea5d4')\"\n",
              "              title=\"Convert this dataframe to an interactive table.\"\n",
              "              style=\"display:none;\">\n",
              "        \n",
              "  <svg xmlns=\"http://www.w3.org/2000/svg\" height=\"24px\"viewBox=\"0 0 24 24\"\n",
              "       width=\"24px\">\n",
              "    <path d=\"M0 0h24v24H0V0z\" fill=\"none\"/>\n",
              "    <path d=\"M18.56 5.44l.94 2.06.94-2.06 2.06-.94-2.06-.94-.94-2.06-.94 2.06-2.06.94zm-11 1L8.5 8.5l.94-2.06 2.06-.94-2.06-.94L8.5 2.5l-.94 2.06-2.06.94zm10 10l.94 2.06.94-2.06 2.06-.94-2.06-.94-.94-2.06-.94 2.06-2.06.94z\"/><path d=\"M17.41 7.96l-1.37-1.37c-.4-.4-.92-.59-1.43-.59-.52 0-1.04.2-1.43.59L10.3 9.45l-7.72 7.72c-.78.78-.78 2.05 0 2.83L4 21.41c.39.39.9.59 1.41.59.51 0 1.02-.2 1.41-.59l7.78-7.78 2.81-2.81c.8-.78.8-2.07 0-2.86zM5.41 20L4 18.59l7.72-7.72 1.47 1.35L5.41 20z\"/>\n",
              "  </svg>\n",
              "      </button>\n",
              "      \n",
              "  <style>\n",
              "    .colab-df-container {\n",
              "      display:flex;\n",
              "      flex-wrap:wrap;\n",
              "      gap: 12px;\n",
              "    }\n",
              "\n",
              "    .colab-df-convert {\n",
              "      background-color: #E8F0FE;\n",
              "      border: none;\n",
              "      border-radius: 50%;\n",
              "      cursor: pointer;\n",
              "      display: none;\n",
              "      fill: #1967D2;\n",
              "      height: 32px;\n",
              "      padding: 0 0 0 0;\n",
              "      width: 32px;\n",
              "    }\n",
              "\n",
              "    .colab-df-convert:hover {\n",
              "      background-color: #E2EBFA;\n",
              "      box-shadow: 0px 1px 2px rgba(60, 64, 67, 0.3), 0px 1px 3px 1px rgba(60, 64, 67, 0.15);\n",
              "      fill: #174EA6;\n",
              "    }\n",
              "\n",
              "    [theme=dark] .colab-df-convert {\n",
              "      background-color: #3B4455;\n",
              "      fill: #D2E3FC;\n",
              "    }\n",
              "\n",
              "    [theme=dark] .colab-df-convert:hover {\n",
              "      background-color: #434B5C;\n",
              "      box-shadow: 0px 1px 3px 1px rgba(0, 0, 0, 0.15);\n",
              "      filter: drop-shadow(0px 1px 2px rgba(0, 0, 0, 0.3));\n",
              "      fill: #FFFFFF;\n",
              "    }\n",
              "  </style>\n",
              "\n",
              "      <script>\n",
              "        const buttonEl =\n",
              "          document.querySelector('#df-02fa85cc-d50b-44f1-9aa1-621f67cea5d4 button.colab-df-convert');\n",
              "        buttonEl.style.display =\n",
              "          google.colab.kernel.accessAllowed ? 'block' : 'none';\n",
              "\n",
              "        async function convertToInteractive(key) {\n",
              "          const element = document.querySelector('#df-02fa85cc-d50b-44f1-9aa1-621f67cea5d4');\n",
              "          const dataTable =\n",
              "            await google.colab.kernel.invokeFunction('convertToInteractive',\n",
              "                                                     [key], {});\n",
              "          if (!dataTable) return;\n",
              "\n",
              "          const docLinkHtml = 'Like what you see? Visit the ' +\n",
              "            '<a target=\"_blank\" href=https://colab.research.google.com/notebooks/data_table.ipynb>data table notebook</a>'\n",
              "            + ' to learn more about interactive tables.';\n",
              "          element.innerHTML = '';\n",
              "          dataTable['output_type'] = 'display_data';\n",
              "          await google.colab.output.renderOutput(dataTable, element);\n",
              "          const docLink = document.createElement('div');\n",
              "          docLink.innerHTML = docLinkHtml;\n",
              "          element.appendChild(docLink);\n",
              "        }\n",
              "      </script>\n",
              "    </div>\n",
              "  </div>\n",
              "  "
            ]
          },
          "metadata": {},
          "execution_count": 66
        }
      ],
      "source": [
        "X"
      ]
    },
    {
      "cell_type": "markdown",
      "metadata": {
        "id": "ouLJdJZy7-Lo"
      },
      "source": [
        "#Step 2 and 3: While training your SVM show a plot such that\n",
        "##its horizontal axis corresponds to iterations of optimization updates \n",
        "\n",
        "##and its vertical axis indicates the value of the objective function of SVM at that iteration\n",
        "##Explain if and why the behavior shown in this plot is correct or not\n",
        "###Train first time (without feature 3)"
      ]
    },
    {
      "cell_type": "code",
      "execution_count": 67,
      "metadata": {
        "id": "HfZENEMt4RGN"
      },
      "outputs": [],
      "source": [
        "w,b,l=svc.fit(X[:-1].to_numpy(),y[:-1].to_numpy()) # train everything except last row"
      ]
    },
    {
      "cell_type": "code",
      "execution_count": 68,
      "metadata": {
        "colab": {
          "base_uri": "https://localhost:8080/",
          "height": 296
        },
        "id": "IvH6L7OH4Q_G",
        "outputId": "ff8ff756-e684-40e0-de84-3a5577e69aa9"
      },
      "outputs": [
        {
          "output_type": "execute_result",
          "data": {
            "text/plain": [
              "Text(0, 0.5, 'Loss')"
            ]
          },
          "metadata": {},
          "execution_count": 68
        },
        {
          "output_type": "display_data",
          "data": {
            "text/plain": [
              "<Figure size 432x288 with 1 Axes>"
            ],
            "image/png": "[encoded data removed]"
          },
          "metadata": {
            "needs_background": "light"
          }
        }
      ],
      "source": [
        "plt.plot(range(0,len(l)),l)\n",
        "plt.xlabel(\"Epochs\")\n",
        "plt.rcParams[\"figure.figsize\"] = (10,6)\n",
        "plt.ylabel(\"Loss\")"
      ]
    },
    {
      "cell_type": "markdown",
      "metadata": {
        "id": "qHqWOeEIHKl8"
      },
      "source": [
        "### The loss never settled "
      ]
    },
    {
      "cell_type": "markdown",
      "metadata": {
        "id": "4CdwibNxEYPS"
      },
      "source": [
        "#Step 4:After training is finished,\n",
        "##report the calculated values of w and b (as defined in the course slides)\n",
        "\n",
        "##If you implemented a hard-margin SVM, then in your scatterplot denote with filled circles ALL the support vectors, and with empty circles the rest of the points\n",
        "\n",
        "##in your scatterplot draw the separating hyperplane\n",
        "\n",
        "##Show exactly how your trained SVM decides the class of the test datapoint and what class it assigns it in"
      ]
    },
    {
      "cell_type": "code",
      "execution_count": 69,
      "metadata": {
        "colab": {
          "base_uri": "https://localhost:8080/"
        },
        "id": "1YTRpFQY8OPM",
        "outputId": "d6d1ea88-8251-4fbe-87d6-1b16e464a908"
      },
      "outputs": [
        {
          "output_type": "stream",
          "name": "stdout",
          "text": [
            "Weight:[[ 0.02246194 -0.01365085]] Bias: 1.0460000000000313\n"
          ]
        }
      ],
      "source": [
        "print(f\"Weight:{w} Bias: {b}\")"
      ]
    },
    {
      "cell_type": "markdown",
      "metadata": {
        "id": "3ZmFEwR07rDN"
      },
      "source": [
        "### test SVM (iteration 1) with (4,4)"
      ]
    },
    {
      "cell_type": "code",
      "execution_count": 70,
      "metadata": {
        "colab": {
          "base_uri": "https://localhost:8080/"
        },
        "id": "jM3gCAOz84v1",
        "outputId": "ae3db7e9-8823-4c2b-8dd0-1312efa8dbcd"
      },
      "outputs": [
        {
          "output_type": "execute_result",
          "data": {
            "text/plain": [
              "1.0"
            ]
          },
          "metadata": {},
          "execution_count": 70
        }
      ],
      "source": [
        "test = (4,4)\n",
        "svc.predict(test)"
      ]
    },
    {
      "cell_type": "code",
      "execution_count": 71,
      "metadata": {
        "colab": {
          "base_uri": "https://localhost:8080/"
        },
        "id": "uZgVY5AB9O-9",
        "outputId": "a7ad833a-5cc3-4650-c5a6-d117a8383310"
      },
      "outputs": [
        {
          "output_type": "execute_result",
          "data": {
            "text/plain": [
              "array([1., 1., 1., 1., 1., 1., 1., 1., 1., 1., 1., 1., 1., 1., 1., 1., 1.,\n",
              "       1.])"
            ]
          },
          "metadata": {},
          "execution_count": 71
        }
      ],
      "source": [
        "svc.predict(X.to_numpy())"
      ]
    },
    {
      "cell_type": "markdown",
      "metadata": {
        "id": "hCB1ov9S9caz"
      },
      "source": [
        "###**looks like train data results are wrong ( training is NOT happening properly)**"
      ]
    },
    {
      "cell_type": "markdown",
      "metadata": {
        "id": "8wcqsdnj9h3j"
      },
      "source": [
        "#hyperplane"
      ]
    },
    {
      "cell_type": "code",
      "execution_count": 72,
      "metadata": {
        "colab": {
          "base_uri": "https://localhost:8080/",
          "height": 374
        },
        "id": "FjYk3upb_CI3",
        "outputId": "7c1ce8e6-eccd-40c5-805f-93b906be14e1"
      },
      "outputs": [
        {
          "output_type": "display_data",
          "data": {
            "text/plain": [
              "<Figure size 720x432 with 1 Axes>"
            ],
            "image/png": "[encoded data removed]"
          },
          "metadata": {
            "needs_background": "light"
          }
        }
      ],
      "source": [
        "sns.scatterplot(x=X[:-1].values[:,0], \n",
        "                y=X[:-1].values[:, 1], \n",
        "                hue=y[:-1]);"
      ]
    },
    {
      "cell_type": "code",
      "execution_count": 73,
      "metadata": {
        "colab": {
          "base_uri": "https://localhost:8080/",
          "height": 374
        },
        "id": "n9YQEJIt9kau",
        "outputId": "63c408b1-e45f-456b-f57f-5eff23c6cd5f"
      },
      "outputs": [
        {
          "output_type": "display_data",
          "data": {
            "text/plain": [
              "<Figure size 720x432 with 1 Axes>"
            ],
            "image/png": "[encoded data removed]"
          },
          "metadata": {
            "needs_background": "light"
          }
        }
      ],
      "source": [
        "import seaborn as sns\n",
        "\n",
        "def visualize_svm():\n",
        "    \"\"\"\n",
        "    Plots the SVM decision boundary and support vectors.\n",
        "\n",
        "    \"\"\"\n",
        "    # Plot data points\n",
        "    sns.scatterplot(x=X.values[:,0], y=X.values[:, 1], hue=y)\n",
        "\n",
        "    # Define hyperplane function\n",
        "    def hyperplane(x, w, b, v):\n",
        "        return -(w[0][0]*x-b+v) / w[0][1]\n",
        "\n",
        "    # Set the range of data points to plot\n",
        "    datarange = (min(X.iloc[:,0])*0.99, max(X.iloc[:,0])*1.01)\n",
        "    hyp_x_min = datarange[0]\n",
        "    hyp_x_max = datarange[1]\n",
        "\n",
        "    # Plot positive support vector hyperplane\n",
        "    psv1 = hyperplane(hyp_x_min, w, b, 0.1)\n",
        "    psv2 = hyperplane(hyp_x_max, w, b, 0.1)\n",
        "    plt.plot([hyp_x_min, hyp_x_max], [psv1, psv2], 'k')\n",
        "\n",
        "    # Plot negative support vector hyperplane\n",
        "    nsv1 = hyperplane(hyp_x_min, w, b, -0.1)\n",
        "    nsv2 = hyperplane(hyp_x_max, w, b, -0.1)\n",
        "    plt.plot([hyp_x_min, hyp_x_max], [nsv1, nsv2], 'k')\n",
        "\n",
        "    # Plot decision boundary\n",
        "    db1 = hyperplane(hyp_x_min, w, b, 0)\n",
        "    db2 = hyperplane(hyp_x_max, w, b, 0)\n",
        "    plt.plot([hyp_x_min, hyp_x_max], [db1, db2], 'y--')\n",
        "\n",
        "    # Show the plot\n",
        "    plt.show()\n",
        "\n",
        "visualize_svm()\n"
      ]
    },
    {
      "cell_type": "markdown",
      "metadata": {
        "id": "VA3N10Y__ZTs"
      },
      "source": [
        "##  **the hyper plane seems categprize all values as 1**"
      ]
    },
    {
      "cell_type": "markdown",
      "metadata": {
        "id": "utVEwK-NFgpA"
      },
      "source": [
        "# Step 5: Define the mapping [a, b] -> [a, b, 2*a*b/(a+b)] and transform all datapoints accordingly. Then repeat steps 1-4 for the transformed dataset. What do you observe? Explain if and why your SVM benefitted from this transformation. "
      ]
    },
    {
      "cell_type": "markdown",
      "metadata": {
        "id": "0t8W__HgFqxD"
      },
      "source": [
        "## defining mapping"
      ]
    },
    {
      "cell_type": "code",
      "execution_count": 74,
      "metadata": {
        "colab": {
          "base_uri": "https://localhost:8080/",
          "height": 631
        },
        "id": "Wvpop4I20ctl",
        "outputId": "e2a8f778-1d35-4151-bdcb-bee8e7ec5d73"
      },
      "outputs": [
        {
          "output_type": "stream",
          "name": "stdout",
          "text": [
            "(18, 3)\n"
          ]
        },
        {
          "output_type": "execute_result",
          "data": {
            "text/plain": [
              "    Feature 1  Feature 2  Feature 3\n",
              "0       0.020   0.000000   0.000000\n",
              "1       1.045   0.000000   0.000000\n",
              "2       2.080   0.000000   0.000000\n",
              "3       3.125   0.000000   0.000000\n",
              "4       4.180   0.000000   0.000000\n",
              "5       5.245   0.000000   0.000000\n",
              "6       6.320   0.000000   0.000000\n",
              "7       7.405   0.000000   0.000000\n",
              "8       8.500   0.000000   0.000000\n",
              "9       9.605   0.000000   0.000000\n",
              "10      0.000   1.005000   0.000000\n",
              "11      0.000   2.042871   0.000000\n",
              "12      0.000   3.150677   0.000000\n",
              "13      0.000   4.367583   0.000000\n",
              "14      3.000   1.629463   2.111860\n",
              "15      3.000   2.268944   2.583756\n",
              "16      3.000   2.923104   2.961053\n",
              "17      4.000   4.000000   4.000000"
            ],
            "text/html": [
              "\n",
              "  <div id=\"df-20318cd0-2f8c-4f4d-aa6f-afaedde44f1a\">\n",
              "    <div class=\"colab-df-container\">\n",
              "      <div>\n",
              "<style scoped>\n",
              "    .dataframe tbody tr th:only-of-type {\n",
              "        vertical-align: middle;\n",
              "    }\n",
              "\n",
              "    .dataframe tbody tr th {\n",
              "        vertical-align: top;\n",
              "    }\n",
              "\n",
              "    .dataframe thead th {\n",
              "        text-align: right;\n",
              "    }\n",
              "</style>\n",
              "<table border=\"1\" class=\"dataframe\">\n",
              "  <thead>\n",
              "    <tr style=\"text-align: right;\">\n",
              "      <th></th>\n",
              "      <th>Feature 1</th>\n",
              "      <th>Feature 2</th>\n",
              "      <th>Feature 3</th>\n",
              "    </tr>\n",
              "  </thead>\n",
              "  <tbody>\n",
              "    <tr>\n",
              "      <th>0</th>\n",
              "      <td>0.020</td>\n",
              "      <td>0.000000</td>\n",
              "      <td>0.000000</td>\n",
              "    </tr>\n",
              "    <tr>\n",
              "      <th>1</th>\n",
              "      <td>1.045</td>\n",
              "      <td>0.000000</td>\n",
              "      <td>0.000000</td>\n",
              "    </tr>\n",
              "    <tr>\n",
              "      <th>2</th>\n",
              "      <td>2.080</td>\n",
              "      <td>0.000000</td>\n",
              "      <td>0.000000</td>\n",
              "    </tr>\n",
              "    <tr>\n",
              "      <th>3</th>\n",
              "      <td>3.125</td>\n",
              "      <td>0.000000</td>\n",
              "      <td>0.000000</td>\n",
              "    </tr>\n",
              "    <tr>\n",
              "      <th>4</th>\n",
              "      <td>4.180</td>\n",
              "      <td>0.000000</td>\n",
              "      <td>0.000000</td>\n",
              "    </tr>\n",
              "    <tr>\n",
              "      <th>5</th>\n",
              "      <td>5.245</td>\n",
              "      <td>0.000000</td>\n",
              "      <td>0.000000</td>\n",
              "    </tr>\n",
              "    <tr>\n",
              "      <th>6</th>\n",
              "      <td>6.320</td>\n",
              "      <td>0.000000</td>\n",
              "      <td>0.000000</td>\n",
              "    </tr>\n",
              "    <tr>\n",
              "      <th>7</th>\n",
              "      <td>7.405</td>\n",
              "      <td>0.000000</td>\n",
              "      <td>0.000000</td>\n",
              "    </tr>\n",
              "    <tr>\n",
              "      <th>8</th>\n",
              "      <td>8.500</td>\n",
              "      <td>0.000000</td>\n",
              "      <td>0.000000</td>\n",
              "    </tr>\n",
              "    <tr>\n",
              "      <th>9</th>\n",
              "      <td>9.605</td>\n",
              "      <td>0.000000</td>\n",
              "      <td>0.000000</td>\n",
              "    </tr>\n",
              "    <tr>\n",
              "      <th>10</th>\n",
              "      <td>0.000</td>\n",
              "      <td>1.005000</td>\n",
              "      <td>0.000000</td>\n",
              "    </tr>\n",
              "    <tr>\n",
              "      <th>11</th>\n",
              "      <td>0.000</td>\n",
              "      <td>2.042871</td>\n",
              "      <td>0.000000</td>\n",
              "    </tr>\n",
              "    <tr>\n",
              "      <th>12</th>\n",
              "      <td>0.000</td>\n",
              "      <td>3.150677</td>\n",
              "      <td>0.000000</td>\n",
              "    </tr>\n",
              "    <tr>\n",
              "      <th>13</th>\n",
              "      <td>0.000</td>\n",
              "      <td>4.367583</td>\n",
              "      <td>0.000000</td>\n",
              "    </tr>\n",
              "    <tr>\n",
              "      <th>14</th>\n",
              "      <td>3.000</td>\n",
              "      <td>1.629463</td>\n",
              "      <td>2.111860</td>\n",
              "    </tr>\n",
              "    <tr>\n",
              "      <th>15</th>\n",
              "      <td>3.000</td>\n",
              "      <td>2.268944</td>\n",
              "      <td>2.583756</td>\n",
              "    </tr>\n",
              "    <tr>\n",
              "      <th>16</th>\n",
              "      <td>3.000</td>\n",
              "      <td>2.923104</td>\n",
              "      <td>2.961053</td>\n",
              "    </tr>\n",
              "    <tr>\n",
              "      <th>17</th>\n",
              "      <td>4.000</td>\n",
              "      <td>4.000000</td>\n",
              "      <td>4.000000</td>\n",
              "    </tr>\n",
              "  </tbody>\n",
              "</table>\n",
              "</div>\n",
              "      <button class=\"colab-df-convert\" onclick=\"convertToInteractive('df-20318cd0-2f8c-4f4d-aa6f-afaedde44f1a')\"\n",
              "              title=\"Convert this dataframe to an interactive table.\"\n",
              "              style=\"display:none;\">\n",
              "        \n",
              "  <svg xmlns=\"http://www.w3.org/2000/svg\" height=\"24px\"viewBox=\"0 0 24 24\"\n",
              "       width=\"24px\">\n",
              "    <path d=\"M0 0h24v24H0V0z\" fill=\"none\"/>\n",
              "    <path d=\"M18.56 5.44l.94 2.06.94-2.06 2.06-.94-2.06-.94-.94-2.06-.94 2.06-2.06.94zm-11 1L8.5 8.5l.94-2.06 2.06-.94-2.06-.94L8.5 2.5l-.94 2.06-2.06.94zm10 10l.94 2.06.94-2.06 2.06-.94-2.06-.94-.94-2.06-.94 2.06-2.06.94z\"/><path d=\"M17.41 7.96l-1.37-1.37c-.4-.4-.92-.59-1.43-.59-.52 0-1.04.2-1.43.59L10.3 9.45l-7.72 7.72c-.78.78-.78 2.05 0 2.83L4 21.41c.39.39.9.59 1.41.59.51 0 1.02-.2 1.41-.59l7.78-7.78 2.81-2.81c.8-.78.8-2.07 0-2.86zM5.41 20L4 18.59l7.72-7.72 1.47 1.35L5.41 20z\"/>\n",
              "  </svg>\n",
              "      </button>\n",
              "      \n",
              "  <style>\n",
              "    .colab-df-container {\n",
              "      display:flex;\n",
              "      flex-wrap:wrap;\n",
              "      gap: 12px;\n",
              "    }\n",
              "\n",
              "    .colab-df-convert {\n",
              "      background-color: #E8F0FE;\n",
              "      border: none;\n",
              "      border-radius: 50%;\n",
              "      cursor: pointer;\n",
              "      display: none;\n",
              "      fill: #1967D2;\n",
              "      height: 32px;\n",
              "      padding: 0 0 0 0;\n",
              "      width: 32px;\n",
              "    }\n",
              "\n",
              "    .colab-df-convert:hover {\n",
              "      background-color: #E2EBFA;\n",
              "      box-shadow: 0px 1px 2px rgba(60, 64, 67, 0.3), 0px 1px 3px 1px rgba(60, 64, 67, 0.15);\n",
              "      fill: #174EA6;\n",
              "    }\n",
              "\n",
              "    [theme=dark] .colab-df-convert {\n",
              "      background-color: #3B4455;\n",
              "      fill: #D2E3FC;\n",
              "    }\n",
              "\n",
              "    [theme=dark] .colab-df-convert:hover {\n",
              "      background-color: #434B5C;\n",
              "      box-shadow: 0px 1px 3px 1px rgba(0, 0, 0, 0.15);\n",
              "      filter: drop-shadow(0px 1px 2px rgba(0, 0, 0, 0.3));\n",
              "      fill: #FFFFFF;\n",
              "    }\n",
              "  </style>\n",
              "\n",
              "      <script>\n",
              "        const buttonEl =\n",
              "          document.querySelector('#df-20318cd0-2f8c-4f4d-aa6f-afaedde44f1a button.colab-df-convert');\n",
              "        buttonEl.style.display =\n",
              "          google.colab.kernel.accessAllowed ? 'block' : 'none';\n",
              "\n",
              "        async function convertToInteractive(key) {\n",
              "          const element = document.querySelector('#df-20318cd0-2f8c-4f4d-aa6f-afaedde44f1a');\n",
              "          const dataTable =\n",
              "            await google.colab.kernel.invokeFunction('convertToInteractive',\n",
              "                                                     [key], {});\n",
              "          if (!dataTable) return;\n",
              "\n",
              "          const docLinkHtml = 'Like what you see? Visit the ' +\n",
              "            '<a target=\"_blank\" href=https://colab.research.google.com/notebooks/data_table.ipynb>data table notebook</a>'\n",
              "            + ' to learn more about interactive tables.';\n",
              "          element.innerHTML = '';\n",
              "          dataTable['output_type'] = 'display_data';\n",
              "          await google.colab.output.renderOutput(dataTable, element);\n",
              "          const docLink = document.createElement('div');\n",
              "          docLink.innerHTML = docLinkHtml;\n",
              "          element.appendChild(docLink);\n",
              "        }\n",
              "      </script>\n",
              "    </div>\n",
              "  </div>\n",
              "  "
            ]
          },
          "metadata": {},
          "execution_count": 74
        }
      ],
      "source": [
        "\n",
        "X['Feature 3']=X.apply(lambda x: 2*x['Feature 1']*x[\"Feature 2\"]/(x['Feature 1']+x[\"Feature 2\"]),axis=1)#2*a*b/(a+b)\n",
        "print(X.shape)\n",
        "X"
      ]
    },
    {
      "cell_type": "markdown",
      "metadata": {
        "id": "DcQw3_iq_3Sh"
      },
      "source": [
        "#train with feature 3"
      ]
    },
    {
      "cell_type": "code",
      "execution_count": 75,
      "metadata": {
        "id": "ANa72JAl0pyT"
      },
      "outputs": [],
      "source": [
        "w,b,l=svc.fit(X[:-1].to_numpy(),y[:-1].to_numpy()) # train everything except last row"
      ]
    },
    {
      "cell_type": "code",
      "execution_count": 76,
      "metadata": {
        "colab": {
          "base_uri": "https://localhost:8080/",
          "height": 407
        },
        "id": "XfBe2XrI00I4",
        "outputId": "d307de91-01f0-4ed0-882a-97196f406a9b"
      },
      "outputs": [
        {
          "output_type": "execute_result",
          "data": {
            "text/plain": [
              "Text(0, 0.5, 'Loss')"
            ]
          },
          "metadata": {},
          "execution_count": 76
        },
        {
          "output_type": "display_data",
          "data": {
            "text/plain": [
              "<Figure size 720x432 with 1 Axes>"
            ],
            "image/png": "[encoded data removed]"
          },
          "metadata": {
            "needs_background": "light"
          }
        }
      ],
      "source": [
        "plt.plot(range(0,len(l)),l)\n",
        "plt.xlabel(\"Epochs\")\n",
        "plt.rcParams[\"figure.figsize\"] = (10,6)\n",
        "plt.ylabel(\"Loss\")"
      ]
    },
    {
      "cell_type": "code",
      "execution_count": 77,
      "metadata": {
        "colab": {
          "base_uri": "https://localhost:8080/"
        },
        "id": "oMk46hBa1SSP",
        "outputId": "4bf56a2b-8334-4700-a7a4-2ff6d3797cde"
      },
      "outputs": [
        {
          "output_type": "stream",
          "name": "stdout",
          "text": [
            "Weight:[[ 0.02159314  0.00297693 -0.96020703]] Bias: 1.0070000000000254\n"
          ]
        }
      ],
      "source": [
        "print(f\"Weight:{w} Bias: {b}\")"
      ]
    },
    {
      "cell_type": "code",
      "execution_count": 78,
      "metadata": {
        "colab": {
          "base_uri": "https://localhost:8080/"
        },
        "id": "v8utjquTGNB0",
        "outputId": "6961b845-47c8-4ffe-ee08-802cac0abec2"
      },
      "outputs": [
        {
          "output_type": "execute_result",
          "data": {
            "text/plain": [
              "array([ 1.,  1.,  1.,  1.,  1.,  1.,  1.,  1.,  1.,  1.,  1.,  1.,  1.,\n",
              "        1., -1., -1., -1., -1.])"
            ]
          },
          "metadata": {},
          "execution_count": 78
        }
      ],
      "source": [
        "svc.predict(X.to_numpy())"
      ]
    },
    {
      "cell_type": "markdown",
      "metadata": {
        "id": "D7FqOnDA6Wvv"
      },
      "source": [
        "## predicting test data (4,4)"
      ]
    },
    {
      "cell_type": "code",
      "execution_count": 79,
      "metadata": {
        "colab": {
          "base_uri": "https://localhost:8080/"
        },
        "id": "xKIlTFSLAGtN",
        "outputId": "60ee1242-23a2-4bae-e49d-127ea46d129b"
      },
      "outputs": [
        {
          "output_type": "execute_result",
          "data": {
            "text/plain": [
              "-1.0"
            ]
          },
          "metadata": {},
          "execution_count": 79
        }
      ],
      "source": [
        "test = (4,4,4) # feature 3 of test data(4,4) is 4 hence (4,4,4)\n",
        "svc.predict(test)"
      ]
    },
    {
      "cell_type": "code",
      "execution_count": 80,
      "metadata": {
        "colab": {
          "base_uri": "https://localhost:8080/",
          "height": 374
        },
        "id": "ec9EFKdOAKps",
        "outputId": "670779cf-16df-48a3-cdee-df8a59a26a78"
      },
      "outputs": [
        {
          "output_type": "display_data",
          "data": {
            "text/plain": [
              "<Figure size 720x432 with 1 Axes>"
            ],
            "image/png": "[encoded data removed]"
          },
          "metadata": {
            "needs_background": "light"
          }
        }
      ],
      "source": [
        "def visualize():\n",
        "    # Visualize the data points and the decision boundary\n",
        "    sns.scatterplot(x=X.values[:,0], \n",
        "                    y=X.values[:, 2], \n",
        "                    hue=y,\n",
        "                    markers=['o','x','1'],\n",
        "                    s=200,\n",
        "                    palette='crest')\n",
        "\n",
        "    # Define the hyperplane function as (w.x+b)/|w|\n",
        "    def hyperplane(x, w, b):\n",
        "        return (-w[0][0]*x-b) / w[0][2]\n",
        "\n",
        "    # Set the data range for the plot\n",
        "    datarange = (min(X.iloc[:,0])*0.9,max(X.iloc[:,0])*1.1)\n",
        "    hyp_x_min = datarange[0]\n",
        "    hyp_x_max = datarange[1]\n",
        "\n",
        "    # Plot the positive support vector hyperplane\n",
        "    psv1 = hyperplane(hyp_x_min, w, b)\n",
        "    psv2 = hyperplane(hyp_x_max, w, b)\n",
        "    plt.plot([hyp_x_min,hyp_x_max],[psv1,psv2], 'k')\n",
        "\n",
        "    # Plot the negative support vector hyperplane\n",
        "    nsv1 = hyperplane(hyp_x_min, w, b)\n",
        "    nsv2 = hyperplane(hyp_x_max, w, b)\n",
        "    plt.plot([hyp_x_min,hyp_x_max],[nsv1,nsv2], 'k')\n",
        "\n",
        "    # Plot the decision boundary\n",
        "    db1 = hyperplane(hyp_x_min, w, b)\n",
        "    db2 = hyperplane(hyp_x_max, w, b)\n",
        "    plt.plot([hyp_x_min,hyp_x_max],[db1,db2], 'y--')\n",
        "\n",
        "    # Show the plot\n",
        "    plt.show()\n",
        "visualize()"
      ]
    },
    {
      "cell_type": "markdown",
      "metadata": {
        "id": "A9tqo4FUHWyl"
      },
      "source": [
        "# We get proper result with feature 3\n",
        "# The main problem with first iteration is that the weight were properly distributed among the features and it might have worked with Poly SVM.\n",
        "# Benefit for feature 3(tranformation) adding feature 3 give us a good linear hyperplane which seperates the -1 and 1 clearly as shown in the plot.\n",
        "# Feature 3 has higher weight (dot product) which will also help with classification."
      ]
    },
    {
      "cell_type": "code",
      "execution_count": 80,
      "metadata": {
        "id": "4q37cWJyHwYT"
      },
      "outputs": [],
      "source": []
    }
  ],
  "metadata": {
    "colab": {
      "provenance": [],
      "include_colab_link": true
    },
    "kernelspec": {
      "display_name": "Python 3",
      "name": "python3"
    },
    "language_info": {
      "name": "python"
    }
  },
  "nbformat": 4,
  "nbformat_minor": 0
}